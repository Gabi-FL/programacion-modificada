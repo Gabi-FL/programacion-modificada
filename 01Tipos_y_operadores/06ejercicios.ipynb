{
 "cells": [
  {
   "cell_type": "markdown",
   "metadata": {},
   "source": [
    "# Ejercicios UD1\n",
    "\n",
    "## Ejercicio 1\n",
    "\n",
    "Crea un programa que pida un número al usuario y muestre su doble.\n"
   ]
  },
  {
   "cell_type": "code",
   "execution_count": 1,
   "metadata": {},
   "outputs": [
    {
     "name": "stdout",
     "output_type": "stream",
     "text": [
      "El doble de ese número es 52\n"
     ]
    }
   ],
   "source": [
    "\n",
    "numero = int(input(\"Dime un número\"))\n",
    "print (\"El doble de ese número es\", numero * 2)"
   ]
  },
  {
   "cell_type": "markdown",
   "metadata": {},
   "source": [
    "\n",
    "## Ejercicio 2\n",
    "\n",
    "Crea un programa que pida el usuario la base y exponente de una potencia y calcule su resultado.\n"
   ]
  },
  {
   "cell_type": "code",
   "execution_count": 2,
   "metadata": {},
   "outputs": [
    {
     "name": "stdout",
     "output_type": "stream",
     "text": [
      "Vamos a calcular una potencia\n",
      "El resultado es 9\n"
     ]
    }
   ],
   "source": [
    "print (\"Vamos a calcular una potencia\")\n",
    "base = float(input(\"Dime la base\\n\"))\n",
    "exponente = float(input(\"Dime el exponente al que quieres elevar esa base\\n\"))\n",
    "print (\"El resultado es\", base ** exponente)"
   ]
  },
  {
   "cell_type": "markdown",
   "metadata": {},
   "source": [
    "\n",
    "## Ejercicio 3\n",
    "\n",
    "Busca en la documentación oficial de Python qué realiza y cómo se utiliza la función `round()` (https://docs.python.org/3/library/functions.html). Prueba algunos ejemplos con diferentes números. Utilízala para redondear los resultados de los siguientes ejercicios.\n"
   ]
  },
  {
   "cell_type": "code",
   "execution_count": 10,
   "metadata": {},
   "outputs": [
    {
     "name": "stdout",
     "output_type": "stream",
     "text": [
      "5.24\n"
     ]
    }
   ],
   "source": [
    "numero = float(input (\"numero\"))\n",
    "print (round(numero, 2))"
   ]
  },
  {
   "cell_type": "markdown",
   "metadata": {},
   "source": [
    "\n",
    "## Ejercicio 4\n",
    "\n",
    "Crea un programa que dado el nombre de una persona y su peso y altura en kg y cm, imprime su peso en libras, su altura en pies y su IMC (Índice de Masa Corporal). "
   ]
  },
  {
   "cell_type": "code",
   "execution_count": 5,
   "metadata": {},
   "outputs": [
    {
     "name": "stdout",
     "output_type": "stream",
     "text": [
      "Paco tu IMC es de 21.42 tu altura en pies es de 6.73 y tu peso en libras es de 198.42\n"
     ]
    }
   ],
   "source": [
    "nombre = input(\"Hola, vamos a calcular tu IMC y a convertir las unidades de tu peso y altura, primero dime tu nombre\\n\")\n",
    "altura_en_cm = int(input(\"Escribe tu altura en cm\\n\"))\n",
    "peso_en_kg = float(input(\"Escribe tu peso en kg\\n\"))\n",
    "KG_A_LIBRAS = 2.20462262\n",
    "CM_A_PIES = 0.0328084\n",
    "print (nombre, \"tu IMC es de\", round(peso_en_kg / ((altura_en_cm / 100) ** 2), 2), \"tu altura en pies es de\", round((altura_en_cm * CM_A_PIES), 2), \"y tu peso en libras es de\", round((peso_en_kg * KG_A_LIBRAS), 2))"
   ]
  },
  {
   "cell_type": "markdown",
   "metadata": {},
   "source": [
    "\n",
    "## Ejercicio 5\n",
    "\n",
    "Crea un programa que dada una cantidad en euros, devuelve su valor en dólares.\n"
   ]
  },
  {
   "cell_type": "code",
   "execution_count": 19,
   "metadata": {},
   "outputs": [
    {
     "name": "stdout",
     "output_type": "stream",
     "text": [
      "20.5 euros son 22.96 dólares americanos\n"
     ]
    }
   ],
   "source": [
    "valor_en_euros = float(input(\"Dime el valor en euros que quieres convertir a dólares\\n\"))\n",
    "EURO_A_DOLAR = 1.12\n",
    "print (valor_en_euros, \"euros son\", round((valor_en_euros * EURO_A_DOLAR), 2), \"dólares americanos\")"
   ]
  },
  {
   "cell_type": "markdown",
   "metadata": {},
   "source": [
    "## Ejercicio 6\n",
    "\n",
    "Crea un programa que dada una cantidad en dólares, devuelve su valor en euros.\n"
   ]
  },
  {
   "cell_type": "code",
   "execution_count": 20,
   "metadata": {},
   "outputs": [
    {
     "name": "stdout",
     "output_type": "stream",
     "text": [
      "50.65 dólares son 45.59 euros\n"
     ]
    }
   ],
   "source": [
    "valor_en_dolares = float(input(\"dime el valor en dólares americanos que quieres convertir a euros\\n\"))\n",
    "DOLAR_A_EURO = 0.9\n",
    "print (valor_en_dolares, \"dólares son\", round((valor_en_dolares * DOLAR_A_EURO), 2), \"euros\")"
   ]
  },
  {
   "cell_type": "markdown",
   "metadata": {},
   "source": [
    "## Ejercicio 7\n",
    "\n",
    "Crea un programa que permita calcular la hipotenusa (`h`) de un triángulo rectángulo a partir de sus catetos (`a` y `b`)\n"
   ]
  },
  {
   "cell_type": "code",
   "execution_count": 22,
   "metadata": {},
   "outputs": [
    {
     "name": "stdout",
     "output_type": "stream",
     "text": [
      "El valor de la hipotenusa es 5.0\n"
     ]
    }
   ],
   "source": [
    "cateto_uno = float(input(\"¿Quieres calcular la hipotenusa de un triángulo rectángulo? Dime el valor de uno de sus catetos\\n\"))\n",
    "cateto_dos = float(input(\"Dime el valor de su otro cateto en las mismas unidades que el anterior\\n\"))\n",
    "print (\"El valor de la hipotenusa es\", round((((cateto_uno ** 2) + (cateto_dos ** 2)) ** 0.5), 3))"
   ]
  },
  {
   "cell_type": "code",
   "execution_count": 9,
   "metadata": {},
   "outputs": [
    {
     "name": "stdout",
     "output_type": "stream",
     "text": [
      "El valor de la hipotenusa es 5.0\n"
     ]
    }
   ],
   "source": [
    "import math\n",
    "x= float(input(\"¿Quieres calcular la hipotenusa de un triángulo rectángulo? Dime el valor de uno de sus catetos\\n\"))\n",
    "y = float(input(\"Dime el valor de su otro cateto en las mismas unidades que el anterior\\n\"))\n",
    "print (\"El valor de la hipotenusa es\", math.hypot (x, y))"
   ]
  },
  {
   "cell_type": "code",
   "execution_count": 8,
   "metadata": {},
   "outputs": [
    {
     "name": "stdout",
     "output_type": "stream",
     "text": [
      "El valor de la hipotenusa es 5.0\n"
     ]
    }
   ],
   "source": [
    "import math\n",
    "x= float(input(\"¿Quieres calcular la hipotenusa de un triángulo rectángulo? Dime el valor de uno de sus catetos\\n\"))\n",
    "y = float(input(\"Dime el valor de su otro cateto en las mismas unidades que el anterior\\n\"))\n",
    "print (\"El valor de la hipotenusa es\", round((math.sqrt(x ** 2 + y ** 2)), 3))\n",
    "       "
   ]
  },
  {
   "attachments": {
    "area-esfera.png": {
     "image/png": "[encoded data removed]"
    },
    "volumen-esfera.png": {
     "image/png": "[encoded data removed]"
    }
   },
   "cell_type": "markdown",
   "metadata": {},
   "source": [
    " \n",
    "## Ejercicio 8\n",
    "\n",
    "Crea un programa que permita calcular el área y volumen de una esfera a partir de su radio (r).\n",
    "\n",
    "![area-esfera.png](attachment:area-esfera.png)\n",
    "\n",
    "![volumen-esfera.png](attachment:volumen-esfera.png)\n",
    "\n",
    "Para utilizar la constante PI, debes seguir estos pasos:\n"
   ]
  },
  {
   "cell_type": "code",
   "execution_count": 1,
   "metadata": {},
   "outputs": [
    {
     "name": "stdout",
     "output_type": "stream",
     "text": [
      "3.141592653589793\n"
     ]
    }
   ],
   "source": [
    "import math\n",
    "\n",
    "print(math.pi)"
   ]
  },
  {
   "cell_type": "code",
   "execution_count": 24,
   "metadata": {},
   "outputs": [
    {
     "name": "stdout",
     "output_type": "stream",
     "text": [
      "El área de esa circunferencia es de 50.27 y su volumen es de 34\n"
     ]
    }
   ],
   "source": [
    "radio = float(input(\"Introduce el radio de la esfera\"))\n",
    "import math\n",
    "print (\"El área de esa esfera es de\", round((4 * math.pi * (radio ** 2)), 2), \"y su volumen es de\", round((4 * math.pi * (radio ** 3) / 3)))"
   ]
  },
  {
   "attachments": {
    "area-cilindro.png": {
     "image/png": "[encoded data removed]"
    },
    "volumen-cilindro.png": {
     "image/png": "[encoded data removed]"
    }
   },
   "cell_type": "markdown",
   "metadata": {},
   "source": [
    "\n",
    "## Ejercicio 9\n",
    "\n",
    "Crea un programa que dado el radio (r) y la altura (h) del cilindro, calcula su área y volumen.\n",
    "\n",
    "![area-cilindro.png](attachment:area-cilindro.png)\n",
    "\n",
    "![volumen-cilindro.png](attachment:volumen-cilindro.png)\n"
   ]
  },
  {
   "cell_type": "code",
   "execution_count": 25,
   "metadata": {},
   "outputs": [
    {
     "name": "stdout",
     "output_type": "stream",
     "text": [
      "El área del cilindro es de 1570.8 y su volumen es de 785.4\n"
     ]
    }
   ],
   "source": [
    "import math\n",
    "radio = float(input(\"Introduce el radio del cilindro\"))\n",
    "altura = float(input(\"introduce la altura del cilindro\"))\n",
    "print (\"El área del cilindro es de\", round((2 * math.pi * radio * (radio * altura)), 2), \"y su volumen es de\", round((math.pi * (radio ** 2) * altura), 2))"
   ]
  },
  {
   "attachments": {
    "formula-x-y.png": {
     "image/png": "[encoded data removed]"
    }
   },
   "cell_type": "markdown",
   "metadata": {},
   "source": [
    "\n",
    "## Ejercicio 10\n",
    "\n",
    "Crea un programa que pida un valor por pantalla (x) y haga el siguiente cálculo:\n",
    "\n",
    "![formula-x-y.png](attachment:formula-x-y.png)\n",
    "\n",
    " \n",
    "Puedes hacer pruebas con los siguientes datos:\n",
    "\n",
    "|x|y|\n",
    "|-|-|\n",
    "|1|0.6000000000000001|\n",
    "|10|0.09901951266867294|\n",
    "|100|0.009999000199950014|\n",
    "|-5|-0.19258202567760344|\n"
   ]
  },
  {
   "cell_type": "code",
   "execution_count": 30,
   "metadata": {},
   "outputs": [
    {
     "name": "stdout",
     "output_type": "stream",
     "text": [
      "Para ese valor de x el valor de y es 0.6000000000000001\n"
     ]
    }
   ],
   "source": [
    "valor_x = float(input(\"Indica un valor para x\\n\"))\n",
    "print (\"Para ese valor de x el valor de y es\", float(1 / (valor_x + 1 / (valor_x + 1 / (valor_x + (1 / valor_x))))))"
   ]
  },
  {
   "cell_type": "markdown",
   "metadata": {},
   "source": [
    "## Ejercicio 11\n",
    "\n",
    "Crea un programa que a partir de la hora de comienzo de un evento y su duración (3 valores: hora, minutos, duración en minutos) calcula la hora de finalización del evento. No te preocupes de los errores que pueda introducir el usuario (hora inválida).\n",
    "\n",
    "PISTA: Emplea el operador módulo (`%`)\n",
    "\n",
    "\n"
   ]
  },
  {
   "cell_type": "code",
   "execution_count": 14,
   "metadata": {},
   "outputs": [
    {
     "name": "stdout",
     "output_type": "stream",
     "text": [
      "0:30\n"
     ]
    }
   ],
   "source": [
    "hora_de_comienzo = int(input(\"Indica la hora de comienzo\"))\n",
    "minutos_comienzo = int (input(\"indica los minutos de comienzo\"))\n",
    "duracion = int(input(\"indica la duración en minutos\"))\n",
    "minutos_totales = minutos_comienzo + duracion\n",
    "minutos_resultado = minutos_totales % 60\n",
    "horas_resultado = (hora_de_comienzo + minutos_totales // 60) % 24\n",
    "print (horas_resultado, minutos_resultado, sep=\":\")"
   ]
  }
 ],
 "metadata": {
  "kernelspec": {
   "display_name": "Python 3",
   "language": "python",
   "name": "python3"
  },
  "language_info": {
   "codemirror_mode": {
    "name": "ipython",
    "version": 3
   },
   "file_extension": ".py",
   "mimetype": "text/x-python",
   "name": "python",
   "nbconvert_exporter": "python",
   "pygments_lexer": "ipython3",
   "version": "3.12.6"
  },
  "orig_nbformat": 4
 },
 "nbformat": 4,
 "nbformat_minor": 2
}
