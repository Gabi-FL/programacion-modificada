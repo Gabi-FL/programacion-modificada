{
 "cells": [
  {
   "cell_type": "markdown",
   "metadata": {},
   "source": [
    "# Variables\n",
    "\n",
    "Las **variables** son espacios de memoria que se reservan para almacenar datos.\n",
    "\n",
    "![Variable como una caja](images/variable_caja.png)\n",
    "\n",
    "Los componentes o elementos de una variable en Python son:\n",
    "\n",
    "- Un nombre.\n",
    "- Un valor (el contenido del contenedor).\n",
    "\n",
    "## Nombre de la variable\n",
    "\n",
    "Si se desea nombrar una variable, se deben seguir las siguientes reglas:\n",
    "\n",
    "- Debe estar compuesto por combinaciones de MAYÚSCULAS, minúsculas, dígitos, y el carácter _ (guion bajo).\n",
    "- Debe comenzar con una letra o guion bajo.\n",
    "- Las mayúsculas y minúsculas se consideran distintas (Python es *caseSensitive*).\n",
    "- El nombre de las variables no pueden ser igual a alguna de las palabras reservadas de Python.\n",
    "\n",
    "```python\n",
    "['False', 'None', 'True', 'and', 'as', 'assert', 'break', 'class', 'continue', 'def', 'del', 'elif', 'else', 'except', 'finally', 'for', 'from', 'global', 'if', 'import', 'in', 'is', 'lambda', 'nonlocal', 'not', 'or', 'pass', 'raise', 'return', 'try', 'while', 'with', 'yield']\n",
    "```\n",
    "\n",
    "### Convención de nomenclatura para variables y funciones en Python:\n",
    "\n",
    "- Los nombres de las variables deben estar en minúsculas, con palabras separadas por guiones bajos para mejorar la legibilidad, *snake case* (por ejemplo: var, mi_variable).\n",
    "- Los nombres de las funciones siguen la misma convención que los nombres de las variables (por ejemplo: `fun`, `mi_función`).\n",
    "- También es posible usar *camelCase* (por ejemplo: `miVariable`), pero solo en contextos donde ese ya es el estilo predominante, para mantener la coherencia con el código existente.\n",
    "\n",
    "## Contenido de las variables\n",
    "\n",
    "Cualquiera de los tipos de valores que hemos visto (y mucho más).\n",
    "\n",
    "## Creación de variables\n",
    "\n",
    "Una variable se crea cuando se le asigna un valor. A diferencia de otros lenguajes de programación, **no es necesario declararla**.\n",
    "\n",
    "La creación (o su sintaxis) es muy simple: solo utiliza el nombre de la variable deseada, después el signo de igual (=) y el valor que se desea colocar dentro de la variable."
   ]
  },
  {
   "cell_type": "code",
   "execution_count": null,
   "metadata": {},
   "outputs": [],
   "source": [
    "modulo = \"Programación\"\n",
    "print(modulo)"
   ]
  },
  {
   "cell_type": "code",
   "execution_count": null,
   "metadata": {},
   "outputs": [],
   "source": [
    "nota_media = 9\n",
    "nome = \"Gabi\"\n",
    "print (\"o meu nome é\", nome, \"e a miña nota media é de\", nota_media, \"en\", modulo)"
   ]
  },
  {
   "cell_type": "markdown",
   "metadata": {},
   "source": [
    "Vemos que la función `print()` también puede recibir como argumentos variables."
   ]
  },
  {
   "cell_type": "markdown",
   "metadata": {},
   "source": [
    "No podemos utilizar una variable que no haya sido creada previamente, es decir, a la que no se le haya asignado un valor:"
   ]
  },
  {
   "cell_type": "code",
   "execution_count": null,
   "metadata": {},
   "outputs": [],
   "source": [
    "asignatura = \"Programación\"\n",
    "print(asignatura)"
   ]
  },
  {
   "cell_type": "markdown",
   "metadata": {},
   "source": [
    "Podemos combinar variables con literales en `print()`:"
   ]
  },
  {
   "cell_type": "code",
   "execution_count": null,
   "metadata": {},
   "outputs": [],
   "source": [
    "nombre = \"Xiana\"\n",
    "dia = 14\n",
    "print(\"Buenos días\", nombre, \"hoy es día\", dia)"
   ]
  },
  {
   "cell_type": "markdown",
   "metadata": {},
   "source": [
    "También podemos concatenar cadenas con el operador `+`:"
   ]
  },
  {
   "cell_type": "code",
   "execution_count": null,
   "metadata": {},
   "outputs": [],
   "source": [
    "nombre = \"Xiana\"\n",
    "print(\"Buenos días \" + nombre)"
   ]
  },
  {
   "cell_type": "markdown",
   "metadata": {},
   "source": [
    "**¡Ojo!** No se pueden concatenar cadenas con otros tipos de datos por este método (primero habrá que convertirlos a cadenas)."
   ]
  },
  {
   "cell_type": "code",
   "execution_count": null,
   "metadata": {},
   "outputs": [],
   "source": [
    "dia = 14\n",
    "print(\"Hoy es día\", dia)\n",
    "\n"
   ]
  },
  {
   "cell_type": "markdown",
   "metadata": {},
   "source": [
    "## Operador de asignación `=`\n",
    "\n",
    "Nos sirve para crear y dar valor a una variable o para modificarla:"
   ]
  },
  {
   "cell_type": "code",
   "execution_count": null,
   "metadata": {},
   "outputs": [],
   "source": [
    "numero = 0\n",
    "print(\"El número es\", numero)\n",
    "numero = 4\n",
    "print(\"El número es\", numero)"
   ]
  },
  {
   "cell_type": "markdown",
   "metadata": {},
   "source": [
    "También podemos asignarle el resultado de una expresión:"
   ]
  },
  {
   "cell_type": "code",
   "execution_count": null,
   "metadata": {},
   "outputs": [],
   "source": [
    "n1 = 5\n",
    "n2 = n1 + 4\n",
    "print(\"n1 =\", n1, \"n2 =\", n2)"
   ]
  },
  {
   "cell_type": "markdown",
   "metadata": {},
   "source": [
    "Incluso con este tipo de expresiones (que parece matemáticamente incorrecto). ¿Cuál será el resultado?"
   ]
  },
  {
   "cell_type": "code",
   "execution_count": null,
   "metadata": {},
   "outputs": [],
   "source": [
    "suma = 0\n",
    "suma = suma + 3\n",
    "print(suma)"
   ]
  },
  {
   "cell_type": "markdown",
   "metadata": {},
   "source": [
    "## Bloque de ejercicios 1\n",
    "\n",
    "Los valores con los que trabajan los programas serán asignados directamente a variables:\n",
    "\n",
    "1. Crea un programa que permita calcular el área de un triángulo.\n"
   ]
  },
  {
   "cell_type": "code",
   "execution_count": 34,
   "metadata": {},
   "outputs": [
    {
     "name": "stdout",
     "output_type": "stream",
     "text": [
      "A área do triángulo é de 15.0 cm²\n"
     ]
    }
   ],
   "source": [
    "base = 6\n",
    "altura = 5\n",
    "area_triangulo = base * altura / 2\n",
    "print (\"A área do triángulo é de\", area_triangulo, \"cm\\u00b2\")"
   ]
  },
  {
   "cell_type": "markdown",
   "metadata": {},
   "source": [
    "2. Crea un programa que permita calcular el área y perímetro de un rectángulo.\n"
   ]
  },
  {
   "cell_type": "code",
   "execution_count": 33,
   "metadata": {},
   "outputs": [
    {
     "name": "stdout",
     "output_type": "stream",
     "text": [
      "a área do rectángulo é de 30 cm²\n",
      "e o seu perímetro son 22 cm\n"
     ]
    }
   ],
   "source": [
    "base = 6\n",
    "altura = 5\n",
    "area_rectangulo = base * altura\n",
    "print (\"a área do rectángulo é de\", area_rectangulo, \"cm\\u00b2\")\n",
    "perimetro_rectangulo = base * 2 + altura * 2\n",
    "print (\"e o seu perímetro son\", perimetro_rectangulo, \"cm\")"
   ]
  },
  {
   "cell_type": "markdown",
   "metadata": {},
   "source": [
    "3. A partir de 3 datos `a`, `b` e `c` calcula el resultado de la siguiente operación: \n",
    "$\n",
    "(a+b-c)^3\n",
    "$\n",
    "  \n"
   ]
  },
  {
   "cell_type": "code",
   "execution_count": 37,
   "metadata": {},
   "outputs": [
    {
     "name": "stdout",
     "output_type": "stream",
     "text": [
      "(a+ b - c)³ =  8\n"
     ]
    }
   ],
   "source": [
    "dato_a = 3\n",
    "dato_b = 4\n",
    "dato_c = 5\n",
    "print (\"(a+ b - c)\\u00b3 = \", (dato_a + dato_b - dato_c) ** 3)"
   ]
  },
  {
   "cell_type": "code",
   "execution_count": 53,
   "metadata": {},
   "outputs": [
    {
     "name": "stdout",
     "output_type": "stream",
     "text": [
      "O resultado de (a+ b - c)³ é 8\n"
     ]
    }
   ],
   "source": [
    "dato_a = 3\n",
    "dato_b = 4\n",
    "dato_c = 5\n",
    "resultado = (dato_a + dato_b - dato_c) ** 3\n",
    "print (\"O resultado de (a+ b - c)\\u00b3 é\", resultado)"
   ]
  },
  {
   "cell_type": "markdown",
   "metadata": {},
   "source": [
    "## Operadores abreviados\n",
    "\n",
    "Si `op` es un operador de dos argumentos (esta es una condición muy imporante) y el operador es utilizado en el siguiente contexto:\n",
    "\n",
    "```python\n",
    "variable = variable op expresión\n",
    "```\n",
    "\n",
    "Se puede simplificar así:\n",
    "\n",
    "```python\n",
    "variable op= expresión\n",
    "```"
   ]
  },
  {
   "cell_type": "code",
   "execution_count": null,
   "metadata": {},
   "outputs": [],
   "source": [
    "contador = 0\n",
    "contador = contador + 1\n",
    "print(contador)"
   ]
  },
  {
   "cell_type": "markdown",
   "metadata": {},
   "source": [
    "Es lo mismo que:"
   ]
  },
  {
   "cell_type": "code",
   "execution_count": 54,
   "metadata": {},
   "outputs": [
    {
     "name": "stdout",
     "output_type": "stream",
     "text": [
      "1\n",
      "2\n",
      "6\n"
     ]
    }
   ],
   "source": [
    "contador = 0\n",
    "contador += 1\n",
    "print(contador)\n",
    "contador += 1\n",
    "print(contador)\n",
    "contador += 1\n",
    "contador += 1\n",
    "contador += 1\n",
    "contador += 1\n",
    "print(contador)"
   ]
  },
  {
   "cell_type": "markdown",
   "metadata": {},
   "source": [
    "Probemos esto con los otros operadores estudiados:"
   ]
  },
  {
   "cell_type": "code",
   "execution_count": 41,
   "metadata": {},
   "outputs": [
    {
     "name": "stdout",
     "output_type": "stream",
     "text": [
      "9\n",
      "10\n"
     ]
    }
   ],
   "source": [
    "contador = 10\n",
    "contador -= 1\n",
    "print(contador)\n",
    "contador += 1\n",
    "print (contador)"
   ]
  },
  {
   "cell_type": "code",
   "execution_count": 42,
   "metadata": {},
   "outputs": [
    {
     "name": "stdout",
     "output_type": "stream",
     "text": [
      "8\n"
     ]
    }
   ],
   "source": [
    "numero = 4\n",
    "# numero = numero * 2\n",
    "numero *= 2\n",
    "print(numero)"
   ]
  },
  {
   "cell_type": "code",
   "execution_count": 43,
   "metadata": {},
   "outputs": [
    {
     "name": "stdout",
     "output_type": "stream",
     "text": [
      "1.5\n"
     ]
    }
   ],
   "source": [
    "numero = 3\n",
    "numero /= 2\n",
    "print(numero)"
   ]
  },
  {
   "cell_type": "code",
   "execution_count": 44,
   "metadata": {},
   "outputs": [
    {
     "name": "stdout",
     "output_type": "stream",
     "text": [
      "1\n"
     ]
    }
   ],
   "source": [
    "numero = 7\n",
    "numero %= 2\n",
    "print(numero)"
   ]
  },
  {
   "cell_type": "code",
   "execution_count": 45,
   "metadata": {},
   "outputs": [
    {
     "name": "stdout",
     "output_type": "stream",
     "text": [
      "3\n"
     ]
    }
   ],
   "source": [
    "numero = 7\n",
    "numero //= 2\n",
    "print(numero)"
   ]
  },
  {
   "cell_type": "code",
   "execution_count": 46,
   "metadata": {},
   "outputs": [
    {
     "name": "stdout",
     "output_type": "stream",
     "text": [
      "64\n"
     ]
    }
   ],
   "source": [
    "numero = 4\n",
    "numero **= 3\n",
    "print(numero)"
   ]
  },
  {
   "cell_type": "markdown",
   "metadata": {},
   "source": [
    "# Comentarios\n",
    "\n",
    "Los comentarios se utilizan para colocar información adicional en el código. \n",
    "\n",
    "El intérprete los ignora, solo sirven para dar información a lxs programadorxs.\n",
    "\n",
    "En Python, un comentario es un fragmento de texto que comienza con un #. El comentario se extiende hasta el final de la línea.\n",
    "\n",
    "Si deseas colocar un comentario que abarque varias líneas, es necesario colocar un # al inicio de cada línea. "
   ]
  },
  {
   "cell_type": "code",
   "execution_count": 47,
   "metadata": {},
   "outputs": [
    {
     "name": "stdout",
     "output_type": "stream",
     "text": [
      "Hola!\n"
     ]
    }
   ],
   "source": [
    "# Este programa imprime\n",
    "# un saludo en pantalla\n",
    "print(\"Hola!\")  # Se invoca la función print()"
   ]
  },
  {
   "cell_type": "markdown",
   "metadata": {},
   "source": [
    "Además, se puede utilizar un comentario para marcar un fragmento de código que no es necesaria en el momento y no se desea ejecutar:"
   ]
  },
  {
   "cell_type": "code",
   "execution_count": 51,
   "metadata": {},
   "outputs": [
    {
     "name": "stdout",
     "output_type": "stream",
     "text": [
      "3\n"
     ]
    }
   ],
   "source": [
    "numero = 3\n",
    "# numero += 10\n",
    "print(numero)"
   ]
  }
 ],
 "metadata": {
  "kernelspec": {
   "display_name": "Python 3",
   "language": "python",
   "name": "python3"
  },
  "language_info": {
   "codemirror_mode": {
    "name": "ipython",
    "version": 3
   },
   "file_extension": ".py",
   "mimetype": "text/x-python",
   "name": "python",
   "nbconvert_exporter": "python",
   "pygments_lexer": "ipython3",
   "version": "3.12.6"
  },
  "orig_nbformat": 4
 },
 "nbformat": 4,
 "nbformat_minor": 2
}
