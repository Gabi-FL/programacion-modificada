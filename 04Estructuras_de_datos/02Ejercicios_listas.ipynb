{
 "cells": [
  {
   "cell_type": "markdown",
   "metadata": {},
   "source": [
    "# Ejercicios\n",
    "\n",
    "## Ejercicio 0\n",
    "\n",
    "Crea una programa que pregunte al usuario las notas de 10 alumnos y las guarde en una lista\n",
    "\n"
   ]
  },
  {
   "cell_type": "code",
   "execution_count": 2,
   "metadata": {},
   "outputs": [
    {
     "name": "stdout",
     "output_type": "stream",
     "text": [
      "[9.0, 8.0, 7.0, 9.0, 8.0, 7.0, 9.0, 8.0, 8.0, 9.0]\n",
      "8.2\n"
     ]
    }
   ],
   "source": [
    "lista = []\n",
    "for i in range (10):\n",
    "    lista.append(float(input(\"Escribe la nota del alumnx: \")))\n",
    "print(lista)\n",
    "\n",
    "total = 0\n",
    "\n",
    "for nota in lista:\n",
    "    total += nota\n",
    "\n",
    "print(total / len(lista))"
   ]
  },
  {
   "cell_type": "markdown",
   "metadata": {},
   "source": [
    "## Ejercicio 1\n",
    "\n",
    "Crea una función que pida al usuario 5 números y los guarde en una lista y devuelva esa lista.\n",
    "\n",
    "A continuación, muéstrala en orden inverso a como se introdujeron.\n"
   ]
  },
  {
   "cell_type": "code",
   "execution_count": null,
   "metadata": {},
   "outputs": [
    {
     "name": "stdout",
     "output_type": "stream",
     "text": [
      "[1, 2, 3, 4, 5]\n",
      "[5, 4, 3, 2, 1]\n"
     ]
    }
   ],
   "source": [
    "def crea_lista(posiciones: int) -> list:\n",
    "    \"\"\"Crea una lista\n",
    "\n",
    "    Args:\n",
    "        posiciones (int): un entero que determina la longitud de la lista\n",
    "\n",
    "    Returns:\n",
    "        list: la lista de números enteros\n",
    "    \"\"\"\n",
    "    lista = []\n",
    "    for i in range (posiciones):\n",
    "        lista.append(int(input(\"Escribe un número: \")))\n",
    "    print(lista)\n",
    "    return lista\n",
    "\n",
    "lista = crea_lista(5)\n",
    "\n",
    "print(lista[::-1])"
   ]
  },
  {
   "cell_type": "code",
   "execution_count": 2,
   "metadata": {},
   "outputs": [
    {
     "name": "stdout",
     "output_type": "stream",
     "text": [
      "[1, 2, 5, 4, 7]\n",
      "[7, 4, 5, 2, 1]\n"
     ]
    }
   ],
   "source": [
    "def crea_lista(posiciones: int) -> list:\n",
    "\n",
    "    lista = []\n",
    "    for i in range (posiciones):\n",
    "        lista.append(int(input(\"Escribe un número: \")))\n",
    "    print(lista)\n",
    "    return lista\n",
    "\n",
    "def invierte_lista(lista: list) -> list:\n",
    "    \"\"\"Invierte el orden de los elementos de una lista dada\n",
    "\n",
    "    Args:\n",
    "        lista (list): la lista que se le da\n",
    "\n",
    "    Returns:\n",
    "        list: la lsta con los elementos invertidos\n",
    "\n",
    "    >>> invierte_lista([1, 2, 3, 4, 5])\n",
    "    [5, 4, 3, 2, 1]\n",
    "    >>> invierte_lista([])\n",
    "    []\n",
    "    >>> invierte_lista(['a', 'b', 'c'])\n",
    "    ['c', 'b', 'a']\n",
    "    \"\"\"\n",
    "    return lista[::-1]\n",
    "\n",
    "lista = crea_lista(5)\n",
    "\n",
    "lista_invertida = invierte_lista(lista)\n",
    "\n",
    "print (lista_invertida)\n",
    "\n"
   ]
  },
  {
   "cell_type": "markdown",
   "metadata": {},
   "source": [
    "\n",
    "## Ejercicio 2\n",
    "\n",
    "Usando la función del ejercicio anterior, úsala y después busca el mayor de los números introducidos.\n"
   ]
  },
  {
   "cell_type": "code",
   "execution_count": 3,
   "metadata": {},
   "outputs": [
    {
     "name": "stdout",
     "output_type": "stream",
     "text": [
      "[0, 2, 2, 4, 21]\n",
      "21\n"
     ]
    }
   ],
   "source": [
    "print(max(crea_lista(5)))\n"
   ]
  },
  {
   "cell_type": "code",
   "execution_count": null,
   "metadata": {},
   "outputs": [],
   "source": [
    "def crea_lista(posiciones):\n",
    "    lista = []\n",
    "    for i in range (posiciones):\n",
    "        valor = int(input(\"introduce número\"))\n",
    "        lista.append(valor)\n",
    "    return lista\n",
    "\n",
    "def buscar_mayor(lista: list[int]) -> int|None:\n",
    "    \"\"\"Busca el numero mayor de una lista\n",
    "\n",
    "    Args:\n",
    "        lista (list[int]): _description_La lista\n",
    "    \n",
    "    Returns:\n",
    "        int: El mayor valor\n",
    "\n",
    "    >>> buscar_mayor ([2, 5, 1, 4, 9, 0])\n",
    "    9\n",
    "    >>> buscar_mayor ([2, 5, 1, 4, 9, 10])\n",
    "    10\n",
    "    >>> buscar_mayor ([1])\n",
    "    1\n",
    "    >>> buscar_mayor ([20, 5, 1, 4, 9, 0])\n",
    "    20\n",
    "    >>> buscar_mayor ([]) is None\n",
    "    True\n",
    "    \"\"\"\n",
    "    if len(lista) == 0:\n",
    "        return None\n",
    "    mayor = lista [0]\n",
    "    for valor in lista:\n",
    "        if valor > mayor:\n",
    "            mayor = valor\n",
    "    return mayor"
   ]
  },
  {
   "cell_type": "markdown",
   "metadata": {},
   "source": [
    "\n",
    "## Ejercicio 3\n",
    "\n",
    "A partir de una lista, escribe un programa que cree una lista nueva con los elementos de la primera lista que sean impares.\n"
   ]
  },
  {
   "cell_type": "code",
   "execution_count": 8,
   "metadata": {},
   "outputs": [
    {
     "name": "stdout",
     "output_type": "stream",
     "text": [
      "[1, 3, 5, 7]\n"
     ]
    }
   ],
   "source": [
    "numeros = [1, 2, 3, 4, 5, 6, 7, 8]\n",
    "impares = []\n",
    "\n",
    "for numero in numeros:\n",
    "    if numero % 2 != 0:\n",
    "        impares.append(numero)\n",
    "print(impares)\n"
   ]
  },
  {
   "cell_type": "code",
   "execution_count": null,
   "metadata": {},
   "outputs": [],
   "source": [
    "def devuelve_impares(lista: list[int]) -> list[int]:\n",
    "    \"\"\"devuelve otra lista solo con los numeros impares.\n",
    "\n",
    "    Args:\n",
    "        lista (list[int]): la lista inicial\n",
    "\n",
    "    Returns:\n",
    "        list[int]: la lista solo de impares\n",
    "\n",
    "    >>> devuelve_impares ([1, 2, 3, 8, 10])\n",
    "    [1, 3]\n",
    "    >>> devuelve_impares ([2, 8, 10])\n",
    "    []\n",
    "    >>> devuelve_impares ([1, 5, 3, 7, 9])\n",
    "    [1, 5, 3, 7, 9]\n",
    "    \"\"\"\n",
    "    lista_impares = []\n",
    "    for valor in lista:\n",
    "        if valor % 2 != 0:\n",
    "            lista_impares.append(valor)\n",
    "    return lista_impares"
   ]
  },
  {
   "cell_type": "markdown",
   "metadata": {},
   "source": [
    "## Ejercicio 4\n",
    "\n",
    "Escribe una función que reciba una lista de enteros y devuelva otra lista con los dobles de sus elementos.\n"
   ]
  },
  {
   "cell_type": "code",
   "execution_count": 1,
   "metadata": {},
   "outputs": [
    {
     "name": "stdout",
     "output_type": "stream",
     "text": [
      "[2, 4, 6, 8, 10, 12]\n"
     ]
    }
   ],
   "source": [
    "lista = [1, 2, 3, 4, 5, 6]\n",
    "\n",
    "def duplicador(lista: list) -> list:\n",
    "    dobles = []\n",
    "    for i in range(len(lista)):\n",
    "        dobles.append(lista[i] * 2)\n",
    "    return dobles\n",
    "\n",
    "print(duplicador(lista))"
   ]
  },
  {
   "cell_type": "code",
   "execution_count": null,
   "metadata": {},
   "outputs": [],
   "source": [
    "def devuelve_doble(lista: list[int]) -> list[int]:\n",
    "    \"\"\"devuelve una lista cuyos valores son el doble de los de la lista entregada\n",
    "\n",
    "    Args:\n",
    "        lista (list[int]): lista inicial\n",
    "\n",
    "    Returns:\n",
    "        list[int]: lista con los valores duplicados\n",
    "    \n",
    "    >>> devuelve_doble([1, 2, 3, 4])\n",
    "    [2, 4, 6, 8]\n",
    "    >>> devuelve_doble([])\n",
    "    []\n",
    "    >>> devuelve_doble([1])\n",
    "    [2]\n",
    "    >>> devuelve_doble([-1, -2, -3])\n",
    "    [-2, -4, -6]\n",
    "    \"\"\"\n",
    "    lista_dobles = []\n",
    "    for valor in lista:\n",
    "        lista_dobles.append(valor * 2)\n",
    "    return lista_dobles"
   ]
  },
  {
   "cell_type": "code",
   "execution_count": null,
   "metadata": {},
   "outputs": [],
   "source": [
    "def devuelve_doble2(lista: list[int]) -> list[int]:\n",
    "    \"\"\"devuelve una lista cuyos valores son el doble de los de la lista entregada\n",
    "\n",
    "    Args:\n",
    "        lista (list[int]): lista inicial\n",
    "\n",
    "    Returns:\n",
    "        list[int]: lista con los valores duplicados\n",
    "    \n",
    "    >>> devuelve_doble2([1, 2, 3, 4])\n",
    "    [2, 4, 6, 8]\n",
    "    >>> devuelve_doble2([])\n",
    "    []\n",
    "    >>> devuelve_doble2([1])\n",
    "    [2]\n",
    "    >>> devuelve_doble2([-1, -2, -3])\n",
    "    [-2, -4, -6]\n",
    "    \"\"\"\n",
    "    for i in range(len(lista)):\n",
    "        lista[i] *= 2\n",
    "    return lista"
   ]
  },
  {
   "cell_type": "markdown",
   "metadata": {},
   "source": [
    "## Ejercicio 5\n",
    "\n",
    "Usa la función del ejercicio 1 para crear una lista. A continuación, reemplaza todos los números negativos de esa lista por 0."
   ]
  },
  {
   "cell_type": "code",
   "execution_count": null,
   "metadata": {},
   "outputs": [
    {
     "name": "stdout",
     "output_type": "stream",
     "text": [
      "[-1, -2, -3, 1, 2]\n",
      "[0, 0, 0, 1, 2]\n"
     ]
    }
   ],
   "source": [
    "def crea_lista(posicion: int) -> list:\n",
    "    \"\"\"Esta función crea una lista de enteros\n",
    "\n",
    "        Args:\n",
    "        posicion (int): un número entero que determina la longitud de la lista\n",
    "\n",
    "    Returns:\n",
    "        list: la lista de números enteros\n",
    "    \"\"\"\n",
    "    lista = []\n",
    "    for i in range (posicion):\n",
    "        lista.append(int(input(\"Escribe un número: \")))\n",
    "    print(lista)\n",
    "    return lista\n",
    "\n",
    "def sustituir_negativos(lista: list) -> list:\n",
    "    \"\"\"Esta función sustituye los número negativos de la lista por ceros\n",
    "\n",
    "    Args:\n",
    "        lista (list): la lista de números\n",
    "\n",
    "    Returns:\n",
    "        list: _dla lista pero sin negativos\n",
    "    >>> sustituir_negativos([-3, -2, -1, 0, 1, 2, 3, 4])\n",
    "    [0, 0, 0, 0, 1, 2, 3, 4]\n",
    "    \"\"\"\n",
    "    for i in range (len(lista)):\n",
    "        if lista[i] < 0:\n",
    "            lista[i] = 0\n",
    "    return lista\n",
    "\n",
    "lista = crea_lista(5)\n",
    "\n",
    "print (sustituir_negativos(lista))"
   ]
  },
  {
   "cell_type": "code",
   "execution_count": null,
   "metadata": {},
   "outputs": [],
   "source": [
    "def elimina_neg(lista: list[int]) -> list[int]:\n",
    "    \"\"\"reemplaza negativos por ceros en una lista\n",
    "\n",
    "    Args:\n",
    "        lista (list[int]): lista inicial\n",
    "\n",
    "    Returns:\n",
    "        list[int]: lista sin negativos\n",
    "\n",
    "    >>> elimina_neg ([-1, 1, 2, 3])\n",
    "    [0, 1, 2, 3]\n",
    "    >>> elimina_neg ([])\n",
    "    []\n",
    "    >>> elimina_neg ([-1, -1, -2, -3])\n",
    "    [0, 0, 0, 0]\n",
    "    >>> elimina_neg ([1, 2, 3, 4])\n",
    "    [1, 2, 3, 4]\n",
    "    \"\"\"\n",
    "    for i in range(len(lista)):\n",
    "        if lista[i] < 0:\n",
    "            lista[i] = 0\n",
    "    return lista\n"
   ]
  },
  {
   "cell_type": "markdown",
   "metadata": {},
   "source": [
    "## Ejercicio 6\n",
    "\n",
    "Dada una lista de palabras, crea una nueva lista que contenga solo las palabras que tienen más de 5 letras."
   ]
  },
  {
   "cell_type": "code",
   "execution_count": 7,
   "metadata": {},
   "outputs": [
    {
     "name": "stdout",
     "output_type": "stream",
     "text": [
      "[['cuatro', 'catorce', 'dieciseis']]\n"
     ]
    }
   ],
   "source": [
    "\n",
    "def selector_palabras(lista_palabras: list[str]) -> list[str]:\n",
    "    palabras_largas = []\n",
    "    for palabra in lista_palabras:\n",
    "        if len(palabra) > 5:\n",
    "            palabras_largas.append(palabra)\n",
    "    return palabras_largas\n",
    "        \n",
    "lista_palabras = [\"cinco\", \"dos\", \"tres\", \"cuatro\", \"catorce\", \"dieciseis\"]\n",
    "lista_def = [selector_palabras(lista_palabras)]\n",
    "print(lista_def)\n"
   ]
  },
  {
   "cell_type": "code",
   "execution_count": null,
   "metadata": {},
   "outputs": [],
   "source": [
    "def selec_palargas(lista: list[str], longitud: int) -> list[str]:\n",
    "    \"\"\"Dada una lista, selecciona las palabras de más de 5 caracteres y las devuelve en otra lista\n",
    "\n",
    "    Args:\n",
    "        lista (list[str]): lista inicial\n",
    "        longitud (int): longitud de la palabra\n",
    "\n",
    "    Returns:\n",
    "        list[str]: lista con las palabras largas\n",
    "\n",
    "    >>> selec_palargas([\"caca\", \"cacaca\"], 5)\n",
    "    [\"cacaca\"]\n",
    "    >>> selec_palargas([\"cinco\", \"verano\", \"otoños\"], 5)\n",
    "    [\"cinco\", \"verano\", \"otoños\"]\n",
    "    >>> selec_palargas ([], 5)\n",
    "    []\n",
    "    \"\"\"\n",
    "    lista_palargas = []\n",
    "    for palabra in lista:\n",
    "        if len(palabra) >= longitud:\n",
    "            lista_palargas.append(palabra)\n",
    "    return lista_palargas"
   ]
  },
  {
   "cell_type": "markdown",
   "metadata": {},
   "source": [
    "\n",
    "## Ejercicio 7\n",
    "\n",
    "A partir de una lista, escribe un programa que cree una lista nueva eliminando aquellos que están repetidos."
   ]
  },
  {
   "cell_type": "code",
   "execution_count": 8,
   "metadata": {},
   "outputs": [
    {
     "name": "stdout",
     "output_type": "stream",
     "text": [
      "[['cinco', 'dos', 'tres', 'cuatro', 'catorce', 'dieciseis']]\n"
     ]
    }
   ],
   "source": [
    "def eliminar_repes(lista_palabras: list[str]) -> list[str]:\n",
    "    sin_repes = []\n",
    "    for palabra in lista_palabras:\n",
    "        if palabra not in sin_repes:\n",
    "            sin_repes.append(palabra)\n",
    "    return sin_repes\n",
    "\n",
    "lista_palabras = [\"cinco\", \"dos\", \"tres\", \"cuatro\", \"tres\", \"catorce\", \"dieciseis\", \"cuatro\"]\n",
    "sin_repes = [eliminar_repes(lista_palabras)]\n",
    "print(sin_repes)"
   ]
  },
  {
   "cell_type": "code",
   "execution_count": null,
   "metadata": {},
   "outputs": [],
   "source": [
    "def eliminar_repes(lista):\n",
    "    \"\"\"\n",
    "    >>> eliminar_repes ([1, 2, 3, 1])\n",
    "    [1, 2, 3]\n",
    "    >>> eliminar_repes ([1, 2, 3, 1, 2])\n",
    "    [1, 2, 3]\n",
    "    >>> eliminar_repes ([1, 2, 3, 4, 5])\n",
    "    [1, 2, 3, 4, 5]\n",
    "    >>> eliminar_repes ([])\n",
    "    []\n",
    "    \"\"\"\n",
    "    resultado = []\n",
    "    for valor in lista:\n",
    "        if valor not in resultado:\n",
    "            resultado.append(valor)\n",
    "    return resultado"
   ]
  },
  {
   "cell_type": "markdown",
   "metadata": {},
   "source": [
    "## Ejercicio 8\n",
    "\n",
    "Escribe una función que reciba dos listas y devuelva una tercera con los elementos comunes a ambas."
   ]
  },
  {
   "cell_type": "code",
   "execution_count": 9,
   "metadata": {},
   "outputs": [
    {
     "name": "stdout",
     "output_type": "stream",
     "text": [
      "[[2, 4, 6, 8]]\n"
     ]
    }
   ],
   "source": [
    "def elementos_comunes(lista_uno: list[int], lista_dos: list[int]) -> list[int]:\n",
    "    comunes = []\n",
    "    for i in lista_uno:\n",
    "        if i in lista_dos:\n",
    "            comunes.append(i)\n",
    "    return comunes\n",
    "\n",
    "lista_uno = [1, 2, 3, 4, 5, 6, 7, 8]\n",
    "lista_dos = [0, 2, 4, 6, 8]\n",
    "definitiva = [elementos_comunes(lista_uno, lista_dos)]\n",
    "\n",
    "print(definitiva)\n",
    "\n",
    "           "
   ]
  },
  {
   "cell_type": "code",
   "execution_count": null,
   "metadata": {},
   "outputs": [],
   "source": [
    "def eliminar_dupli(lista1, lista2):\n",
    "    \"\"\"\n",
    "    >>> eliminar_dupli ([1, 2, 3, 1], [1, 4])\n",
    "    [1, 2, 3]\n",
    "    >>> eliminar_dupli ([1, 2, 3, 1, 2], [1, 4, 5])\n",
    "    [1, 2, 3]\n",
    "    >>> eliminar_dupli ([1, 2, 3, 4, 5], [5, 6])\n",
    "    [1, 2, 3, 4, 5]\n",
    "    >>> eliminar_dupli ([], [5, 6])\n",
    "    []\n",
    "    \"\"\"\n",
    "    resultado = []\n",
    "    for valor in lista1:\n",
    "        if valor in lista2:\n",
    "            resultado.append(valor)\n",
    "    return resultado"
   ]
  },
  {
   "cell_type": "markdown",
   "metadata": {},
   "source": [
    "## Ejercicio 9\n",
    "\n",
    "Utilizando una lista, escribe una función a la que se le pase el número del mes y devuelva su nombre.\n",
    "\n",
    "Crea un programa principal para probarla.\n"
   ]
  },
  {
   "cell_type": "code",
   "execution_count": null,
   "metadata": {},
   "outputs": [
    {
     "name": "stdout",
     "output_type": "stream",
     "text": [
      "diciembre\n"
     ]
    }
   ],
   "source": [
    "def indicador_nombre_mes(mes: int) -> str:\n",
    "    \"\"\"se le pasa el número del mes y te devuelve el nombre de ese mes\n",
    "\n",
    "    Args:\n",
    "        mes (int): el número de mes\n",
    "\n",
    "    Returns:\n",
    "        str: el nombre del mes correpondiente\n",
    "\n",
    "    >>> indicador_nombre_mes(1)\n",
    "    'enero'\n",
    "    >>> indicador_nombre_mes(12)\n",
    "    'diciembre'\n",
    "    >>> indicador_nombre_mes(13)\n",
    "    'Mes no válido'\n",
    "    \"\"\"\n",
    "    nombres_meses = [\"enero\", \"febrero\", \"marzo\", \"abril\", \"mayo\", \"junio\", \"julio\", \"agosto\", \"septiembre\", \"octubre\", \"noviembre\", \"diciembre\"]\n",
    "    if mes < 1 or mes > 12:\n",
    "        return \"Mes no válido\"\n",
    "    return nombres_meses[mes - 1]\n",
    "\n",
    "mes = int(input(\"Escribe el número del mes\"))\n",
    "print(indicador_nombre_mes(mes))\n"
   ]
  },
  {
   "cell_type": "markdown",
   "metadata": {},
   "source": [
    "\n",
    "## Ejercicio 10\n",
    "\n",
    "Busca el algoritmo para calcular la letra del DNI y crea una función que use listas para devolver la letra del mismo."
   ]
  },
  {
   "cell_type": "code",
   "execution_count": null,
   "metadata": {},
   "outputs": [
    {
     "name": "stdout",
     "output_type": "stream",
     "text": [
      "B\n"
     ]
    }
   ],
   "source": [
    "def encontrar_letra_dni(numero_dni: int) -> str:\n",
    "    \"\"\"te calcula la letra de tu dni\n",
    "\n",
    "    Args:\n",
    "        numero_dni (int): el dni sin letra\n",
    "\n",
    "    Returns:\n",
    "        str: la letra que te corresponde\n",
    "\n",
    "    >>> encontrar_letra_dni(12345678)\n",
    "    'Z'\n",
    "    >>> encontrar_letra_dni(12345679)\n",
    "    'S'\n",
    "    >>> encontrar_letra_dni(0)\n",
    "    'T'\n",
    "    >>> encontrar_letra_dni (-123)\n",
    "    'Número no válido'\n",
    "    \"\"\"\n",
    "    letras = [\"T\", \"R\",\t\"W\", \"A\", \"G\", \"M\",\t\"Y\", \"F\", \"P\", \"D\", \"X\", \"B\", \"N\", \"J\", \"Z\", \"S\", \"Q\", \"V\", \"H\", \"L\", \"C\", \"K\", \"E\"]\n",
    "    if numero_dni < 0 or numero_dni > 99999999:\n",
    "        return \"Número no válido\"\n",
    "    letra_dni = letras[numero_dni % 23]\n",
    "    return letra_dni\n",
    "\n",
    "numero_dni = int(input(\"Escribe el número de DNI sin letra\"))\n",
    "print(encontrar_letra_dni(numero_dni))"
   ]
  },
  {
   "cell_type": "markdown",
   "metadata": {},
   "source": [
    "# Listas anidadas\n",
    "\n"
   ]
  },
  {
   "cell_type": "markdown",
   "metadata": {},
   "source": [
    "## Ejercicio 11\n",
    "\n",
    "Crea una lista bidimensional con las notas de lxs alumnxs de una clase en los diferentes módulos. Cada fila será un alumnx y cada columna, las notas de un módulo.\n",
    "\n",
    "Calcula la media de notas de un módulo.\n",
    "\n",
    "Crea una nueva lista con las medias de cada uno de los módulos."
   ]
  },
  {
   "cell_type": "code",
   "execution_count": null,
   "metadata": {},
   "outputs": [],
   "source": []
  },
  {
   "cell_type": "markdown",
   "metadata": {},
   "source": [
    "## Ejercicio 12\n",
    "\n",
    "Crea una lista bidimensional que contenga los agrupamientos del alumnado de una clase para un determinado proyecto. La lista contendrá otras listas con los componentes de cada grupo.\n",
    "\n",
    "Muestra la lista por pantalla, con los componentes de cada grupo en una misma línea. Haz que no aparezcan los []. Por ejemplo:\n",
    "\n",
    "```python\n",
    "Luis, Juan\n",
    "María, Elba, Mario\n",
    "Carola\n",
    "Pablo, Manuel, Raquel, Uxía\n",
    "```"
   ]
  },
  {
   "cell_type": "markdown",
   "metadata": {},
   "source": [
    "## Ejercicio 13\n",
    "\n",
    "Utiliza una lista bidimensional para almacenar las temperaturas máximas de cada día de cada mes. Cada mes será una fila y las temperaturas estarán en columnas.\n",
    "\n",
    "Muestra las medias de cada mes."
   ]
  },
  {
   "cell_type": "markdown",
   "metadata": {},
   "source": [
    "# Comprensión de listas (AVANZADO)\n"
   ]
  },
  {
   "cell_type": "markdown",
   "metadata": {},
   "source": [
    "\n",
    "## Ejercicio 14\n",
    "\n",
    "Crea una lista con las 10 primeras potencias de 3."
   ]
  },
  {
   "cell_type": "markdown",
   "metadata": {},
   "source": [
    "## Ejercicio 15\n",
    "\n",
    "Crea una lista con los 100 primeros múltiplos de 7."
   ]
  },
  {
   "cell_type": "markdown",
   "metadata": {},
   "source": [
    "## Ejercicio 16\n",
    "\n",
    "Utilizando comprensión de listas, vuelve a resolver el ejercicio 3."
   ]
  },
  {
   "cell_type": "markdown",
   "metadata": {},
   "source": [
    "## Ejercicio 17\n",
    "\n",
    "Utilizando comprensión de listas, vuelve a resolver el ejercicio 4."
   ]
  },
  {
   "cell_type": "markdown",
   "metadata": {},
   "source": [
    "## Ejercicio 18\n",
    "\n",
    "Utilizando comprensión de listas, vuelve a resolver el ejercicio 6."
   ]
  },
  {
   "cell_type": "markdown",
   "metadata": {},
   "source": [
    "## Ejercicio 19\n",
    "\n",
    "Crea una lista con los números que sean múltiplos de 3 o de 5 hasta el 100."
   ]
  },
  {
   "cell_type": "markdown",
   "metadata": {},
   "source": [
    "## Ejercicio 20\n",
    "\n",
    "Crea una lista con los divisores de un número que se pasa por teclado."
   ]
  },
  {
   "cell_type": "markdown",
   "metadata": {},
   "source": [
    "## Ejercicio 21\n",
    "\n",
    "Crea una lista con los años que son bisiestos a partir de una lista de años.\n",
    "\n",
    "Por ejemplo, a partir de [1995, 2004, 2003, 1900, 2008] debe devolver [2004, 2008].\n",
    "\n",
    "Debes utilizar la función `es_bisiesto(anho)` creada en el tema anterior y comprensión de listas."
   ]
  },
  {
   "cell_type": "markdown",
   "metadata": {},
   "source": [
    "# Ejercicios sencillos listas bidimensionales\n",
    "\n",
    "## Ejercicio 22\n",
    "\n",
    "Crea una lista bidimensional de 6 filas y 7 columnas con valores aleatorios entre 0 y 9.\n",
    "\n",
    "Muéstrala por pantalla.\n",
    "\n",
    "Recórrela y almacena en una variable cuántos números pares hay en ella y almacena en otra cuántos impares.\n",
    "\n",
    "Muestra los resultados por pantalla.\n",
    "\n",
    "Vuelve a recorrerla para crear una lista unidimensional nueva con los números pares que aparecen en ella y otra con los impares."
   ]
  },
  {
   "cell_type": "markdown",
   "metadata": {},
   "source": [
    "## Ejercicio 23\n",
    "\n",
    "Crea una lista bidimensional 3x3 que sirva para jugar al tres en raya, almacenará 3 posibles cadenas, una cadena vacía para indicar que no se ha puesto una ficha en esa posición, una 'o' para indicar que ha jugado el jugador 1 y una 'x' para el jugador 2.\n",
    "\n",
    "Crea una función que la recorra y que busque si se ha producido 3 en raya para el jugador 1 en alguna de las filas.\n",
    "\n",
    "Crea una función que la recorra y que busque si se ha producido 3 en raya para el jugador 1 en alguna de las columnas.\n",
    "\n",
    "**AVANZADO**: Crea una función que la recorra y que busque si se ha producido 3 en raya para el jugador 1 en alguna de las diagonales.\n",
    "\n",
    "**AVANZADO**: Crea una función que la recorra y que busque si se ha producido 3 en raya para algún jugador.\n",
    "\n",
    "**AVANZADO**: Completa el ejercicio para que dos jugadores puedan jugar al 3 en raya.\n"
   ]
  }
 ],
 "metadata": {
  "kernelspec": {
   "display_name": "Python 3",
   "language": "python",
   "name": "python3"
  },
  "language_info": {
   "codemirror_mode": {
    "name": "ipython",
    "version": 3
   },
   "file_extension": ".py",
   "mimetype": "text/x-python",
   "name": "python",
   "nbconvert_exporter": "python",
   "pygments_lexer": "ipython3",
   "version": "3.12.6"
  }
 },
 "nbformat": 4,
 "nbformat_minor": 2
}
