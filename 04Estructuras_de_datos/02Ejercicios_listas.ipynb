{
 "cells": [
  {
   "cell_type": "markdown",
   "metadata": {},
   "source": [
    "# Ejercicios\n",
    "\n",
    "## Ejercicio 0\n",
    "\n",
    "Crea una programa que pregunte al usuario las notas de 10 alumnos y las guarde en una lista\n",
    "\n"
   ]
  },
  {
   "cell_type": "code",
   "execution_count": 2,
   "metadata": {},
   "outputs": [
    {
     "name": "stdout",
     "output_type": "stream",
     "text": [
      "[9.0, 8.0, 7.0, 9.0, 8.0, 7.0, 9.0, 8.0, 8.0, 9.0]\n",
      "8.2\n"
     ]
    }
   ],
   "source": [
    "lista = []\n",
    "for i in range (10):\n",
    "    lista.append(float(input(\"Escribe la nota del alumnx: \")))\n",
    "print(lista)\n",
    "\n",
    "total = 0\n",
    "\n",
    "for nota in lista:\n",
    "    total += nota\n",
    "\n",
    "print(total / len(lista))"
   ]
  },
  {
   "cell_type": "markdown",
   "metadata": {},
   "source": [
    "## Ejercicio 1\n",
    "\n",
    "Crea una función que pida al usuario 5 números y los guarde en una lista y devuelva esa lista.\n",
    "\n",
    "A continuación, muéstrala en orden inverso a como se introdujeron.\n"
   ]
  },
  {
   "cell_type": "code",
   "execution_count": null,
   "metadata": {},
   "outputs": [
    {
     "name": "stdout",
     "output_type": "stream",
     "text": [
      "[1, 2, 3, 4, 5]\n",
      "[5, 4, 3, 2, 1]\n"
     ]
    }
   ],
   "source": [
    "def crea_lista(posiciones: int) -> list:\n",
    "    \"\"\"Crea una lista\n",
    "\n",
    "    Args:\n",
    "        posiciones (int): un entero que determina la longitud de la lista\n",
    "\n",
    "    Returns:\n",
    "        list: la lista de números enteros\n",
    "    \"\"\"\n",
    "    lista = []\n",
    "    for i in range (posiciones):\n",
    "        lista.append(int(input(\"Escribe un número: \")))\n",
    "    print(lista)\n",
    "    return lista\n",
    "\n",
    "lista = crea_lista(5)\n",
    "\n",
    "print(lista[::-1])"
   ]
  },
  {
   "cell_type": "code",
   "execution_count": 2,
   "metadata": {},
   "outputs": [
    {
     "name": "stdout",
     "output_type": "stream",
     "text": [
      "[1, 2, 5, 4, 7]\n",
      "[7, 4, 5, 2, 1]\n"
     ]
    }
   ],
   "source": [
    "def crea_lista(posiciones: int) -> list:\n",
    "\n",
    "    lista = []\n",
    "    for i in range (posiciones):\n",
    "        lista.append(int(input(\"Escribe un número: \")))\n",
    "    print(lista)\n",
    "    return lista\n",
    "\n",
    "def invierte_lista(lista: list) -> list:\n",
    "    \"\"\"Invierte el orden de los elementos de una lista dada\n",
    "\n",
    "    Args:\n",
    "        lista (list): la lista que se le da\n",
    "\n",
    "    Returns:\n",
    "        list: la lsta con los elementos invertidos\n",
    "\n",
    "    >>> invierte_lista([1, 2, 3, 4, 5])\n",
    "    [5, 4, 3, 2, 1]\n",
    "    >>> invierte_lista([])\n",
    "    []\n",
    "    >>> invierte_lista(['a', 'b', 'c'])\n",
    "    ['c', 'b', 'a']\n",
    "    \"\"\"\n",
    "    return lista[::-1]\n",
    "\n",
    "lista = crea_lista(5)\n",
    "\n",
    "lista_invertida = invierte_lista(lista)\n",
    "\n",
    "print (lista_invertida)\n",
    "\n"
   ]
  },
  {
   "cell_type": "markdown",
   "metadata": {},
   "source": [
    "\n",
    "## Ejercicio 2\n",
    "\n",
    "Usando la función del ejercicio anterior, úsala y después busca el mayor de los números introducidos.\n"
   ]
  },
  {
   "cell_type": "code",
   "execution_count": 3,
   "metadata": {},
   "outputs": [
    {
     "name": "stdout",
     "output_type": "stream",
     "text": [
      "[0, 2, 2, 4, 21]\n",
      "21\n"
     ]
    }
   ],
   "source": [
    "print(max(crea_lista(5)))\n"
   ]
  },
  {
   "cell_type": "code",
   "execution_count": null,
   "metadata": {},
   "outputs": [],
   "source": [
    "def crea_lista(posiciones):\n",
    "    lista = []\n",
    "    for i in range (posiciones):\n",
    "        valor = int(input(\"introduce número\"))\n",
    "        lista.append(valor)\n",
    "    return lista\n",
    "\n",
    "def buscar_mayor(lista: list[int]) -> int|None:\n",
    "    \"\"\"Busca el numero mayor de una lista\n",
    "\n",
    "    Args:\n",
    "        lista (list[int]): _description_La lista\n",
    "    \n",
    "    Returns:\n",
    "        int: El mayor valor\n",
    "\n",
    "    >>> buscar_mayor ([2, 5, 1, 4, 9, 0])\n",
    "    9\n",
    "    >>> buscar_mayor ([2, 5, 1, 4, 9, 10])\n",
    "    10\n",
    "    >>> buscar_mayor ([1])\n",
    "    1\n",
    "    >>> buscar_mayor ([20, 5, 1, 4, 9, 0])\n",
    "    20\n",
    "    >>> buscar_mayor ([]) is None\n",
    "    True\n",
    "    \"\"\"\n",
    "    if len(lista) == 0:\n",
    "        return None\n",
    "    mayor = lista [0]\n",
    "    for valor in lista:\n",
    "        if valor > mayor:\n",
    "            mayor = valor\n",
    "    return mayor"
   ]
  },
  {
   "cell_type": "markdown",
   "metadata": {},
   "source": [
    "\n",
    "## Ejercicio 3\n",
    "\n",
    "A partir de una lista, escribe un programa que cree una lista nueva con los elementos de la primera lista que sean impares.\n"
   ]
  },
  {
   "cell_type": "code",
   "execution_count": 8,
   "metadata": {},
   "outputs": [
    {
     "name": "stdout",
     "output_type": "stream",
     "text": [
      "[1, 3, 5, 7]\n"
     ]
    }
   ],
   "source": [
    "numeros = [1, 2, 3, 4, 5, 6, 7, 8]\n",
    "impares = []\n",
    "\n",
    "for numero in numeros:\n",
    "    if numero % 2 != 0:\n",
    "        impares.append(numero)\n",
    "print(impares)\n"
   ]
  },
  {
   "cell_type": "code",
   "execution_count": null,
   "metadata": {},
   "outputs": [],
   "source": [
    "def devuelve_impares(lista: list[int]) -> list[int]:\n",
    "    \"\"\"devuelve otra lista solo con los numeros impares.\n",
    "\n",
    "    Args:\n",
    "        lista (list[int]): la lista inicial\n",
    "\n",
    "    Returns:\n",
    "        list[int]: la lista solo de impares\n",
    "\n",
    "    >>> devuelve_impares ([1, 2, 3, 8, 10])\n",
    "    [1, 3]\n",
    "    >>> devuelve_impares ([2, 8, 10])\n",
    "    []\n",
    "    >>> devuelve_impares ([1, 5, 3, 7, 9])\n",
    "    [1, 5, 3, 7, 9]\n",
    "    \"\"\"\n",
    "    lista_impares = []\n",
    "    for valor in lista:\n",
    "        if valor % 2 != 0:\n",
    "            lista_impares.append(valor)\n",
    "    return lista_impares"
   ]
  },
  {
   "cell_type": "markdown",
   "metadata": {},
   "source": [
    "## Ejercicio 4\n",
    "\n",
    "Escribe una función que reciba una lista de enteros y devuelva otra lista con los dobles de sus elementos.\n"
   ]
  },
  {
   "cell_type": "code",
   "execution_count": 1,
   "metadata": {},
   "outputs": [
    {
     "name": "stdout",
     "output_type": "stream",
     "text": [
      "[2, 4, 6, 8, 10, 12]\n"
     ]
    }
   ],
   "source": [
    "lista = [1, 2, 3, 4, 5, 6]\n",
    "\n",
    "def duplicador(lista: list) -> list:\n",
    "    dobles = []\n",
    "    for i in range(len(lista)):\n",
    "        dobles.append(lista[i] * 2)\n",
    "    return dobles\n",
    "\n",
    "print(duplicador(lista))"
   ]
  },
  {
   "cell_type": "code",
   "execution_count": null,
   "metadata": {},
   "outputs": [],
   "source": [
    "def devuelve_doble(lista: list[int]) -> list[int]:\n",
    "    \"\"\"devuelve una lista cuyos valores son el doble de los de la lista entregada\n",
    "\n",
    "    Args:\n",
    "        lista (list[int]): lista inicial\n",
    "\n",
    "    Returns:\n",
    "        list[int]: lista con los valores duplicados\n",
    "    \n",
    "    >>> devuelve_doble([1, 2, 3, 4])\n",
    "    [2, 4, 6, 8]\n",
    "    >>> devuelve_doble([])\n",
    "    []\n",
    "    >>> devuelve_doble([1])\n",
    "    [2]\n",
    "    >>> devuelve_doble([-1, -2, -3])\n",
    "    [-2, -4, -6]\n",
    "    \"\"\"\n",
    "    lista_dobles = []\n",
    "    for valor in lista:\n",
    "        lista_dobles.append(valor * 2)\n",
    "    return lista_dobles"
   ]
  },
  {
   "cell_type": "code",
   "execution_count": null,
   "metadata": {},
   "outputs": [],
   "source": [
    "def devuelve_doble2(lista: list[int]) -> list[int]:\n",
    "    \"\"\"devuelve una lista cuyos valores son el doble de los de la lista entregada\n",
    "\n",
    "    Args:\n",
    "        lista (list[int]): lista inicial\n",
    "\n",
    "    Returns:\n",
    "        list[int]: lista con los valores duplicados\n",
    "    \n",
    "    >>> devuelve_doble2([1, 2, 3, 4])\n",
    "    [2, 4, 6, 8]\n",
    "    >>> devuelve_doble2([])\n",
    "    []\n",
    "    >>> devuelve_doble2([1])\n",
    "    [2]\n",
    "    >>> devuelve_doble2([-1, -2, -3])\n",
    "    [-2, -4, -6]\n",
    "    \"\"\"\n",
    "    for i in range(len(lista)):\n",
    "        lista[i] *= 2\n",
    "    return lista"
   ]
  },
  {
   "cell_type": "markdown",
   "metadata": {},
   "source": [
    "## Ejercicio 5\n",
    "\n",
    "Usa la función del ejercicio 1 para crear una lista. A continuación, reemplaza todos los números negativos de esa lista por 0."
   ]
  },
  {
   "cell_type": "code",
   "execution_count": null,
   "metadata": {},
   "outputs": [
    {
     "name": "stdout",
     "output_type": "stream",
     "text": [
      "[-1, -2, -3, 1, 2]\n",
      "[0, 0, 0, 1, 2]\n"
     ]
    }
   ],
   "source": [
    "def crea_lista(posicion: int) -> list:\n",
    "    \"\"\"Esta función crea una lista de enteros\n",
    "\n",
    "        Args:\n",
    "        posicion (int): un número entero que determina la longitud de la lista\n",
    "\n",
    "    Returns:\n",
    "        list: la lista de números enteros\n",
    "    \"\"\"\n",
    "    lista = []\n",
    "    for i in range (posicion):\n",
    "        lista.append(int(input(\"Escribe un número: \")))\n",
    "    print(lista)\n",
    "    return lista\n",
    "\n",
    "def sustituir_negativos(lista: list) -> list:\n",
    "    \"\"\"Esta función sustituye los número negativos de la lista por ceros\n",
    "\n",
    "    Args:\n",
    "        lista (list): la lista de números\n",
    "\n",
    "    Returns:\n",
    "        list: _dla lista pero sin negativos\n",
    "    >>> sustituir_negativos([-3, -2, -1, 0, 1, 2, 3, 4])\n",
    "    [0, 0, 0, 0, 1, 2, 3, 4]\n",
    "    \"\"\"\n",
    "    for i in range (len(lista)):\n",
    "        if lista[i] < 0:\n",
    "            lista[i] = 0\n",
    "    return lista\n",
    "\n",
    "lista = crea_lista(5)\n",
    "\n",
    "print (sustituir_negativos(lista))"
   ]
  },
  {
   "cell_type": "code",
   "execution_count": null,
   "metadata": {},
   "outputs": [],
   "source": [
    "def elimina_neg(lista: list[int]) -> list[int]:\n",
    "    \"\"\"reemplaza negativos por ceros en una lista\n",
    "\n",
    "    Args:\n",
    "        lista (list[int]): lista inicial\n",
    "\n",
    "    Returns:\n",
    "        list[int]: lista sin negativos\n",
    "\n",
    "    >>> elimina_neg ([-1, 1, 2, 3])\n",
    "    [0, 1, 2, 3]\n",
    "    >>> elimina_neg ([])\n",
    "    []\n",
    "    >>> elimina_neg ([-1, -1, -2, -3])\n",
    "    [0, 0, 0, 0]\n",
    "    >>> elimina_neg ([1, 2, 3, 4])\n",
    "    [1, 2, 3, 4]\n",
    "    \"\"\"\n",
    "    for i in range(len(lista)):\n",
    "        if lista[i] < 0:\n",
    "            lista[i] = 0\n",
    "    return lista\n"
   ]
  },
  {
   "cell_type": "markdown",
   "metadata": {},
   "source": [
    "## Ejercicio 6\n",
    "\n",
    "Dada una lista de palabras, crea una nueva lista que contenga solo las palabras que tienen más de 5 letras."
   ]
  },
  {
   "cell_type": "code",
   "execution_count": 7,
   "metadata": {},
   "outputs": [
    {
     "name": "stdout",
     "output_type": "stream",
     "text": [
      "[['cuatro', 'catorce', 'dieciseis']]\n"
     ]
    }
   ],
   "source": [
    "\n",
    "def selector_palabras(lista_palabras: list[str]) -> list[str]:\n",
    "    palabras_largas = []\n",
    "    for palabra in lista_palabras:\n",
    "        if len(palabra) > 5:\n",
    "            palabras_largas.append(palabra)\n",
    "    return palabras_largas\n",
    "        \n",
    "lista_palabras = [\"cinco\", \"dos\", \"tres\", \"cuatro\", \"catorce\", \"dieciseis\"]\n",
    "lista_def = [selector_palabras(lista_palabras)]\n",
    "print(lista_def)\n"
   ]
  },
  {
   "cell_type": "code",
   "execution_count": 42,
   "metadata": {},
   "outputs": [
    {
     "name": "stdout",
     "output_type": "stream",
     "text": [
      "['cinco', 'cuatro', 'catorce', 'dieciseis']\n"
     ]
    }
   ],
   "source": [
    "def selec_palargas(lista: list[str], longitud: int) -> list[str]:\n",
    "    \"\"\"Dada una lista, selecciona las palabras de más de 5 caracteres y las devuelve en otra lista\n",
    "\n",
    "    Args:\n",
    "        lista (list[str]): lista inicial\n",
    "        longitud (int): longitud de la palabra\n",
    "\n",
    "    Returns:\n",
    "        list[str]: lista con las palabras largas\n",
    "\n",
    "    >>> selec_palargas([\"caca\", \"cacaca\"], 5)\n",
    "    [\"cacaca\"]\n",
    "    >>> selec_palargas([\"cinco\", \"verano\", \"otoños\"], 5)\n",
    "    [\"cinco\", \"verano\", \"otoños\"]\n",
    "    >>> selec_palargas ([], 5)\n",
    "    []\n",
    "    \"\"\"\n",
    "    lista_palargas = []\n",
    "    for palabra in lista:\n",
    "        if len(palabra) >= longitud:\n",
    "            lista_palargas.append(palabra)\n",
    "    return lista_palargas\n",
    "\n",
    "lista_palabras = [\"cinco\", \"dos\", \"tres\", \"cuatro\", \"catorce\", \"dieciseis\"]\n",
    "longitud = 5\n",
    "\n",
    "print(selec_palargas(lista_palabras, longitud))"
   ]
  },
  {
   "cell_type": "markdown",
   "metadata": {},
   "source": [
    "\n",
    "## Ejercicio 7\n",
    "\n",
    "A partir de una lista, escribe un programa que cree una lista nueva eliminando aquellos que están repetidos."
   ]
  },
  {
   "cell_type": "code",
   "execution_count": 8,
   "metadata": {},
   "outputs": [
    {
     "name": "stdout",
     "output_type": "stream",
     "text": [
      "[['cinco', 'dos', 'tres', 'cuatro', 'catorce', 'dieciseis']]\n"
     ]
    }
   ],
   "source": [
    "def eliminar_repes(lista_palabras: list[str]) -> list[str]:\n",
    "    sin_repes = []\n",
    "    for palabra in lista_palabras:\n",
    "        if palabra not in sin_repes:\n",
    "            sin_repes.append(palabra)\n",
    "    return sin_repes\n",
    "\n",
    "lista_palabras = [\"cinco\", \"dos\", \"tres\", \"cuatro\", \"tres\", \"catorce\", \"dieciseis\", \"cuatro\"]\n",
    "sin_repes = [eliminar_repes(lista_palabras)]\n",
    "print(sin_repes)"
   ]
  },
  {
   "cell_type": "code",
   "execution_count": null,
   "metadata": {},
   "outputs": [],
   "source": [
    "def eliminar_repes(lista):\n",
    "    \"\"\"\n",
    "    >>> eliminar_repes ([1, 2, 3, 1])\n",
    "    [1, 2, 3]\n",
    "    >>> eliminar_repes ([1, 2, 3, 1, 2])\n",
    "    [1, 2, 3]\n",
    "    >>> eliminar_repes ([1, 2, 3, 4, 5])\n",
    "    [1, 2, 3, 4, 5]\n",
    "    >>> eliminar_repes ([])\n",
    "    []\n",
    "    \"\"\"\n",
    "    resultado = []\n",
    "    for valor in lista:\n",
    "        if valor not in resultado:\n",
    "            resultado.append(valor)\n",
    "    return resultado"
   ]
  },
  {
   "cell_type": "markdown",
   "metadata": {},
   "source": [
    "## Ejercicio 8\n",
    "\n",
    "Escribe una función que reciba dos listas y devuelva una tercera con los elementos comunes a ambas."
   ]
  },
  {
   "cell_type": "code",
   "execution_count": 9,
   "metadata": {},
   "outputs": [
    {
     "name": "stdout",
     "output_type": "stream",
     "text": [
      "[[2, 4, 6, 8]]\n"
     ]
    }
   ],
   "source": [
    "def elementos_comunes(lista_uno: list[int], lista_dos: list[int]) -> list[int]:\n",
    "    comunes = []\n",
    "    for i in lista_uno:\n",
    "        if i in lista_dos:\n",
    "            comunes.append(i)\n",
    "    return comunes\n",
    "\n",
    "lista_uno = [1, 2, 3, 4, 5, 6, 7, 8]\n",
    "lista_dos = [0, 2, 4, 6, 8]\n",
    "definitiva = [elementos_comunes(lista_uno, lista_dos)]\n",
    "\n",
    "print(definitiva)\n",
    "\n",
    "           "
   ]
  },
  {
   "cell_type": "code",
   "execution_count": null,
   "metadata": {},
   "outputs": [],
   "source": [
    "def eliminar_dupli(lista1, lista2):\n",
    "    \"\"\"\n",
    "    >>> eliminar_dupli ([1, 2, 3, 1], [1, 4])\n",
    "    [1, 2, 3]\n",
    "    >>> eliminar_dupli ([1, 2, 3, 1, 2], [1, 4, 5])\n",
    "    [1, 2, 3]\n",
    "    >>> eliminar_dupli ([1, 2, 3, 4, 5], [5, 6])\n",
    "    [1, 2, 3, 4, 5]\n",
    "    >>> eliminar_dupli ([], [5, 6])\n",
    "    []\n",
    "    \"\"\"\n",
    "    resultado = []\n",
    "    for valor in lista1:\n",
    "        if valor in lista2:\n",
    "            resultado.append(valor)\n",
    "    return resultado"
   ]
  },
  {
   "cell_type": "markdown",
   "metadata": {},
   "source": [
    "## Ejercicio 9\n",
    "\n",
    "Utilizando una lista, escribe una función a la que se le pase el número del mes y devuelva su nombre.\n",
    "\n",
    "Crea un programa principal para probarla.\n"
   ]
  },
  {
   "cell_type": "code",
   "execution_count": null,
   "metadata": {},
   "outputs": [
    {
     "name": "stdout",
     "output_type": "stream",
     "text": [
      "diciembre\n"
     ]
    }
   ],
   "source": [
    "def indicador_nombre_mes(mes: int) -> str:\n",
    "    \"\"\"se le pasa el número del mes y te devuelve el nombre de ese mes\n",
    "\n",
    "    Args:\n",
    "        mes (int): el número de mes\n",
    "\n",
    "    Returns:\n",
    "        str: el nombre del mes correpondiente\n",
    "\n",
    "    >>> indicador_nombre_mes(1)\n",
    "    'enero'\n",
    "    >>> indicador_nombre_mes(12)\n",
    "    'diciembre'\n",
    "    >>> indicador_nombre_mes(13)\n",
    "    'Mes no válido'\n",
    "    \"\"\"\n",
    "    nombres_meses = [\"enero\", \"febrero\", \"marzo\", \"abril\", \"mayo\", \"junio\", \"julio\", \"agosto\", \"septiembre\", \"octubre\", \"noviembre\", \"diciembre\"]\n",
    "    if mes < 1 or mes > 12:\n",
    "        return \"Mes no válido\"\n",
    "    return nombres_meses[mes - 1]\n",
    "\n",
    "mes = int(input(\"Escribe el número del mes\"))\n",
    "print(indicador_nombre_mes(mes))\n"
   ]
  },
  {
   "cell_type": "markdown",
   "metadata": {},
   "source": [
    "\n",
    "## Ejercicio 10\n",
    "\n",
    "Busca el algoritmo para calcular la letra del DNI y crea una función que use listas para devolver la letra del mismo."
   ]
  },
  {
   "cell_type": "code",
   "execution_count": null,
   "metadata": {},
   "outputs": [
    {
     "name": "stdout",
     "output_type": "stream",
     "text": [
      "B\n"
     ]
    }
   ],
   "source": [
    "def encontrar_letra_dni(numero_dni: int) -> str:\n",
    "    \"\"\"te calcula la letra de tu dni\n",
    "\n",
    "    Args:\n",
    "        numero_dni (int): el dni sin letra\n",
    "\n",
    "    Returns:\n",
    "        str: la letra que te corresponde\n",
    "\n",
    "    >>> encontrar_letra_dni(12345678)\n",
    "    'Z'\n",
    "    >>> encontrar_letra_dni(12345679)\n",
    "    'S'\n",
    "    >>> encontrar_letra_dni(0)\n",
    "    'T'\n",
    "    >>> encontrar_letra_dni (-123)\n",
    "    'Número no válido'\n",
    "    \"\"\"\n",
    "    letras = [\"T\", \"R\",\t\"W\", \"A\", \"G\", \"M\",\t\"Y\", \"F\", \"P\", \"D\", \"X\", \"B\", \"N\", \"J\", \"Z\", \"S\", \"Q\", \"V\", \"H\", \"L\", \"C\", \"K\", \"E\"]\n",
    "    if numero_dni < 0 or numero_dni > 99999999:\n",
    "        return \"Número no válido\"\n",
    "    letra_dni = letras[numero_dni % 23]\n",
    "    return letra_dni\n",
    "\n",
    "\n",
    "numero_dni = int(input(\"Escribe el número de DNI sin letra\"))\n",
    "print(encontrar_letra_dni(numero_dni))"
   ]
  },
  {
   "cell_type": "markdown",
   "metadata": {},
   "source": [
    "# Listas anidadas\n",
    "\n"
   ]
  },
  {
   "cell_type": "markdown",
   "metadata": {},
   "source": [
    "## Ejercicio 11\n",
    "\n",
    "Crea una lista bidimensional con las notas de lxs alumnxs de una clase en los diferentes módulos. Cada fila será un alumnx y cada columna, las notas de un módulo.\n",
    "\n",
    "Calcula la media de notas de un módulo.\n",
    "\n",
    "Crea una nueva lista con las medias de cada uno de los módulos."
   ]
  },
  {
   "cell_type": "code",
   "execution_count": 14,
   "metadata": {},
   "outputs": [
    {
     "name": "stdout",
     "output_type": "stream",
     "text": [
      "[5.5, 5.75, 5.1, 5.75, 6.25, 5.15, 5.55, 4.7]\n"
     ]
    }
   ],
   "source": [
    "notas_de_primero = [\n",
    "    [4, 9, 10, 9, 10, 5, 7, 2],\n",
    "    [7, 5, 7, 5, 7, 5, 8, 8],\n",
    "    [8, 6, 2, 7, 10, 2, 6, 4],\n",
    "    [4, 5, 8, 1, 2, 4, 8, 3],\n",
    "    [3, 2, 5, 1, 7, 5, 8, 5],\n",
    "    [4, 8, 2, 8, 7, 6, 4, 7],\n",
    "    [5, 6, 4, 6, 10, 5, 9, 1],\n",
    "    [9, 4, 2, 2, 6, 4, 7, 1],\n",
    "    [1, 8, 3, 4, 8, 6, 9, 7],\n",
    "    [7, 4, 9, 3, 2, 6, 1, 7],\n",
    "    [4, 10, 3, 10, 10, 7, 4, 10],\n",
    "    [2, 10, 2, 9, 7, 10, 8, 6],\n",
    "    [2, 5, 9, 8, 4, 7, 2, 2],\n",
    "    [7, 8, 10, 10, 5, 1, 1, 2],\n",
    "    [8, 8, 5, 1, 7, 8, 4, 5],\n",
    "    [10, 1, 3, 4, 7, 10, 2, 3],\n",
    "    [1, 1, 2, 3, 4, 3, 5, 2],\n",
    "    [6, 8, 7, 7, 7, 2, 8, 8],\n",
    "    [10, 5, 8, 9, 1, 1, 1, 9],\n",
    "    [8, 2, 1, 8, 4, 6, 9, 2]\n",
    "    ]\n",
    "\n",
    "def media_columnas(notas_de_primero, modulo):\n",
    "    suma = 0\n",
    "    for alumno in notas_de_primero:\n",
    "        suma += alumno[modulo]\n",
    "    return suma / len(notas_de_primero)\n",
    "\n",
    "\n",
    "medias = []\n",
    "for i in range(len(notas_de_primero[0])):\n",
    "    media = media_columnas(notas_de_primero, i)\n",
    "    medias.append(media)\n",
    "\n",
    "print(medias)"
   ]
  },
  {
   "cell_type": "markdown",
   "metadata": {},
   "source": [
    "## Ejercicio 12\n",
    "\n",
    "Crea una lista bidimensional que contenga los agrupamientos del alumnado de una clase para un determinado proyecto. La lista contendrá otras listas con los componentes de cada grupo.\n",
    "\n",
    "Muestra la lista por pantalla, con los componentes de cada grupo en una misma línea. Haz que no aparezcan los []. Por ejemplo:\n",
    "\n",
    "```python\n",
    "Luis, Juan\n",
    "María, Elba, Mario\n",
    "Carola\n",
    "Pablo, Manuel, Raquel, Uxía\n",
    "```"
   ]
  },
  {
   "cell_type": "code",
   "execution_count": null,
   "metadata": {},
   "outputs": [
    {
     "name": "stdout",
     "output_type": "stream",
     "text": [
      "Luis, Juan, \n",
      "María, Elba, Mario, \n",
      "Carola, \n",
      "Pablo, Manuel, Raquel, Uxía, \n"
     ]
    }
   ],
   "source": [
    "grupos_clase = [[\"Luis\", \"Juan\"], [\"María\", \"Elba\", \"Mario\"], [\"Carola\"], [\"Pablo\", \"Manuel\", \"Raquel\", \"Uxía\"]]\n",
    "\n",
    "for grupo in grupos_clase:\n",
    "    for alumno in grupo:\n",
    "        print(alumno, end=\", \")\n",
    "    print()"
   ]
  },
  {
   "cell_type": "markdown",
   "metadata": {},
   "source": [
    "## Ejercicio 12 NUEVO\n",
    "\n",
    "Crea una lista bidimensional con las notas de lxs alumnxs de una clase en los diferentes módulos. Cada fila será un alumnx y cada columna, las notas de un módulo.\n",
    "\n",
    "Calcula la media de notas de un alumno.\n",
    "Repite este apartado utilizando bucles que accedan por índices a la lista.\n",
    "\n",
    "AVANZADO: Calcula la media de notas de un módulo.\n",
    "\n",
    "Crea una nueva lista con las medias de cada uno de los módulos. (Este ejercicio es más complicado, puesto que debe recorrerse primero por columnas y luego por filas, usa los bucles que acceden por índices a la lista)."
   ]
  },
  {
   "cell_type": "code",
   "execution_count": 2,
   "metadata": {},
   "outputs": [
    {
     "name": "stdout",
     "output_type": "stream",
     "text": [
      "6.33\n",
      "6.67\n",
      "5.67\n",
      "4.33\n"
     ]
    }
   ],
   "source": [
    "notas = [[8, 6, 5], [4, 7, 9], [1, 7, 9], [2, 5, 6]]\n",
    "\n",
    "for notas_alumno in notas:\n",
    "    suma = 0\n",
    "    for nota in notas_alumno:\n",
    "        suma += nota\n",
    "    media = suma / len(notas_alumno)\n",
    "    print(round(media, 2))"
   ]
  },
  {
   "cell_type": "code",
   "execution_count": 5,
   "metadata": {},
   "outputs": [
    {
     "name": "stdout",
     "output_type": "stream",
     "text": [
      "6.33\n",
      "6.67\n",
      "5.67\n",
      "4.33\n"
     ]
    }
   ],
   "source": [
    "notas = [[8, 6, 5], [4, 7, 9], [1, 7, 9], [2, 5, 6]]\n",
    "\n",
    "for i in range(len(notas)):\n",
    "    suma = 0\n",
    "    for j in range(len(notas[i])):\n",
    "        suma += notas[i][j]\n",
    "    media = suma / len(notas_alumno)\n",
    "    print(round(media, 2))"
   ]
  },
  {
   "cell_type": "code",
   "execution_count": null,
   "metadata": {},
   "outputs": [
    {
     "name": "stdout",
     "output_type": "stream",
     "text": [
      "3.75\n",
      "6.25\n",
      "7.25\n"
     ]
    }
   ],
   "source": [
    "notas = [[8, 6, 5], [4, 7, 9], [1, 7, 9], [2, 5, 6]]\n",
    "\n",
    "for columna in range(len(notas[0])): # De esta forma recorremos as columnas primeiro. Supoñemos que todas as filas son igual de largas\n",
    "    suma = 0\n",
    "    for fila in range(len(notas)):\n",
    "        suma += notas[fila][columna]\n",
    "    media = suma / len(notas)\n",
    "    print(media)\n",
    "\n"
   ]
  },
  {
   "cell_type": "code",
   "execution_count": null,
   "metadata": {},
   "outputs": [
    {
     "name": "stdout",
     "output_type": "stream",
     "text": [
      "[3.75, 6.25, 7.25]\n"
     ]
    }
   ],
   "source": [
    "notas = [[8, 6, 5], [4, 7, 9], [1, 7, 9], [2, 5, 6]]\n",
    "medias = []\n",
    "\n",
    "for columna in range(len(notas[0])): # De esta forma recorremos as columnas primeiro. Supoñemos que todas as filas son igual de largas\n",
    "    suma = 0\n",
    "    for fila in range(len(notas)):\n",
    "        suma += notas[fila][columna]\n",
    "    media = suma / len(notas)\n",
    "    medias.append(media)\n",
    "\n",
    "print(medias)"
   ]
  },
  {
   "cell_type": "markdown",
   "metadata": {},
   "source": [
    "## Ejercicio 13\n",
    "\n",
    "Utiliza una lista bidimensional para almacenar las temperaturas máximas de cada día de cada mes. Cada mes será una fila y las temperaturas estarán en columnas.\n",
    "\n",
    "Muestra las medias de cada mes."
   ]
  },
  {
   "cell_type": "code",
   "execution_count": null,
   "metadata": {},
   "outputs": [],
   "source": [
    "def calcular_media_lista(lista: list) -> float:\n",
    "    suma = 0\n",
    "    for valor in lista:\n",
    "        suma += valor\n",
    "    return suma / len(lista)\n",
    "\n",
    "\n",
    "temperaturas_maximas_galicia = [  \n",
    "    # Enero (31 días)\n",
    "    [12, 11, 12, 13, 12, 11, 12, 13, 13, 14, 13, 14, 12, 12, 13, 12, 11, 12, 13, 14, 13, 13, 14, 15, 14, 13, 12, 13, 12, 11, 12],\n",
    "    # Febrero (28 días)\n",
    "    [11, 12, 11, 12, 11, 12, 12, 13, 14, 13, 12, 12, 11, 12, 12, 13, 13, 14, 14, 13, 13, 12, 11, 12, 13, 12, 12, 11],\n",
    "    # Marzo (31 días)\n",
    "    [14, 15, 15, 16, 14, 13, 14, 15, 16, 17, 16, 15, 14, 15, 16, 17, 16, 15, 14, 14, 15, 16, 16, 17, 16, 15, 14, 13, 14, 15, 14],\n",
    "    # Abril (30 días)\n",
    "    [15, 16, 16, 15, 16, 17, 16, 15, 14, 15, 16, 16, 15, 14, 14, 15, 16, 15, 14, 15, 16, 17, 18, 18, 17, 16, 16, 15, 14, 13],\n",
    "    # Mayo (31 días)\n",
    "    [18, 19, 19, 18, 19, 20, 21, 21, 20, 19, 18, 19, 20, 21, 22, 21, 20, 19, 18, 17, 18, 19, 20, 21, 22, 22, 21, 20, 19, 18, 19],\n",
    "    # Junio (30 días)\n",
    "    [20, 21, 22, 22, 21, 22, 23, 23, 24, 24, 23, 22, 21, 20, 21, 22, 23, 23, 24, 25, 25, 24, 23, 22, 21, 22, 23, 24, 23, 22],\n",
    "    # Julio (31 días)\n",
    "    [23, 24, 25, 25, 24, 25, 26, 27, 27, 28, 27, 26, 25, 24, 23, 24, 25, 26, 27, 28, 29, 28, 27, 26, 25, 24, 23, 24, 25, 26, 27],\n",
    "    # Agosto (31 días)\n",
    "    [24, 25, 26, 25, 24, 23, 24, 25, 26, 27, 28, 27, 26, 25, 24, 23, 22, 23, 24, 25, 26, 27, 28, 28, 27, 26, 25, 24, 23, 24, 25],\n",
    "    # Septiembre (30 días)\n",
    "    [22, 23, 24, 23, 22, 21, 22, 23, 24, 25, 26, 25, 24, 23, 22, 21, 22, 23, 24, 23, 22, 21, 20, 21, 22, 23, 24, 25, 24, 23],\n",
    "    # Octubre (31 días)\n",
    "    [17, 17, 18, 19, 18, 17, 17, 18, 19, 18, 17, 17, 16, 15, 16, 17, 18, 17, 16, 15, 16, 17, 18, 19, 19, 18, 17, 16, 15, 14, 13],\n",
    "    # Noviembre (30 días)\n",
    "    [13, 13, 14, 14, 13, 12, 13, 14, 15, 14, 13, 13, 12, 13, 14, 13, 12, 13, 14, 15, 16, 15, 14, 13, 14, 15, 16, 15, 14, 13],\n",
    "    # Diciembre (31 días)\n",
    "    [11, 12, 11, 12, 11, 10, 11, 12, 13, 13, 12, 11, 10, 11, 12, 13, 13, 14, 13, 12, 11, 10, 11, 12, 13, 13, 12, 11, 10, 11, 12]\n",
    "]\n",
    "\n",
    "#temperaturas de marzo\n",
    "print(temperaturas_maximas_galicia[2])\n",
    "#temperaturas do 2 de marzo\n",
    "print(temperaturas_maximas_galicia[2][1])\n",
    "\n",
    "for mes in temperaturas_maximas_galicia:\n",
    "    print(calcular_media_lista(mes))\n"
   ]
  },
  {
   "cell_type": "code",
   "execution_count": null,
   "metadata": {},
   "outputs": [],
   "source": [
    "temperaturas_maximas_galicia = [  \n",
    "    # Enero (31 días)\n",
    "    [12, 11, 12, 13, 12, 11, 12, 13, 13, 14, 13, 14, 12, 12, 13, 12, 11, 12, 13, 14, 13, 13, 14, 15, 14, 13, 12, 13, 12, 11, 12],\n",
    "    # Febrero (28 días)\n",
    "    [11, 12, 11, 12, 11, 12, 12, 13, 14, 13, 12, 12, 11, 12, 12, 13, 13, 14, 14, 13, 13, 12, 11, 12, 13, 12, 12, 11],\n",
    "    # Marzo (31 días)\n",
    "    [14, 15, 15, 16, 14, 13, 14, 15, 16, 17, 16, 15, 14, 15, 16, 17, 16, 15, 14, 14, 15, 16, 16, 17, 16, 15, 14, 13, 14, 15, 14],\n",
    "    # Abril (30 días)\n",
    "    [15, 16, 16, 15, 16, 17, 16, 15, 14, 15, 16, 16, 15, 14, 14, 15, 16, 15, 14, 15, 16, 17, 18, 18, 17, 16, 16, 15, 14, 13],\n",
    "    # Mayo (31 días)\n",
    "    [18, 19, 19, 18, 19, 20, 21, 21, 20, 19, 18, 19, 20, 21, 22, 21, 20, 19, 18, 17, 18, 19, 20, 21, 22, 22, 21, 20, 19, 18, 19],\n",
    "    # Junio (30 días)\n",
    "    [20, 21, 22, 22, 21, 22, 23, 23, 24, 24, 23, 22, 21, 20, 21, 22, 23, 23, 24, 25, 25, 24, 23, 22, 21, 22, 23, 24, 23, 22],\n",
    "    # Julio (31 días)\n",
    "    [23, 24, 25, 25, 24, 25, 26, 27, 27, 28, 27, 26, 25, 24, 23, 24, 25, 26, 27, 28, 29, 28, 27, 26, 25, 24, 23, 24, 25, 26, 27],\n",
    "    # Agosto (31 días)\n",
    "    [24, 25, 26, 25, 24, 23, 24, 25, 26, 27, 28, 27, 26, 25, 24, 23, 22, 23, 24, 25, 26, 27, 28, 28, 27, 26, 25, 24, 23, 24, 25],\n",
    "    # Septiembre (30 días)\n",
    "    [22, 23, 24, 23, 22, 21, 22, 23, 24, 25, 26, 25, 24, 23, 22, 21, 22, 23, 24, 23, 22, 21, 20, 21, 22, 23, 24, 25, 24, 23],\n",
    "    # Octubre (31 días)\n",
    "    [17, 17, 18, 19, 18, 17, 17, 18, 19, 18, 17, 17, 16, 15, 16, 17, 18, 17, 16, 15, 16, 17, 18, 19, 19, 18, 17, 16, 15, 14, 13],\n",
    "    # Noviembre (30 días)\n",
    "    [13, 13, 14, 14, 13, 12, 13, 14, 15, 14, 13, 13, 12, 13, 14, 13, 12, 13, 14, 15, 16, 15, 14, 13, 14, 15, 16, 15, 14, 13],\n",
    "    # Diciembre (31 días)\n",
    "    [11, 12, 11, 12, 11, 10, 11, 12, 13, 13, 12, 11, 10, 11, 12, 13, 13, 14, 13, 12, 11, 10, 11, 12, 13, 13, 12, 11, 10, 11, 12]\n",
    "]\n",
    "\n",
    "for mes in temperaturas_maximas_galicia:\n",
    "    suma = 0\n",
    "    for dia in mes:\n",
    "        suma += dia\n",
    "    media = suma / len(mes)\n",
    "    print(media)"
   ]
  },
  {
   "cell_type": "markdown",
   "metadata": {},
   "source": [
    "## Ejercicio 13 NUEVO\n",
    "\n",
    "Crea una lista bidimensional de 6 filas y 7 columnas con valores aleatorios entre 0 y 9.\n",
    "\n",
    "Muéstrala por pantalla.\n",
    "\n",
    "Recórrela y almacena en una variable cuántos números pares hay en ella y almacena en otra cuántos impares.\n",
    "\n",
    "Muestra los resultados por pantalla.\n",
    "\n",
    "Vuelve a recorrerla para crear una lista unidimensional nueva con los números pares que aparecen en ella y otra con los impares."
   ]
  },
  {
   "cell_type": "code",
   "execution_count": 16,
   "metadata": {},
   "outputs": [
    {
     "name": "stdout",
     "output_type": "stream",
     "text": [
      "[[8, 2, 0, 5, 6, 0, 5], [2, 3, 3, 4, 3, 4, 2], [0, 9, 7, 9, 3, 7, 5], [5, 2, 3, 6, 5, 7, 1], [1, 1, 1, 3, 8, 4, 4], [6, 2, 6, 0, 5, 5, 1]]\n",
      "[8, 2, 0, 6, 0, 2, 4, 4, 2, 0, 2, 6, 8, 4, 4, 6, 2, 6, 0]\n",
      "[5, 5, 3, 3, 3, 9, 7, 9, 3, 7, 5, 5, 3, 5, 7, 1, 1, 1, 1, 3, 5, 5, 1]\n",
      "Hay  19 números pares y  23 números impares\n"
     ]
    }
   ],
   "source": [
    "import random\n",
    "\n",
    "filas = 6\n",
    "columnas = 7\n",
    "numeroMinimo = 0\n",
    "numeroMaximo = 9\n",
    "\n",
    "listota2 = [[random.randint(numeroMinimo, numeroMaximo) for i in range(columnas)] for j in range(filas)]  #para crear la matriz con número aleatorios\n",
    "\n",
    "print(listota2)\n",
    "\n",
    "pares = 0\n",
    "impares = 0\n",
    "\n",
    "for i in range(len(listota2)):\n",
    "    for j in range(len(listota2[i])):\n",
    "        if (listota2[i][j]) % 2 == 0:\n",
    "            pares += 1\n",
    "        elif (listota2[i][j]) % 2 != 0:\n",
    "            impares += 1\n",
    "\n",
    "lista_pares = [listota2[i][j] for i in range(len(listota2)) for j in range(len(listota2[i])) if listota2[i][j] % 2 == 0]\n",
    "lista_impares = [listota2[i][j] for i in range(len(listota2)) for j in range(len(listota2[i])) if listota2[i][j] % 2 != 0]\n",
    "\n",
    "print(lista_pares)\n",
    "print(lista_impares)\n",
    "\n",
    "print(\"Hay \", pares, \"números pares y \", impares, \"números impares\")"
   ]
  },
  {
   "cell_type": "markdown",
   "metadata": {},
   "source": [
    "# Comprensión de listas (AVANZADO)\n"
   ]
  },
  {
   "cell_type": "markdown",
   "metadata": {},
   "source": [
    "\n",
    "## Ejercicio 14\n",
    "\n",
    "Crea una lista con las 10 primeras potencias de 3."
   ]
  },
  {
   "cell_type": "code",
   "execution_count": 27,
   "metadata": {},
   "outputs": [
    {
     "name": "stdout",
     "output_type": "stream",
     "text": [
      "[3, 9, 27, 81, 243, 729, 2187, 6561, 19683, 59049]\n"
     ]
    }
   ],
   "source": [
    "lista_potencias = [3 ** i for i in range (1, 11)]\n",
    "print(lista_potencias)"
   ]
  },
  {
   "cell_type": "markdown",
   "metadata": {},
   "source": [
    "## Ejercicio 14 NUEVO\n",
    "\n",
    "Crea una lista bidimensional que contenga los agrupamientos del alumnado de una clase para un determinado proyecto. La lista contendrá otras listas con los componentes de cada grupo.\n",
    "\n",
    "Muestra la lista por pantalla, con los componentes de cada grupo en una misma línea. Haz que no aparezcan los []. Por ejemplo:\n",
    "\n",
    "```python\n",
    "Luis, Juan\n",
    "María, Elba, Mario\n",
    "Carola\n",
    "Pablo, Manuel, Raquel, Uxía\n",
    "```"
   ]
  },
  {
   "cell_type": "code",
   "execution_count": 1,
   "metadata": {},
   "outputs": [
    {
     "name": "stdout",
     "output_type": "stream",
     "text": [
      "Luis, Juan, \n",
      "María, Elba, Mario, \n",
      "Carola, \n",
      "Pablo, Manuel, Raquel, Uxía, \n"
     ]
    }
   ],
   "source": [
    "grupos_clase = [[\"Luis\", \"Juan\"], [\"María\", \"Elba\", \"Mario\"], [\"Carola\"], [\"Pablo\", \"Manuel\", \"Raquel\", \"Uxía\"]]\n",
    "\n",
    "for grupo in grupos_clase:\n",
    "    for alumno in grupo:\n",
    "        print(alumno, end=\", \")\n",
    "    print()"
   ]
  },
  {
   "cell_type": "markdown",
   "metadata": {},
   "source": [
    "## Ejercicio 15\n",
    "\n",
    "Crea una lista con los 100 primeros múltiplos de 7."
   ]
  },
  {
   "cell_type": "code",
   "execution_count": 29,
   "metadata": {},
   "outputs": [
    {
     "name": "stdout",
     "output_type": "stream",
     "text": [
      "[7, 14, 21, 28, 35, 42, 49, 56, 63, 70, 77, 84, 91, 98, 105, 112, 119, 126, 133, 140, 147, 154, 161, 168, 175, 182, 189, 196, 203, 210, 217, 224, 231, 238, 245, 252, 259, 266, 273, 280, 287, 294, 301, 308, 315, 322, 329, 336, 343, 350, 357, 364, 371, 378, 385, 392, 399, 406, 413, 420, 427, 434, 441, 448, 455, 462, 469, 476, 483, 490, 497, 504, 511, 518, 525, 532, 539, 546, 553, 560, 567, 574, 581, 588, 595, 602, 609, 616, 623, 630, 637, 644, 651, 658, 665, 672, 679, 686, 693, 700]\n"
     ]
    }
   ],
   "source": [
    "lista_multiplos = [7 * i for i in range (1, 101)]\n",
    "print(lista_multiplos)"
   ]
  },
  {
   "cell_type": "markdown",
   "metadata": {},
   "source": [
    "## Ejercicio 16\n",
    "\n",
    "Utilizando comprensión de listas, vuelve a resolver el ejercicio 3."
   ]
  },
  {
   "cell_type": "code",
   "execution_count": null,
   "metadata": {},
   "outputs": [
    {
     "name": "stdout",
     "output_type": "stream",
     "text": [
      "[1, 3, 5, 7]\n"
     ]
    }
   ],
   "source": [
    "numeros = [1, 2, 3, 4, 5, 6, 7, 8]\n",
    "impares = [i for i in numeros if i % 2 != 0]\n",
    "\n",
    "print(impares)"
   ]
  },
  {
   "cell_type": "markdown",
   "metadata": {},
   "source": [
    "## Ejercicio 17\n",
    "\n",
    "Utilizando comprensión de listas, vuelve a resolver el ejercicio 4."
   ]
  },
  {
   "cell_type": "code",
   "execution_count": 39,
   "metadata": {},
   "outputs": [
    {
     "name": "stdout",
     "output_type": "stream",
     "text": [
      "[2, 4, 6, 8, 10, 12]\n"
     ]
    }
   ],
   "source": [
    "lista = [1, 2, 3, 4, 5, 6]\n",
    "dobles = [i * 2 for i in range(1, len(lista) + 1)]\n",
    "print(dobles)"
   ]
  },
  {
   "cell_type": "markdown",
   "metadata": {},
   "source": [
    "## Ejercicio 18\n",
    "\n",
    "Utilizando comprensión de listas, vuelve a resolver el ejercicio 6."
   ]
  },
  {
   "cell_type": "code",
   "execution_count": 1,
   "metadata": {},
   "outputs": [
    {
     "name": "stdout",
     "output_type": "stream",
     "text": [
      "['cuatro', 'catorce', 'dieciseis']\n"
     ]
    }
   ],
   "source": [
    "lista_palabras = [\"cinco\", \"dos\", \"tres\", \"cuatro\", \"catorce\", \"dieciseis\"]\n",
    "longitud = 5\n",
    "\n",
    "lista_palargas = [palabra for palabra in lista_palabras if len(palabra) > longitud]\n",
    "\n",
    "print(lista_palargas)"
   ]
  },
  {
   "cell_type": "markdown",
   "metadata": {},
   "source": [
    "## Ejercicio 19\n",
    "\n",
    "Crea una lista con los números que sean múltiplos de 3 o de 5 hasta el 100."
   ]
  },
  {
   "cell_type": "code",
   "execution_count": 3,
   "metadata": {},
   "outputs": [
    {
     "name": "stdout",
     "output_type": "stream",
     "text": [
      "[3, 5, 6, 9, 10, 12, 15, 18, 20, 21, 24, 25, 27, 30, 33, 35, 36, 39, 40, 42, 45, 48, 50, 51, 54, 55, 57, 60, 63, 65, 66, 69, 70, 72, 75, 78, 80, 81, 84, 85, 87, 90, 93, 95, 96, 99]\n"
     ]
    }
   ],
   "source": [
    "lista_multiplos_de_3_o_5 = [i for i in range(1, 100) if i % 3 == 0 or i % 5 == 0]\n",
    "print(lista_multiplos_de_3_o_5)"
   ]
  },
  {
   "cell_type": "markdown",
   "metadata": {},
   "source": [
    "## Ejercicio 20\n",
    "\n",
    "Crea una lista con los divisores de un número que se pasa por teclado."
   ]
  },
  {
   "cell_type": "code",
   "execution_count": 4,
   "metadata": {},
   "outputs": [
    {
     "name": "stdout",
     "output_type": "stream",
     "text": [
      "[1, 2, 3, 4, 6, 12]\n"
     ]
    }
   ],
   "source": [
    "numero = int(input(\"Escribe un número para calcular sus divisores: \"))\n",
    "lista_divisores = [i for i in range(1, numero + 1) if numero % i == 0]\n",
    "print(lista_divisores)\n"
   ]
  },
  {
   "cell_type": "markdown",
   "metadata": {},
   "source": [
    "## Ejercicio 21\n",
    "\n",
    "Crea una lista con los años que son bisiestos a partir de una lista de años.\n",
    "\n",
    "Por ejemplo, a partir de [1995, 2004, 2003, 1900, 2008] debe devolver [2004, 2008].\n",
    "\n",
    "Debes utilizar la función `es_bisiesto(anho)` creada en el tema anterior y comprensión de listas."
   ]
  },
  {
   "cell_type": "code",
   "execution_count": 6,
   "metadata": {},
   "outputs": [
    {
     "name": "stdout",
     "output_type": "stream",
     "text": [
      "[2004, 2008]\n"
     ]
    }
   ],
   "source": [
    "def es_bisiesto(año):\n",
    "    if (año % 4 != 0):\n",
    "        return False\n",
    "    elif (año % 100 != 0):\n",
    "        return True\n",
    "    elif (año % 400 != 0):\n",
    "        return False\n",
    "    else:\n",
    "        return True\n",
    "    \n",
    "lista_años = [1995, 2004, 2003, 1900, 2008]\n",
    "lista_bisiestos = [año for año in lista_años if es_bisiesto(año)]\n",
    "print(lista_bisiestos)"
   ]
  },
  {
   "cell_type": "markdown",
   "metadata": {},
   "source": [
    "# Ejercicios sencillos listas bidimensionales\n",
    "\n",
    "## Ejercicio 22\n",
    "\n",
    "Crea una lista bidimensional de 6 filas y 7 columnas con valores aleatorios entre 0 y 9.\n",
    "\n",
    "Muéstrala por pantalla.\n",
    "\n",
    "Recórrela y almacena en una variable cuántos números pares hay en ella y almacena en otra cuántos impares.\n",
    "\n",
    "Muestra los resultados por pantalla.\n",
    "\n",
    "Vuelve a recorrerla para crear una lista unidimensional nueva con los números pares que aparecen en ella y otra con los impares."
   ]
  },
  {
   "cell_type": "code",
   "execution_count": 50,
   "metadata": {},
   "outputs": [
    {
     "name": "stdout",
     "output_type": "stream",
     "text": [
      "[[8, 1, 2, 9, 8, 9, 1], [8, 2, 3, 4, 2, 9, 1], [2, 4, 5, 3, 7, 5, 8], [4, 4, 4, 8, 4, 6, 6], [7, 7, 1, 4, 7, 4, 9], [9, 5, 0, 6, 2, 3, 7]]\n",
      "([1, 9, 9, 1, 3, 9, 1, 5, 3, 7, 5, 7, 7, 1, 7, 9, 9, 5, 3, 7], [1, 9, 9, 1, 3, 9, 1, 5, 3, 7, 5, 7, 7, 1, 7, 9, 9, 5, 3, 7])\n",
      "Hay  22 números pares y  20 números impares\n"
     ]
    }
   ],
   "source": [
    "import random\n",
    "from typing import Tuple\n",
    "\n",
    "# listota = [\n",
    "#    [1, 2, 3, 4, 5, 6, 7],\n",
    " #   [7, 8, 9, 0 ,1 ,2 ,3],\n",
    " #   [4, 5, 6, 7, 8, 9, 0],\n",
    "  #  [1, 2, 3, 4, 5, 6, 7],\n",
    "  #  [1, 3, 5, 7, 9, 2, 4],\n",
    "  #  [6, 8, 0, 2, 4, 1, 3], \n",
    "  #  [1, 2, 3, 9, 8, 7, 5]\n",
    "   # ]\n",
    "\n",
    "filas = 6\n",
    "columnas = 7\n",
    "numeroMinimo = 0\n",
    "numeroMaximo = 9\n",
    "\n",
    "listota2 = [[random.randint(numeroMinimo, numeroMaximo) for i in range(columnas)] for j in range(filas)]  #para crear la matriz con número aleatorios\n",
    "\n",
    "print(listota2)\n",
    "\n",
    "pares = 0\n",
    "impares = 0\n",
    "\n",
    "for i in range(len(listota2)):\n",
    "    for j in range(len(listota2[i])):\n",
    "        if (listota2[i][j]) % 2 == 0:\n",
    "            pares += 1\n",
    "        elif (listota2[i][j]) % 2 != 0:\n",
    "            impares += 1\n",
    "\n",
    "def lista_pares_impares(listota2: list[list[int]]) -> Tuple[list[int], list[int]]:\n",
    "    lista_pares = [listota2[i][j] for i in range(len(listota2)) for j in range(len(listota2[i])) if listota2[i][j] % 2 == 0]\n",
    "    lista_impares = [listota2[i][j] for i in range(len(listota2)) for j in range(len(listota2[i])) if listota2[i][j] % 2 != 0]\n",
    "    return lista_impares, lista_impares\n",
    "    \n",
    "\n",
    "print(lista_pares_impares(listota2))\n",
    "\n",
    "print(\"Hay \", pares, \"números pares y \", impares, \"números impares\")\n",
    "\n"
   ]
  },
  {
   "cell_type": "markdown",
   "metadata": {},
   "source": [
    "## Ejercicio 23\n",
    "\n",
    "Crea una lista bidimensional 3x3 que sirva para jugar al tres en raya, almacenará 3 posibles cadenas, una cadena vacía para indicar que no se ha puesto una ficha en esa posición, una 'o' para indicar que ha jugado el jugador 1 y una 'x' para el jugador 2.\n",
    "\n",
    "Crea una función que la recorra y que busque si se ha producido 3 en raya para el jugador 1 en alguna de las filas.\n",
    "\n",
    "Crea una función que la recorra y que busque si se ha producido 3 en raya para el jugador 1 en alguna de las columnas.\n",
    "\n",
    "**AVANZADO**: Crea una función que la recorra y que busque si se ha producido 3 en raya para el jugador 1 en alguna de las diagonales.\n",
    "\n",
    "**AVANZADO**: Crea una función que la recorra y que busque si se ha producido 3 en raya para algún jugador.\n",
    "\n",
    "**AVANZADO**: Completa el ejercicio para que dos jugadores puedan jugar al 3 en raya.\n"
   ]
  },
  {
   "cell_type": "code",
   "execution_count": null,
   "metadata": {},
   "outputs": [
    {
     "ename": "SyntaxError",
     "evalue": "incomplete input (3466579261.py, line 11)",
     "output_type": "error",
     "traceback": [
      "\u001b[1;36m  Cell \u001b[1;32mIn[74], line 11\u001b[1;36m\u001b[0m\n\u001b[1;33m    \u001b[0m\n\u001b[1;37m    ^\u001b[0m\n\u001b[1;31mSyntaxError\u001b[0m\u001b[1;31m:\u001b[0m incomplete input\n"
     ]
    }
   ],
   "source": [
    "import random\n",
    "\n",
    "opciones = [\"\", \"o\", \"x\"]\n",
    "listilla = [[random.choice(opciones) for i in range(3)] for j in range(3)]\n",
    "\n",
    "print(listilla)\n",
    "\n",
    "def busca_tres_horizontal(listilla):\n",
    "    for i in range(len(listilla)):\n",
    "        \n",
    "\n",
    "\n"
   ]
  }
 ],
 "metadata": {
  "kernelspec": {
   "display_name": "Python 3",
   "language": "python",
   "name": "python3"
  },
  "language_info": {
   "codemirror_mode": {
    "name": "ipython",
    "version": 3
   },
   "file_extension": ".py",
   "mimetype": "text/x-python",
   "name": "python",
   "nbconvert_exporter": "python",
   "pygments_lexer": "ipython3",
   "version": "3.12.6"
  }
 },
 "nbformat": 4,
 "nbformat_minor": 2
}
