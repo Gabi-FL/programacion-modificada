{
 "cells": [
  {
   "cell_type": "markdown",
   "metadata": {},
   "source": [
    "# Ejercicios"
   ]
  },
  {
   "cell_type": "markdown",
   "metadata": {},
   "source": [
    "## Ejercicio 1\n",
    "\n",
    "Escribir un programa que pregunte al usuario su nombre, edad, dirección y teléfono y lo guarde en un diccionario. Después debe mostrar por pantalla el mensaje \n",
    "\n",
    "`<nombre> tiene <edad> años, vive en <dirección> y su número de teléfono es <teléfono>.`"
   ]
  },
  {
   "cell_type": "code",
   "execution_count": 3,
   "metadata": {},
   "outputs": [
    {
     "name": "stdout",
     "output_type": "stream",
     "text": [
      "asdfdsf tiene 10 años, vive en sdafsdfasdf y su número de teléfono es 156487\n"
     ]
    }
   ],
   "source": [
    "diccionario = {}\n",
    "diccionario[\"nombre\"] = input(\"Escribe tu nombre: \")\n",
    "diccionario[\"edad\"] = input(\"Escribe tu edad: \")\n",
    "diccionario[\"dirección\"] = input(\"Escribe tu dirección: \")\n",
    "diccionario[\"teléfono\"] = input (\"Escribe tu teléfono: \")\n",
    "print(diccionario[\"nombre\"], \"tiene\", diccionario[\"edad\"], \"años, vive en\", diccionario[\"dirección\"], \"y su número de teléfono es\", diccionario[\"teléfono\"])\n"
   ]
  },
  {
   "cell_type": "markdown",
   "metadata": {},
   "source": [
    "## Ejercicio 2\n",
    "\n",
    "Escribe un programa que lea una cadena y devuelva un diccionario con la cantidad de apariciones de cada vocal en la cadena."
   ]
  },
  {
   "cell_type": "code",
   "execution_count": 3,
   "metadata": {},
   "outputs": [
    {
     "name": "stdout",
     "output_type": "stream",
     "text": [
      "a 2\n",
      "e 1\n",
      "i 1\n",
      "o 3\n",
      "u 1\n"
     ]
    }
   ],
   "source": [
    "diccionario_contador = {\"a\":0, \"e\":0, \"i\":0, \"o\":0, \"u\":0}\n",
    "cadena = \"murcielago sarnoso\"\n",
    "for letra in cadena:\n",
    "    if letra in diccionario_contador.keys():\n",
    "        diccionario_contador[letra] = diccionario_contador[letra] + 1\n",
    "for valor in diccionario_contador:\n",
    "    print(valor, diccionario_contador[valor])"
   ]
  },
  {
   "cell_type": "markdown",
   "metadata": {},
   "source": [
    "## Ejercicio 3\n",
    "\n",
    "Escribe un programa que cuente la frecuencia de las palabras en una cadena de texto dada. El programa debe devolver un diccionario donde las claves sean las palabras y los valores sean la frecuencia de cada palabra.\n",
    "\n",
    "Puedes realizar este ejercicio de Codewars que es muy similar: https://www.codewars.com/kata/578de3801499359921000130\n"
   ]
  },
  {
   "cell_type": "code",
   "execution_count": 7,
   "metadata": {},
   "outputs": [
    {
     "name": "stdout",
     "output_type": "stream",
     "text": [
      "Escribe 1\n",
      "un 2\n",
      "programa 2\n",
      "que 1\n",
      "cuente 1\n",
      "la 2\n",
      "frecuencia 2\n",
      "de 3\n",
      "las 3\n",
      "palabras 2\n",
      "en 1\n",
      "una 1\n",
      "cadena 1\n",
      "texto 1\n",
      "dada. 1\n",
      "El 1\n",
      "debe 1\n",
      "devolver 1\n",
      "diccionario 1\n",
      "donde 1\n",
      "claves 1\n",
      "sean 2\n",
      "y 1\n",
      "los 1\n",
      "valores 1\n",
      "cada 1\n",
      "palabra 1\n"
     ]
    }
   ],
   "source": [
    "dic_cont = {}\n",
    "cadena = \"Escribe un programa que cuente la frecuencia de las palabras en una cadena de texto dada. El programa debe devolver un diccionario donde las claves sean las palabras y los valores sean la frecuencia de cada palabra\"\n",
    "lista = cadena.split()\n",
    "for palabra in lista:\n",
    "    if palabra not in dic_cont:\n",
    "        dic_cont[palabra] = 0\n",
    "    if palabra in dic_cont:\n",
    "        dic_cont[palabra] = dic_cont[palabra] + 1\n",
    "for valor in dic_cont:\n",
    "    print(valor, dic_cont[valor])"
   ]
  },
  {
   "cell_type": "markdown",
   "metadata": {},
   "source": [
    "## Ejericio 4\n",
    "\n",
    "Escribe un programa que a partir de dos tuplas, una con nombres y otra con edades las convierta en un diccionario donde las claves sean los nombres y los valores sean las edades."
   ]
  },
  {
   "cell_type": "code",
   "execution_count": 11,
   "metadata": {},
   "outputs": [
    {
     "name": "stdout",
     "output_type": "stream",
     "text": [
      "{'Ana': 21, 'André': 25, 'Pedro': 19, 'Carlos': 30, 'Daniel': 59}\n"
     ]
    }
   ],
   "source": [
    "nombres = (\"Ana\", \"André\", \"Pedro\", \"Carlos\", \"Daniel\")\n",
    "edades = (21, 25, 19, 30, 59)\n",
    "dic_edades = {}\n",
    "\n",
    "for i in range(len(nombres)):\n",
    "    dic_edades[nombres[i]] = edades[i]\n",
    "\n",
    "print(dic_edades)"
   ]
  },
  {
   "cell_type": "markdown",
   "metadata": {},
   "source": [
    "## Ejercicio 5\n",
    "\n",
    "Escribe un programa que utilice un diccionario como lista de la compra. La clave será el nombre del producto y el valor será la cantidad. El programa irá pidiendo los productos y la cantidad que se ha comprado, y los irá añadiendo al diccionario. \n",
    "\n",
    "El programa mostrará la lista de la compra.\n",
    "\n",
    "```python\n",
    "Producto    Cantidad\n",
    "Manzanas    2\n",
    "Peras       3\n",
    "Naranjas    1\n",
    "```\n",
    "\n",
    "Añade un nuevo diccionario que relacione el producto con su precio unitario. \n",
    "\n",
    "Tu programa debe usar ambos diccionarios para mostrar el ticket de compra con el precio total de la compra de cada producto y el precio total de la compra.\n",
    "\n",
    "```python\n",
    "Producto    Cantidad    Precio unitario    Precio total\n",
    "Manzanas    2           0.35 €             0.7 €\n",
    "Peras       3           0.40 €             1.2 €\n",
    "Naranjas    1           0.50 €             0.5 €\n",
    "\n",
    "TOTAL                                      2.4 € \n",
    "```"
   ]
  },
  {
   "cell_type": "code",
   "execution_count": 7,
   "metadata": {},
   "outputs": [
    {
     "name": "stdout",
     "output_type": "stream",
     "text": [
      "Manzanas 2 0.35 0.7\n",
      "Peras 3 0.4 1.2\n",
      "Naranjas 1 0.5 0.5\n",
      "Arroz 2 1.33 2.66\n",
      "5.0600000000000005\n"
     ]
    }
   ],
   "source": [
    "lista_compra = {\"Manzanas\":2, \"Peras\":3, \"Naranjas\":1}\n",
    "lista_precios = {\"Manzanas\":0.35, \"Peras\":0.40, \"Naranjas\":0.50}\n",
    "respuesta = \"s\"\n",
    "total = 0\n",
    "\n",
    "while respuesta == \"s\":\n",
    "    item = input(\"introduce el nombre del producto que quieres añadir a la lista: \")\n",
    "    lista_compra[item] = int(input(\"Introduce la cantidad: \"))\n",
    "    lista_precios[item] = float(input(\"Introduce el precio: \"))\n",
    "    respuesta = input(\"¿quieres añadir otro producto? s/n: \")\n",
    "\n",
    "for clave, valor in lista_compra.items():\n",
    "    total_item = round(valor * lista_precios[clave], 2)\n",
    "    print(clave, valor, lista_precios[clave], total_item)\n",
    "    total += total_item\n",
    "\n",
    "print(round(total, 2))\n"
   ]
  },
  {
   "cell_type": "markdown",
   "metadata": {},
   "source": [
    "## Ejercicio 6\n",
    "\n",
    "De cara a preparar la cena de fin de año, una familia almacena en una tupla las distintas posibilidades y pregunta a los asistentes a la cena cuál de ellas prefieren. Crea un programa en Python que:\n",
    "\n",
    "- Declare dicha tupla y muestre un menú que pregunte a los asistentes cuál es su opción preferida (esto deberá repetirse hasta que se indique que no hay más personas por decidir).\n",
    "- Almacene en una lista unidimensional las elecciones de los asistentes (pueden estar repetidas).\n",
    "- Crea una función a la que se le pase la lista creada anteriormente y devuelva un diccionario con el número de veces que se eligió cada opción."
   ]
  },
  {
   "cell_type": "code",
   "execution_count": 19,
   "metadata": {},
   "outputs": [
    {
     "name": "stdout",
     "output_type": "stream",
     "text": [
      "Escoge una opción:\n",
      "1 carne\n",
      "2 verdura\n",
      "3 pescado\n",
      "4 marisco\n"
     ]
    }
   ],
   "source": [
    "lista_opciones = (\"carne\", \"verdura\", \"pescado\", \"marisco\")\n",
    "contador_elecciones = {\"carne\": 0, \"verdura\": 0, \"pescado\": 0, \"marisco\": 0}\n",
    "lista_elecciones = []\n",
    "respuesta = \"s\"\n",
    "\n",
    "while respuesta == \"s\":\n",
    "    print(\"Estas son las opciones:\")\n",
    "    for i in range(len(lista_opciones)):\n",
    "        print(i + 1, lista_opciones[i])\n",
    "    eleccion = int(input(\"Escoge una opción: \"))\n",
    "    lista_elecciones.append(lista_opciones[eleccion - 1])\n",
    "    respuesta = input(\"¿Quieres añadir otro comensal? s/n: \")"
   ]
  }
 ],
 "metadata": {
  "kernelspec": {
   "display_name": "Python 3",
   "language": "python",
   "name": "python3"
  },
  "language_info": {
   "codemirror_mode": {
    "name": "ipython",
    "version": 3
   },
   "file_extension": ".py",
   "mimetype": "text/x-python",
   "name": "python",
   "nbconvert_exporter": "python",
   "pygments_lexer": "ipython3",
   "version": "3.12.6"
  }
 },
 "nbformat": 4,
 "nbformat_minor": 2
}
