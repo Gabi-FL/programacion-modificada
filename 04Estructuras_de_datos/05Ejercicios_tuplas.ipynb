{
 "cells": [
  {
   "cell_type": "markdown",
   "metadata": {},
   "source": [
    "# Ejercicios\n",
    "\n",
    "## Ejercicio 1\n",
    "\n",
    "Utilizando una tupla, escribe una función a la que se le pase el número del mes y devuelva su nombre.\n",
    "\n",
    "Crea un programa principal para probarla.\n"
   ]
  },
  {
   "cell_type": "code",
   "execution_count": null,
   "metadata": {},
   "outputs": [
    {
     "name": "stdout",
     "output_type": "stream",
     "text": [
      "Enero\n"
     ]
    }
   ],
   "source": [
    "def nombre_mes(numero_mes: int) -> str:\n",
    "    \"\"\"Recibe el número del mes y te devuelve el nombre\n",
    "\n",
    "    Args:\n",
    "        numero_mes (int): el número de mes\n",
    "\n",
    "    Returns:\n",
    "        str: el nombre del mes\n",
    "\n",
    "    >>> nombre_mes(1)\n",
    "    'Enero'\n",
    "    >>> nombre_mes(12)\n",
    "    'Diciembre'\n",
    "    >>> nombre_mes(13)\n",
    "    'Valor no válido'\n",
    "    \"\"\"\n",
    "    if numero_mes < 13 and numero_mes > 0:\n",
    "        mes = (\"Enero\", \"Febrero\", \"Marzo\", \"Abril\", \"Mayo\", \"Junio\", \"Julio\", \"Agosto\", \"Septiembre\", \"Octubre\", \"Noviembre\", \"Diciembre\")\n",
    "        return mes[numero_mes - 1]\n",
    "    else:\n",
    "        return \"Valor no válido\"\n",
    "\n",
    "numero_mes = int(input(\"Escribe el número del mes: \"))\n",
    "print(nombre_mes(numero_mes))"
   ]
  },
  {
   "cell_type": "markdown",
   "metadata": {},
   "source": [
    "## Ejercicio 2\n",
    "\n",
    "Busca el algoritmo para calcular la letra del DNI y crea una función que use listas para devolver la letra del mismo."
   ]
  },
  {
   "cell_type": "code",
   "execution_count": 11,
   "metadata": {},
   "outputs": [
    {
     "name": "stdout",
     "output_type": "stream",
     "text": [
      "12345678Z\n"
     ]
    }
   ],
   "source": [
    "def encontrar_letra_dni(numero_dni: int) -> str:\n",
    "    \"\"\"te calcula la letra de tu dni\n",
    "\n",
    "    Args:\n",
    "        numero_dni (int): el dni sin letra\n",
    "\n",
    "    Returns:\n",
    "        str: la letra que te corresponde\n",
    "\n",
    "    >>> encontrar_letra_dni(12345678)\n",
    "    'Z'\n",
    "    >>> encontrar_letra_dni(12345679)\n",
    "    'S'\n",
    "    >>> encontrar_letra_dni(0)\n",
    "    'T'\n",
    "    >>> encontrar_letra_dni (-123)\n",
    "    'Número no válido'\n",
    "    \"\"\"\n",
    "    letras = (\"T\", \"R\",\t\"W\", \"A\", \"G\", \"M\",\t\"Y\", \"F\", \"P\", \"D\", \"X\", \"B\", \"N\", \"J\", \"Z\", \"S\", \"Q\", \"V\", \"H\", \"L\", \"C\", \"K\", \"E\")\n",
    "    if numero_dni < 0 or numero_dni > 99999999:\n",
    "        return \"Número no válido\"\n",
    "    letra_dni = letras[numero_dni % 23]\n",
    "    return letra_dni\n",
    "\n",
    "\n",
    "numero_dni = int(input(\"Escribe el número de DNI sin letra\"))\n",
    "print(numero_dni, encontrar_letra_dni(numero_dni), sep=\"\")"
   ]
  },
  {
   "cell_type": "markdown",
   "metadata": {},
   "source": [
    "# Ejercicio 3\n",
    "\n",
    "Crea una función a la que se le pase un día de la semana y devuelva el siguiente, por ejemplo, si le pasamos \"lunes\" nos devolverá \"martes\"."
   ]
  },
  {
   "cell_type": "code",
   "execution_count": 18,
   "metadata": {},
   "outputs": [
    {
     "name": "stdout",
     "output_type": "stream",
     "text": [
      "martes\n"
     ]
    }
   ],
   "source": [
    "def mañana(hoy: str) -> str:\n",
    "    \"\"\"Recibe un día de la semana y devuelve el siguiente\n",
    "        Args:\n",
    "        hoy(str): el día como cadena de caracteres\n",
    "\n",
    "    Returns:\n",
    "        str: el día siguiente al que has escrito\n",
    "\n",
    "    >>> mañana(\"lunes\")\n",
    "    'martes'\n",
    "    >>> mañana(\"domingo\")\n",
    "    'lunes'\n",
    "    >>> mañana(\"hola\")\n",
    "    'Valor no válido'\n",
    "    \"\"\"\n",
    "    dias = (\"lunes\", \"martes\", \"miércoles\",\n",
    "            \"jueves\", \"viernes\", \"sábado\", \"domingo\")\n",
    "    if hoy in dias:\n",
    "        return dias[(dias.index(hoy) + 1) % 7]\n",
    "    else:\n",
    "        return \"Valor no válido\"\n",
    "\n",
    "\n",
    "hoy = input(\"escribe el nombre del día de la semana:\\n\")\n",
    "print(mañana(hoy))\n"
   ]
  },
  {
   "cell_type": "markdown",
   "metadata": {},
   "source": [
    "## Ejercicio 4: AVANZADO\n",
    "\n",
    "En matemáticas, el número imaginario $i$ es $\\sqrt{-1}$. Así sus potencias serán:\n",
    "\n",
    "$i^0 = 1$\n",
    "\n",
    "$i^1 = i$\n",
    "\n",
    "$i^2 = -1$\n",
    "\n",
    "$i^3 = -i$\n",
    "\n",
    "$i^4 = 1 $\n",
    "\n",
    "$i^5 = i $\n",
    "\n",
    "$...$\n",
    "\n",
    "Escribe una función a la que se le pase el exponente para una potencia de $i$ y devuelva, como cadena, el resultado.\n",
    "\n",
    "[Ejercicio en codewars] (https://www.codewars.com/kata/5a97387e5ee396e70a00016d/train/python)"
   ]
  }
 ],
 "metadata": {
  "kernelspec": {
   "display_name": "Python 3",
   "language": "python",
   "name": "python3"
  },
  "language_info": {
   "codemirror_mode": {
    "name": "ipython",
    "version": 3
   },
   "file_extension": ".py",
   "mimetype": "text/x-python",
   "name": "python",
   "nbconvert_exporter": "python",
   "pygments_lexer": "ipython3",
   "version": "3.12.6"
  }
 },
 "nbformat": 4,
 "nbformat_minor": 2
}
