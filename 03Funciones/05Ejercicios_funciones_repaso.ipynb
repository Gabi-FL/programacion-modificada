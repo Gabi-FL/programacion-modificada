{
 "cells": [
  {
   "cell_type": "markdown",
   "metadata": {},
   "source": [
    "## Ejercicio 1\n",
    "\n",
    "Crea una función que reciba un número y devuelva True si el número es par y False si es impar.\n",
    "\n",
    "A continuación, el programa debe pedir dos números y mostrar los números pares entre ellos."
   ]
  },
  {
   "cell_type": "code",
   "execution_count": null,
   "metadata": {},
   "outputs": [],
   "source": [
    "def es_par(num: int) -> bool:\n",
    "    '''\n",
    "    Función que determina si un número es o no par.\n",
    "\n",
    "    Parámetros:\n",
    "    num: int\n",
    "    Número a determinar si es par o no\n",
    "\n",
    "    Devolve:\n",
    "    bool\n",
    "        True si el número es pa, False si es impar\n",
    "\n",
    "    >>> es_par(4)\n",
    "    True\n",
    "    >>> es_par(5)\n",
    "    False\n",
    "    >>> es_par(0)\n",
    "    True\n",
    "    '''\n",
    "    #if num % 2 == 0:           OPCIÓN NORMAL, SENCILLA\n",
    "    #   return True\n",
    "    #else:\n",
    "    #    return False\n",
    "    \n",
    "    #return True if num % 2 == 0 else False         OPCIÓN UN POCO MEJOR\n",
    "\n",
    "    return num % 2 == 0                 #OPCIÓN IDEAL"
   ]
  },
  {
   "cell_type": "markdown",
   "metadata": {},
   "source": [
    "## Ejercicio 2\n",
    "\n",
    "Crea una función que convierta grados Celsius a Fahrenheit. Debe recibir un número con grados Celsius y devolver su equivalente en grados Fahrenheit."
   ]
  },
  {
   "cell_type": "code",
   "execution_count": null,
   "metadata": {},
   "outputs": [],
   "source": [
    "def celsius_a_fahrenheit(gradosC: float) -> float:\n",
    "    '''\n",
    "    Convierte grados Celsius a Fahrenheit\n",
    "\n",
    "    Parámetros:\n",
    "    gradosC (float): Los grados en Celsius\n",
    "\n",
    "    Devuelve:\n",
    "    float: Los grados covnertidos a Fahrenheit\n",
    "\n",
    "    >>> celsius_a_fahrenheit(0)\n",
    "    32\n",
    "    >>> celsius_a_fahrenheit(100)\n",
    "    212\n",
    "    >>> celsius_a_fahrenheit(-40)\n",
    "    -40\n",
    "    >>> celsius_a_fahrenheit(37)\n",
    "    98.6\n",
    "    >>> celsius_a_fahrenheit(-10)\n",
    "    14\n",
    "    '''\n",
    "\n",
    "    return (gradosC * 9 / 5) + 32"
   ]
  },
  {
   "cell_type": "markdown",
   "metadata": {},
   "source": [
    "## Ejercicio 3\n",
    "\n",
    "Crea una función que reciba un número y devuelva el factorial de ese número."
   ]
  },
  {
   "cell_type": "code",
   "execution_count": null,
   "metadata": {},
   "outputs": [],
   "source": [
    "def factorial(num: int) -> int:\n",
    "    \"\"\"Función que devuelve el factorial de un número dado\n",
    "\n",
    "    Args:\n",
    "        num (int): _description_\n",
    "\n",
    "    Returns:\n",
    "        int: _description_\n",
    "    \"\"\""
   ]
  },
  {
   "cell_type": "markdown",
   "metadata": {},
   "source": [
    "## Ejercicio 4\n",
    "\n",
    "Crea una función que devuelva un número aleatorio entre un rango dado. La función debe recibir min y max como argumentos, con valores por defecto de 1 y 100, respectivamente."
   ]
  },
  {
   "cell_type": "markdown",
   "metadata": {},
   "source": [
    "## Ejercicio 5\n",
    "\n",
    "Crea una función que cuente cuántas vocales hay en una cadena de texto. La función debe recibir una cadena de texto y devolver el número de vocales."
   ]
  },
  {
   "cell_type": "markdown",
   "metadata": {},
   "source": [
    "## Ejercicio 6\n",
    "\n",
    "Crea una función que clasifique a una persona en \"niñx\", \"adolescente\", \"adultx\" o \"ancianx\" según su edad. La función debe aceptar un argumento edad y devolver una cadena con la clasificación."
   ]
  },
  {
   "cell_type": "markdown",
   "metadata": {},
   "source": [
    "## Ejercicio 7\n",
    "\n",
    "Crea una función que reciba tres parámetros, el nombre y los dos apellidos de una persona y devuelva el nombre completo con los dos apellidos. Debe poder llamarse con dos argumentos (nombre y primera apellido) o con tres (nombre y dos apellidos)."
   ]
  }
 ],
 "metadata": {
  "language_info": {
   "name": "python"
  }
 },
 "nbformat": 4,
 "nbformat_minor": 2
}
