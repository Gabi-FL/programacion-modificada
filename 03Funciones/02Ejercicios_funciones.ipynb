{
 "cells": [
  {
   "cell_type": "markdown",
   "metadata": {},
   "source": [
    "# Ejercicio 1\n",
    "Crea una función que calcule y devuelva el área de un círculo.\n",
    "\n"
   ]
  },
  {
   "cell_type": "code",
   "execution_count": 7,
   "metadata": {},
   "outputs": [
    {
     "name": "stdout",
     "output_type": "stream",
     "text": [
      "el área del círculo es 78.53981633974483\n"
     ]
    }
   ],
   "source": [
    "import math\n",
    "\n",
    "def area_cir(radio):\n",
    "    return radio ** 2 * math.pi\n",
    "\n",
    "radio = int(input(\"Escribe el radio del círculo\"))\n",
    "print(\"el área del círculo es\", area_cir(radio))"
   ]
  },
  {
   "cell_type": "markdown",
   "metadata": {},
   "source": [
    "# Ejercicio 2\n",
    "Crea una función que reciba un número entero y muestre por pantalla un cuadrado de asteriscos con tantos asteriscos como se le haya indicado. Por ejemplo, si se le pasa el valor 3, muestra:\n",
    "\n",
    "\"***\"\n",
    "\"***\"\n",
    "\"***\""
   ]
  },
  {
   "cell_type": "code",
   "execution_count": 15,
   "metadata": {},
   "outputs": [
    {
     "name": "stdout",
     "output_type": "stream",
     "text": [
      "* * * * * * \n",
      "* * * * * * \n",
      "* * * * * * \n",
      "* * * * * * \n",
      "* * * * * * \n",
      "* * * * * * \n"
     ]
    }
   ],
   "source": [
    "def cuadrado_asteriscos(lado):\n",
    "    for i in range(lado):\n",
    "        for j in range(lado):\n",
    "            print(\"*\", end=\" \")\n",
    "        print()\n",
    "\n",
    "lado = int(input(\"escribe de cuanto quieres el lado del cuadrado\"))\n",
    "cuadrado_asteriscos(lado)\n",
    "\n",
    "\n",
    "\n"
   ]
  },
  {
   "cell_type": "markdown",
   "metadata": {},
   "source": [
    "# Ejercicio 3\n",
    "Crea una función a la que se le pase la edad de un alumno y devuelva si es o no mayor de edad (como un valor booleano).\n"
   ]
  },
  {
   "cell_type": "code",
   "execution_count": 25,
   "metadata": {},
   "outputs": [
    {
     "name": "stdout",
     "output_type": "stream",
     "text": [
      "El alumno es menor de edad\n"
     ]
    }
   ],
   "source": [
    "def mayor_o_no(edad):\n",
    "    if edad >= 18:\n",
    "        return True\n",
    "    else:\n",
    "        return False\n",
    "    \n",
    "edad = int(input(\"escribe la edad del alumno\"))\n",
    "print (\"el alumno es mayor de edad\", mayor_o_no(edad))\n",
    "#print (\"El alumno es mayor de edad\" if False else \"El alumno es menor de edad\")"
   ]
  },
  {
   "cell_type": "markdown",
   "metadata": {},
   "source": [
    "# Ejercicio 4\n",
    "Crea una función que no reciba parámetros y muestre por pantalla el siguiente menú:\n",
    "\n",
    "    1. Saludar\n",
    "    2. Despedir\n",
    "    3. Salir\n",
    "Debe devolver el valor escogido por el usuario.\n",
    "\n",
    "El programa principal debe llamar a la función y ejecutar la opción que haya escogido el usuario."
   ]
  },
  {
   "cell_type": "markdown",
   "metadata": {},
   "source": [
    "# Ejercicio 5\n",
    "\n",
    "Crea una función en Python que calcule e imprima el volumen y el área del cono.\n",
    "\n",
    "Modifícala para que sean dos funciones, una que devuelva el volumen y otra el área del cono.\n",
    "\n",
    "**AVANZADO** Modifícala para que sea una función que devuelve dos valores."
   ]
  },
  {
   "cell_type": "code",
   "execution_count": 12,
   "metadata": {},
   "outputs": [
    {
     "name": "stdout",
     "output_type": "stream",
     "text": [
      "189.611889793704 130.89969389957471\n"
     ]
    }
   ],
   "source": [
    "import math\n",
    "\n",
    "def vol_area_cono (radio, altura):\n",
    "    generatriz = math.sqrt(radio ** 2 + altura ** 2)\n",
    "    area_cono = math.pi * radio * (radio + generatriz)\n",
    "    vol_cono = (math.pi * radio ** 2 * altura) / 3\n",
    "    print (area_cono, vol_cono)\n",
    "\n",
    "radio = int(input(\"Introduce el radio\"))\n",
    "altura = int(input(\"introduce la altura\"))\n",
    "\n",
    "vol_area_cono(radio, altura)\n",
    "    "
   ]
  },
  {
   "cell_type": "code",
   "execution_count": 35,
   "metadata": {},
   "outputs": [
    {
     "name": "stdout",
     "output_type": "stream",
     "text": [
      "el volumen es 130.89969389957471\n",
      "el área es 189.611889793704\n"
     ]
    }
   ],
   "source": [
    "import math\n",
    "\n",
    "def voluc (radio, altura):\n",
    "    generatriz = math.sqrt(radio ** 2 + altura ** 2)\n",
    "    vol_cono = (math.pi * radio ** 2 * altura) / 3\n",
    "    return vol_cono\n",
    "\n",
    "def areac (radio, altura):\n",
    "    generatriz = math.sqrt(radio ** 2 + altura ** 2)\n",
    "    area_cono = math.pi * radio * (radio + generatriz)\n",
    "    return area_cono\n",
    "\n",
    "radio = int(input(\"Introduce el radio\"))\n",
    "altura = int(input(\"introduce la altura\"))\n",
    "\n",
    "print (\"el volumen es\", voluc(radio, altura))\n",
    "print (\"el área es\", areac(radio, altura))\n",
    "\n"
   ]
  },
  {
   "cell_type": "code",
   "execution_count": 36,
   "metadata": {},
   "outputs": [
    {
     "name": "stdout",
     "output_type": "stream",
     "text": [
      "El área es 189.611889793704 y el volumen es 130.89969389957471\n"
     ]
    }
   ],
   "source": [
    "import math\n",
    "\n",
    "def vol_area_cono (radio, altura):\n",
    "    generatriz = math.sqrt(radio ** 2 + altura ** 2)\n",
    "    area_cono = math.pi * radio * (radio + generatriz)\n",
    "    vol_cono = (math.pi * radio ** 2 * altura) / 3\n",
    "    return area_cono, vol_cono\n",
    "\n",
    "radio = int(input(\"Introduce el radio\"))\n",
    "altura = int(input(\"introduce la altura\"))\n",
    "\n",
    "a, v = vol_area_cono(radio, altura)\n",
    "\n",
    "print(\"El área es\", a, \"y el volumen es\", v)\n"
   ]
  },
  {
   "cell_type": "markdown",
   "metadata": {},
   "source": [
    "# Ejercicio 6\n",
    "\n",
    "Crea una función en Python que indique si un año es o no bisiesto. Devolverá `True` cuando\n",
    "lo es y `False` en caso contrario. Crea un programa principal que solicite el año al usuario y\n",
    "haga uso de la función."
   ]
  },
  {
   "cell_type": "code",
   "execution_count": 34,
   "metadata": {},
   "outputs": [
    {
     "data": {
      "text/plain": [
       "True"
      ]
     },
     "execution_count": 34,
     "metadata": {},
     "output_type": "execute_result"
    }
   ],
   "source": [
    "def bisiesto(año):\n",
    "    if (año % 4 != 0):\n",
    "        return True\n",
    "    elif (año % 100 != 0):\n",
    "        return True\n",
    "    elif (año % 400 != 0):\n",
    "        return False\n",
    "    else:\n",
    "        return True\n",
    "    \n",
    "año = int(input(\"escribe un año\\n\"))\n",
    "bisiesto(año)"
   ]
  },
  {
   "cell_type": "markdown",
   "metadata": {},
   "source": [
    "# Ejercicio 7\n",
    "\n",
    "Utiliza la función anterior para crear un script que pida al usuario mediante un formulario un\n",
    "año mínimo y uno máximo y devuelva los años bisiestos que se encuentren entre ambos.\n",
    "\n",
    "**AVANZADO**: Crea con esto otra función, que haga uso de la del Ejercicio 2, a la que se le pasen los años de inicio y fin. En el caso de que no se le pase ningún año de fin tomará 2023 como valor por defecto.\n"
   ]
  },
  {
   "cell_type": "code",
   "execution_count": null,
   "metadata": {},
   "outputs": [],
   "source": [
    "def bisiesto(año):\n",
    "    if (año % 4 != 0):\n",
    "        return True\n",
    "    elif (año % 100 != 0):\n",
    "        return True\n",
    "    elif (año % 400 != 0):\n",
    "        return False\n",
    "    else:\n",
    "        return True\n",
    "    \n"
   ]
  },
  {
   "cell_type": "markdown",
   "metadata": {},
   "source": [
    "# Ejercicio 8\n",
    "\n",
    "Crea una función en Python que determine si un número es, o no, primo. La función\n",
    "devolverá `True` cuando el número sea primo y `False`, en caso contrario.\n"
   ]
  },
  {
   "cell_type": "markdown",
   "metadata": {},
   "source": [
    "# Ejercicio 9\n",
    "\n",
    "Utiliza la función anterior para crear un script que pida al usuario mediante un formulario un\n",
    "número y devuelva los números primos menores que ese número."
   ]
  },
  {
   "cell_type": "markdown",
   "metadata": {},
   "source": [
    "# Ejercicio 10\n",
    "\n",
    "Crea una función en Python que reciba un número y genere una pirámide como la siguiente\n",
    "(esta sería la generada cuando se recibe el número 5):\n",
    "```python\n",
    "    1\n",
    "   212\n",
    "  32123\n",
    " 4321234\n",
    "543212345\n",
    "```\n",
    "Paso 1\n",
    "```python\n",
    "1\n",
    "21\n",
    "321\n",
    "4321\n",
    "54321\n",
    "```\n",
    "Paso 2\n",
    "```python\n",
    "    1\n",
    "   21\n",
    "  321\n",
    " 4321\n",
    "54321\n",
    "```\n",
    "Paso 3\n",
    "```python\n",
    "    1\n",
    "   212\n",
    "  32123\n",
    " 4321234\n",
    "543212345\n",
    "```"
   ]
  }
 ],
 "metadata": {
  "kernelspec": {
   "display_name": "Python 3",
   "language": "python",
   "name": "python3"
  },
  "language_info": {
   "codemirror_mode": {
    "name": "ipython",
    "version": 3
   },
   "file_extension": ".py",
   "mimetype": "text/x-python",
   "name": "python",
   "nbconvert_exporter": "python",
   "pygments_lexer": "ipython3",
   "version": "3.12.6"
  },
  "orig_nbformat": 4
 },
 "nbformat": 4,
 "nbformat_minor": 2
}
