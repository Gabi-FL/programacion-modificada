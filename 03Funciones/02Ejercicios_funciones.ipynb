{
 "cells": [
  {
   "cell_type": "markdown",
   "metadata": {},
   "source": [
    "# Ejercicio 1\n",
    "Crea una función que calcule y devuelva el área de un círculo.\n",
    "\n"
   ]
  },
  {
   "cell_type": "code",
   "execution_count": 54,
   "metadata": {},
   "outputs": [
    {
     "data": {
      "text/plain": [
       "314.1592653589793"
      ]
     },
     "execution_count": 54,
     "metadata": {},
     "output_type": "execute_result"
    }
   ],
   "source": [
    "import math\n",
    "\n",
    "def area_cir(radio):\n",
    "    return radio ** 2 * math.pi\n",
    "\n",
    "#area_cir(10)"
   ]
  },
  {
   "cell_type": "markdown",
   "metadata": {},
   "source": [
    "# Ejercicio 1a\n",
    "\n",
    "Crea ahora dos programas principales diferentes en las que se pueda usar dicha función.\n",
    "a. Uno que pida al usuario el radio y le diga el área del círculo\n",
    "b. Un programa para una empresa que crea posavasos circulares, para calcular el material que le va a hacer falta, pregunta al usuario cuántos posavasos quiere y cuál es su radio y calcula el área total de todos los posavasos. El usuario puede elegir varios tipos de posavasos y diferente cantidad para cada uno de ellos.\n"
   ]
  },
  {
   "cell_type": "code",
   "execution_count": null,
   "metadata": {},
   "outputs": [],
   "source": [
    "import math\n",
    "\n",
    "def area_cir(radio):\n",
    "    return radio ** 2 * math.pi\n",
    "\n",
    "radio = int(input(\"Escribe el radio del círculo\"))\n",
    "print(\"el área del círculo es\", round(area_cir(radio), 2))"
   ]
  },
  {
   "cell_type": "code",
   "execution_count": 55,
   "metadata": {},
   "outputs": [
    {
     "name": "stdout",
     "output_type": "stream",
     "text": [
      "En total necesitarás 2042.0352248333656\n"
     ]
    }
   ],
   "source": [
    "import math\n",
    "\n",
    "def area_cir(radio):\n",
    "    return radio ** 2 * math.pi\n",
    "\n",
    "r = \"s\"\n",
    "suma = 0\n",
    "\n",
    "while r == \"s\":\n",
    "    cantidad = int(input(\"¿cuántos posavasos quieres? \"))\n",
    "    radio = int(input(\"Escribe el radio del posavasos \"))\n",
    "    suma += area_cir(radio) * cantidad\n",
    "    r = input(\"¿quieres añadir más a tu pedido? s/n \")\n",
    "\n",
    "print(f\"En total necesitarás {suma} cm\\u00B2\")"
   ]
  },
  {
   "cell_type": "markdown",
   "metadata": {},
   "source": [
    "# Ejercicio 2\n",
    "Crea una función que reciba un número entero y muestre por pantalla un cuadrado de asteriscos con tantos asteriscos como se le haya indicado. Por ejemplo, si se le pasa el valor 3, muestra:\n",
    "\n",
    "\"***\"\n",
    "\"***\"\n",
    "\"***\""
   ]
  },
  {
   "cell_type": "code",
   "execution_count": 15,
   "metadata": {},
   "outputs": [
    {
     "name": "stdout",
     "output_type": "stream",
     "text": [
      "* * * * * * \n",
      "* * * * * * \n",
      "* * * * * * \n",
      "* * * * * * \n",
      "* * * * * * \n",
      "* * * * * * \n"
     ]
    }
   ],
   "source": [
    "def cuadrado_asteriscos(lado):\n",
    "    for i in range(lado):\n",
    "        for j in range(lado):\n",
    "            print(\"*\", end=\" \")\n",
    "        print()\n",
    "\n",
    "lado = int(input(\"escribe de cuanto quieres el lado del cuadrado\"))\n",
    "cuadrado_asteriscos(lado)\n",
    "\n",
    "\n",
    "\n"
   ]
  },
  {
   "cell_type": "code",
   "execution_count": 16,
   "metadata": {},
   "outputs": [
    {
     "name": "stdout",
     "output_type": "stream",
     "text": [
      "* * * * * * * * * * * * * * * \n",
      "* * * * * * * * * * * * * * * \n",
      "* * * * * * * * * * * * * * * \n",
      "* * * * * * * * * * * * * * * \n",
      "* * * * * * * * * * * * * * * \n",
      "* * * * * * * * * * * * * * * \n",
      "* * * * * * * * * * * * * * * \n",
      "* * * * * * * * * * * * * * * \n",
      "* * * * * * * * * * * * * * * \n",
      "* * * * * * * * * * * * * * * \n",
      "* * * * * * * * * * * * * * * \n",
      "* * * * * * * * * * * * * * * \n",
      "* * * * * * * * * * * * * * * \n",
      "* * * * * * * * * * * * * * * \n",
      "* * * * * * * * * * * * * * * \n"
     ]
    }
   ],
   "source": [
    "def cuadrado_asteriscos(lado):     #SOLUCIÓN ALTERNATIVA SIMPLIFICADA\n",
    "    for i in range(lado):\n",
    "        print(\"* \" * lado)\n",
    "\n",
    "lado = int(input(\"escribe de cuanto quieres el lado del cuadrado\"))\n",
    "cuadrado_asteriscos(lado)\n"
   ]
  },
  {
   "cell_type": "markdown",
   "metadata": {},
   "source": [
    "# Ejercicio 3\n",
    "Crea una función a la que se le pase la edad de un alumno y devuelva si es o no mayor de edad (como un valor booleano).\n"
   ]
  },
  {
   "cell_type": "code",
   "execution_count": 25,
   "metadata": {},
   "outputs": [
    {
     "name": "stdout",
     "output_type": "stream",
     "text": [
      "El alumno es mayor de edad\n"
     ]
    }
   ],
   "source": [
    "def es_mayor_de_edad(edad):\n",
    "    if edad >= 18:\n",
    "        return True\n",
    "    else:\n",
    "        return False\n",
    "    \n",
    "edad = int(input(\"escribe la edad del alumno\"))\n",
    "print (\"El alumno es mayor de edad\" if es_mayor_de_edad(edad) else \"El alumno es menor de edad\")"
   ]
  },
  {
   "cell_type": "code",
   "execution_count": 18,
   "metadata": {},
   "outputs": [
    {
     "name": "stdout",
     "output_type": "stream",
     "text": [
      "El alumno es mayor de edad\n"
     ]
    }
   ],
   "source": [
    "def es_mayor_de_edad(edad):      #VERSIÓN SIMPLIFICADA\n",
    "    if edad >= 18:\n",
    "        return True\n",
    "    return False\n",
    "    \n",
    "edad = int(input(\"escribe la edad del alumno\"))\n",
    "print (\"El alumno es\", \"mayor\" if es_mayor_de_edad(edad) else \"menor\", \"de edad\")"
   ]
  },
  {
   "cell_type": "code",
   "execution_count": 19,
   "metadata": {},
   "outputs": [
    {
     "name": "stdout",
     "output_type": "stream",
     "text": [
      "El alumno es menor de edad\n"
     ]
    }
   ],
   "source": [
    "def es_mayor_de_edad(edad):                     #MÁS SIMPLIFICADO TODAVÍA\n",
    "    return edad >= 18\n",
    "    \n",
    "edad = int(input(\"escribe la edad del alumno\"))\n",
    "print (\"El alumno es\", \"mayor\" if es_mayor_de_edad(edad) else \"menor\", \"de edad\")"
   ]
  },
  {
   "cell_type": "markdown",
   "metadata": {},
   "source": [
    "# Ejercicio 4\n",
    "Crea una función que no reciba parámetros y muestre por pantalla el siguiente menú:\n",
    "\n",
    "    1. Saludar\n",
    "    2. Despedir\n",
    "    3. Salir\n",
    "Debe devolver el valor escogido por el usuario.\n",
    "\n",
    "El programa principal debe llamar a la función y ejecutar la opción que haya escogido el usuario."
   ]
  },
  {
   "cell_type": "code",
   "execution_count": 21,
   "metadata": {},
   "outputs": [
    {
     "name": "stdout",
     "output_type": "stream",
     "text": [
      "1. Saludar\n",
      "2. Despedir\n",
      "3. Salir\n",
      "Salir\n"
     ]
    }
   ],
   "source": [
    "def menu():\n",
    "    print(\"1. Saludar\\n2. Despedir\\n3. Salir\")\n",
    "    opcion = int(input(\"escoge una opción\"))\n",
    "    return opcion\n",
    "\n",
    "opcion = menu()\n",
    "\n",
    "if opcion == 1:\n",
    "    print(\"hola\")\n",
    "elif opcion == 2:\n",
    "    print(\"adiós\")\n",
    "else:\n",
    "    print()\n"
   ]
  },
  {
   "cell_type": "code",
   "execution_count": 22,
   "metadata": {},
   "outputs": [
    {
     "name": "stdout",
     "output_type": "stream",
     "text": [
      "\n",
      "          1. Saludar\n",
      "          2. Despedir\n",
      "          3. Salir\n",
      "Salir\n"
     ]
    }
   ],
   "source": [
    "def menu():\n",
    "    print('''\n",
    "          1. Saludar\n",
    "          2. Despedir\n",
    "          3. Salir''')\n",
    "    return int(input(\"Escoge una opción: \"))\n",
    "\n",
    "match menu():\n",
    "    case 1:\n",
    "        print(\"Hola\")\n",
    "    case 2:\n",
    "        print(\"Adios\")\n",
    "    case 3:\n",
    "        print(\"Salir\")\n",
    "    case _:\n",
    "        print(\"opción incorrecta\")\n",
    "\n",
    "\n"
   ]
  },
  {
   "cell_type": "markdown",
   "metadata": {},
   "source": [
    "# Ejercicio 5\n",
    "\n",
    "Crea una función en Python que calcule e imprima el volumen y el área del cono.\n",
    "\n",
    "Modifícala para que sean dos funciones, una que devuelva el volumen y otra el área del cono.\n",
    "\n",
    "**AVANZADO** Modifícala para que sea una función que devuelve dos valores."
   ]
  },
  {
   "cell_type": "code",
   "execution_count": 24,
   "metadata": {},
   "outputs": [
    {
     "name": "stdout",
     "output_type": "stream",
     "text": [
      "area 189.61 volumen 130.9\n"
     ]
    }
   ],
   "source": [
    "import math\n",
    "\n",
    "def vol_area_cono (radio, altura):\n",
    "    generatriz = math.sqrt(radio ** 2 + altura ** 2)\n",
    "    area_cono = math.pi * radio * (radio + generatriz)\n",
    "    vol_cono = (math.pi * radio ** 2 * altura) / 3\n",
    "    print (\"área\", round(area_cono, 2), \"volumen\", round(vol_cono, 2))\n",
    "\n",
    "radio = int(input(\"Introduce el radio\"))\n",
    "altura = int(input(\"introduce la altura\"))\n",
    "\n",
    "vol_area_cono(radio, altura)\n",
    "    "
   ]
  },
  {
   "cell_type": "code",
   "execution_count": 26,
   "metadata": {},
   "outputs": [
    {
     "name": "stdout",
     "output_type": "stream",
     "text": [
      "el área es de 189.61 y el volumen es de 130.9\n"
     ]
    }
   ],
   "source": [
    "import math\n",
    "\n",
    "def voluc (radio, altura):\n",
    "    vol_cono = (math.pi * radio ** 2 * altura) / 3\n",
    "    return vol_cono\n",
    "\n",
    "def areac (radio, altura):\n",
    "    generatriz = math.sqrt(radio ** 2 + altura ** 2)\n",
    "    area_cono = math.pi * radio * (radio + generatriz)\n",
    "    return area_cono\n",
    "\n",
    "radio = int(input(\"Introduce el radio\"))\n",
    "altura = int(input(\"introduce la altura\"))\n",
    "\n",
    "#print (\"el volumen es\", round(voluc(radio, altura), 2))\n",
    "#print (\"el área es\", round(areac(radio, altura), 2))\n",
    "print(f\"el área es de {round(areac(radio, altura), 2)} y el volumen es de {round(voluc(radio, altura), 2)}\")\n",
    "\n"
   ]
  },
  {
   "cell_type": "code",
   "execution_count": 28,
   "metadata": {},
   "outputs": [
    {
     "name": "stdout",
     "output_type": "stream",
     "text": [
      "El área es 189.61 y el volumen es 130.9\n",
      "El área es 189.61 y el voumen es 130.9\n"
     ]
    }
   ],
   "source": [
    "import math\n",
    "\n",
    "def vol_area_cono (radio, altura):\n",
    "    generatriz = math.sqrt(radio ** 2 + altura ** 2)\n",
    "    area_cono = math.pi * radio * (radio + generatriz)\n",
    "    vol_cono = (math.pi * radio ** 2 * altura) / 3\n",
    "    return area_cono, vol_cono\n",
    "\n",
    "radio = int(input(\"Introduce el radio\"))\n",
    "altura = int(input(\"introduce la altura\"))\n",
    "\n",
    "a, v = vol_area_cono(radio, altura)\n",
    "\n",
    "print(\"El área es\", round(a, 2), \"y el volumen es\", round(v, 2))\n",
    "print(f\"El área es {round(a, 2)} y el volumen es {round(v, 2)}\")\n"
   ]
  },
  {
   "cell_type": "markdown",
   "metadata": {},
   "source": [
    "# Ejercicio 6\n",
    "\n",
    "Crea una función en Python que indique si un año es o no bisiesto. Devolverá `True` cuando\n",
    "lo es y `False` en caso contrario. Crea un programa principal que solicite el año al usuario y\n",
    "haga uso de la función."
   ]
  },
  {
   "cell_type": "code",
   "execution_count": 30,
   "metadata": {},
   "outputs": [
    {
     "name": "stdout",
     "output_type": "stream",
     "text": [
      "El año NO es bisiesto\n",
      "3000 no es bisiesto\n"
     ]
    }
   ],
   "source": [
    "def es_bisiesto(año):\n",
    "    if (año % 4 != 0):\n",
    "        return False\n",
    "    elif (año % 100 != 0):\n",
    "        return True\n",
    "    elif (año % 400 != 0):\n",
    "        return False\n",
    "    else:\n",
    "        return True\n",
    "    \n",
    "año = int(input(\"escribe un año\\n\"))\n",
    "print(\"El año es bisiesto\" if es_bisiesto(año) else \"El año NO es bisiesto\")\n",
    "print(f\"{año}{\"\" if es_bisiesto(año) else \" no\"} es bisiesto\")  #f string fuerza a que sea todo una cadena de carateres en la que puedes meter variables o condiciones entre llaves {}"
   ]
  },
  {
   "cell_type": "code",
   "execution_count": 35,
   "metadata": {},
   "outputs": [
    {
     "name": "stdout",
     "output_type": "stream",
     "text": [
      "1999 es bisiesto\n"
     ]
    }
   ],
   "source": [
    "def es_bisiesto(año):                                             #VERSIÓN SIMPLIFICADÍSIMA\n",
    "    return not (año % 4 != 0) or (año % 100 == 0) or (año % 400 != 0)\n",
    "\n",
    "año = int(input(\"escribe un año\\n\"))\n",
    "\n",
    "print(f\"{año}{\"\" if es_bisiesto(año) else \" no\"} es bisiesto\") "
   ]
  },
  {
   "cell_type": "markdown",
   "metadata": {},
   "source": [
    "# Ejercicio 7\n",
    "\n",
    "Utiliza la función anterior para crear un script que pida al usuario mediante un formulario un\n",
    "año mínimo y uno máximo y devuelva los años bisiestos que se encuentren entre ambos.\n",
    "\n",
    "**AVANZADO**: Crea con esto otra función, que haga uso de la del Ejercicio 2, a la que se le pasen los años de inicio y fin. En el caso de que no se le pase ningún año de fin tomará 2023 como valor por defecto.\n"
   ]
  },
  {
   "cell_type": "code",
   "execution_count": 39,
   "metadata": {},
   "outputs": [
    {
     "name": "stdout",
     "output_type": "stream",
     "text": [
      "2000 es bisiesto\n",
      "2004 es bisiesto\n",
      "2008 es bisiesto\n",
      "2012 es bisiesto\n",
      "2016 es bisiesto\n",
      "2020 es bisiesto\n"
     ]
    }
   ],
   "source": [
    "def es_bisiesto(año):\n",
    "    if (año % 4 != 0):\n",
    "        return False\n",
    "    elif (año % 100 != 0):\n",
    "        return True\n",
    "    elif (año % 400 != 0):\n",
    "        return False\n",
    "    else:\n",
    "        return True\n",
    "    \n",
    "min = int(input(\"escribe el año de inicio \"))\n",
    "max = int(input(\"Escribe el año final \"))\n",
    "\n",
    "for i in range(min, max + 1):\n",
    "    if es_bisiesto(i):\n",
    "        print (i, \"es bisiesto\")\n"
   ]
  },
  {
   "cell_type": "code",
   "execution_count": 28,
   "metadata": {},
   "outputs": [
    {
     "name": "stdout",
     "output_type": "stream",
     "text": [
      "2000 es bisiesto,2001 no es bisiesto,2002 no es bisiesto,2003 no es bisiesto,2004 es bisiesto,2005 no es bisiesto,"
     ]
    }
   ],
   "source": [
    "def es_bisiesto(año):\n",
    "    if (año % 4 != 0):\n",
    "        return False\n",
    "    elif (año % 100 != 0):\n",
    "        return True\n",
    "    elif (año % 400 != 0):\n",
    "        return False\n",
    "    else:\n",
    "        return True\n",
    "    \n",
    "min = int(input(\"escribe el año de inicio \"))\n",
    "max = input(\"Escribe el año final \")\n",
    "\n",
    "if max == \"\":\n",
    "    max = 2023\n",
    "else:\n",
    "    max = int(max)\n",
    "\n",
    "for i in range(min, max + 1):\n",
    "    if es_bisiesto(i):\n",
    "        print (i, \"es bisiesto\")"
   ]
  },
  {
   "cell_type": "markdown",
   "metadata": {},
   "source": [
    "# Ejercicio 8\n",
    "\n",
    "Crea una función en Python que determine si un número es, o no, primo. La función\n",
    "devolverá `True` cuando el número sea primo y `False`, en caso contrario.\n"
   ]
  },
  {
   "cell_type": "code",
   "execution_count": 16,
   "metadata": {},
   "outputs": [
    {
     "name": "stdout",
     "output_type": "stream",
     "text": [
      "6  es primo\n"
     ]
    }
   ],
   "source": [
    "def es_primo(numero: int) -> bool:              #MAL\n",
    "    resto = 0\n",
    "    contador = 0\n",
    "    for i in range(numero, 0, -1):\n",
    "        resto = numero % i\n",
    "        if resto != 0:\n",
    "            contador += 1\n",
    "        \n",
    "    if contador == numero - 1:\n",
    "        return True\n",
    "    else:\n",
    "        return False\n",
    "    \n",
    "numero = int(input(\"escribe un número \"))\n",
    "print(f\"{numero} {\"NO\" if es_primo(numero) else \"\"} es primo\")"
   ]
  },
  {
   "cell_type": "code",
   "execution_count": 9,
   "metadata": {},
   "outputs": [
    {
     "name": "stdout",
     "output_type": "stream",
     "text": [
      "15 no es primo\n"
     ]
    }
   ],
   "source": [
    "def es_primo(numero: int) -> bool:\n",
    "    for i in range(2, numero):\n",
    "        if numero % i == 0:\n",
    "            return False\n",
    "    return True\n",
    "\n",
    "numero = int(input(\"escribe un número \"))\n",
    "print(f\"{numero}{\"\" if es_primo(numero) else \" no\"} es primo\")"
   ]
  },
  {
   "cell_type": "markdown",
   "metadata": {},
   "source": [
    "# Ejercicio 9\n",
    "\n",
    "Utiliza la función anterior para crear un script que pida al usuario mediante un formulario un\n",
    "número y devuelva los números primos menores que ese número."
   ]
  },
  {
   "cell_type": "code",
   "execution_count": null,
   "metadata": {},
   "outputs": [],
   "source": [
    "def es_primo(numero):                   #MAL\n",
    "    resto = 0\n",
    "    contador = 0\n",
    "    for j in range (numero, 0 -1):\n",
    "        for i in range(numero, 0, -1):\n",
    "            resto = numero % i\n",
    "            if resto != 0:\n",
    "                contador += 1\n",
    "        \n",
    "    if contador == numero - 1:\n",
    "        return True\n",
    "    else:\n",
    "        return False\n",
    "    \n",
    "numero = int(input(\"escribe un número \"))\n",
    "print(f\"{numero} {\"\" if es_primo(numero) else \"no\"} es primo\")"
   ]
  },
  {
   "cell_type": "code",
   "execution_count": null,
   "metadata": {},
   "outputs": [
    {
     "name": "stdout",
     "output_type": "stream",
     "text": [
      "Hay 0 números primos\n"
     ]
    }
   ],
   "source": [
    "def son_primos(limite):                 #MAL\n",
    "\n",
    "    contador = 0\n",
    "    limite = 0\n",
    "\n",
    "    for numero in range(1, limite + 1):\n",
    "        es_primo = True\n",
    "        for i in range(2, numero):\n",
    "            if numero % i == 0: #Es divisible\n",
    "                es_primo = False\n",
    "                break\n",
    "        if es_primo:\n",
    "            contador += 1\n",
    "            \n",
    "        print (numero, \"Es primo\" if es_primo else \"No es primo\")\n",
    "    print (\"Hay\", contador, \"números primos\")\n",
    "            \n",
    "    \n",
    "limite = int(input(\"escribe un número \"))\n",
    "es_primo(limite)\n",
    "\n",
    "#print(f\"{numero} {\"\" if es_primo(numero) else \"no\"} es primo\")"
   ]
  },
  {
   "cell_type": "code",
   "execution_count": 10,
   "metadata": {},
   "outputs": [
    {
     "name": "stdout",
     "output_type": "stream",
     "text": [
      "1\n",
      "2\n",
      "3\n",
      "5\n",
      "7\n",
      "11\n",
      "13\n"
     ]
    }
   ],
   "source": [
    "def es_primo(numero: int) -> bool:\n",
    "    for i in range(2, numero):\n",
    "        if numero % i == 0:\n",
    "            return False\n",
    "    return True\n",
    "\n",
    "numero = int(input(\"escribe un número \"))\n",
    "\n",
    "for i in range(1, numero):\n",
    "    if es_primo(i):\n",
    "        print (i)"
   ]
  },
  {
   "cell_type": "markdown",
   "metadata": {},
   "source": [
    "# Ejercicio 10\n",
    "\n",
    "Crea una función en Python que reciba un número y genere una pirámide como la siguiente\n",
    "(esta sería la generada cuando se recibe el número 5):\n",
    "```python\n",
    "    1\n",
    "   212\n",
    "  32123\n",
    " 4321234\n",
    "543212345\n",
    "```\n",
    "Paso 1\n",
    "```python\n",
    "1\n",
    "21\n",
    "321\n",
    "4321\n",
    "54321\n",
    "```\n",
    "Paso 2\n",
    "```python\n",
    "    1\n",
    "   21\n",
    "  321\n",
    " 4321\n",
    "54321\n",
    "```\n",
    "Paso 3\n",
    "```python\n",
    "    1\n",
    "   212\n",
    "  32123\n",
    " 4321234\n",
    "543212345\n",
    "```"
   ]
  },
  {
   "cell_type": "code",
   "execution_count": null,
   "metadata": {},
   "outputs": [
    {
     "name": "stdout",
     "output_type": "stream",
     "text": [
      "1\n",
      "21\n",
      "321\n",
      "4321\n",
      "54321\n"
     ]
    }
   ],
   "source": [
    "def piramide(numero: int) -> None:\n",
    "    for fila in range(1, numero + 1): #filas\n",
    "        for columna in range(fila, 0, -1):   #columnas\n",
    "            print(columna, end=\"\")\n",
    "        print()\n",
    "\n",
    "piramide(5)"
   ]
  },
  {
   "cell_type": "code",
   "execution_count": 13,
   "metadata": {},
   "outputs": [
    {
     "name": "stdout",
     "output_type": "stream",
     "text": [
      "    1\n",
      "   21\n",
      "  321\n",
      " 4321\n",
      "54321\n"
     ]
    }
   ],
   "source": [
    "def piramide(numero: int) -> None:\n",
    "    for fila in range(1, numero + 1): #filas\n",
    "        print(\" \" * (numero - fila), end=\"\")\n",
    "        for columna in range(fila, 0, -1):   #columnas\n",
    "            print(columna, end=\"\")\n",
    "        print()\n",
    "\n",
    "piramide(5)"
   ]
  },
  {
   "cell_type": "code",
   "execution_count": null,
   "metadata": {},
   "outputs": [
    {
     "name": "stdout",
     "output_type": "stream",
     "text": [
      "    1\n",
      "   212\n",
      "  32123\n",
      " 4321234\n",
      "543212345\n"
     ]
    }
   ],
   "source": [
    "def piramide(numero: int) -> None:\n",
    "    for fila in range(1, numero + 1):           #filas\n",
    "        print(\" \" * (numero - fila), end=\"\")\n",
    "        for columna in range(fila, 0, -1):      #columnas 1ª parte\n",
    "            print(columna, end=\"\")\n",
    "        for columna in range(2, fila + 1):\n",
    "            print(columna, end=\"\")              #columnas 2ª parte\n",
    "        print()\n",
    "\n",
    "piramide(5)"
   ]
  }
 ],
 "metadata": {
  "kernelspec": {
   "display_name": "Python 3",
   "language": "python",
   "name": "python3"
  },
  "language_info": {
   "codemirror_mode": {
    "name": "ipython",
    "version": 3
   },
   "file_extension": ".py",
   "mimetype": "text/x-python",
   "name": "python",
   "nbconvert_exporter": "python",
   "pygments_lexer": "ipython3",
   "version": "3.12.6"
  },
  "orig_nbformat": 4
 },
 "nbformat": 4,
 "nbformat_minor": 2
}
