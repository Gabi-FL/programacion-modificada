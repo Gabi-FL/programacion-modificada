{
 "cells": [
  {
   "cell_type": "markdown",
   "metadata": {},
   "source": [
    "# Ejercicios estructuras selectivas\n",
    "\n",
    "## Ruta\n",
    "Si acabas de empezar a programar, intenta hacer, como mínimo, los ejercicios del 1 al 8. Después intenta el 9 y el 11.\n",
    "\n",
    "Si ya tienes algo de experiencia programando, puedes empezar en el ejercicio 10.\n",
    "\n",
    "## Ejercicio 1\n",
    "\n",
    "Implementa un programa en Python que pida por teclado un número entero y que indique si es par (si es impar, no muestra nada).\n"
   ]
  },
  {
   "cell_type": "code",
   "execution_count": 2,
   "metadata": {},
   "outputs": [],
   "source": [
    "numero = int(input(\"escribe un número\"))\n",
    "if (numero % 2 == 0):\n",
    "    print(\"el número es par\")"
   ]
  },
  {
   "cell_type": "markdown",
   "metadata": {},
   "source": [
    "## Ejercicio 2\n",
    "\n",
    "Modifica el programa para que indique si es par o impar."
   ]
  },
  {
   "cell_type": "code",
   "execution_count": 7,
   "metadata": {},
   "outputs": [
    {
     "name": "stdout",
     "output_type": "stream",
     "text": [
      "el número es impar\n"
     ]
    }
   ],
   "source": [
    "numero = int(input(\"escribe un número\"))\n",
    "if (numero % 2 == 0):\n",
    "    print(\"el número es par\")\n",
    "else:\n",
    "    print(\"el número es impar\")"
   ]
  },
  {
   "cell_type": "markdown",
   "metadata": {},
   "source": [
    "## Ejercicio 3\n",
    "\n",
    "Implementa un programa en Python que pida dos números por teclado y que muestre por pantalla al menor de los dos (suponemos que no pueden ser iguales).\n"
   ]
  },
  {
   "cell_type": "code",
   "execution_count": 9,
   "metadata": {},
   "outputs": [
    {
     "name": "stdout",
     "output_type": "stream",
     "text": [
      "2 es menor\n"
     ]
    }
   ],
   "source": [
    "primer_numero = int(input(\"escribe un número\"))\n",
    "segundo_numero = int(input(\"escribe un número distinto\"))\n",
    "if (primer_numero < segundo_numero):\n",
    "    print(primer_numero, \"es menor\")\n",
    "else:\n",
    "    print(segundo_numero, \"es menor\")\n"
   ]
  },
  {
   "cell_type": "markdown",
   "metadata": {},
   "source": [
    "## Ejercicio 4\n",
    "\n",
    "Implementa un programa en Python que pida un número por teclado y que muestre por pantalla un mensaje indicando si es o no negativo. El 0 no es negativo."
   ]
  },
  {
   "cell_type": "code",
   "execution_count": 12,
   "metadata": {},
   "outputs": [
    {
     "name": "stdout",
     "output_type": "stream",
     "text": [
      "0 es positivo\n"
     ]
    }
   ],
   "source": [
    "numero = int(input(\"escribe un número\"))\n",
    "if (numero >= 0):\n",
    "    print(numero, \"es positivo\")\n",
    "else:\n",
    "    print(numero, \"es negativo\")"
   ]
  },
  {
   "cell_type": "markdown",
   "metadata": {},
   "source": [
    "## Ejercicio 5\n",
    "\n",
    "Implementa un programa en Python que pida tres números por teclado y muestre por pantalla el mayor de los tres.\n",
    "\n",
    "**VERSIÓN AVANZADA**: Busca información sobre la función `max()` e intenta resolverlo con ella (no necesitarás estructuras selectivas). Busca también la función `min()` y muestra el mayor y el menor de ellos."
   ]
  },
  {
   "cell_type": "code",
   "execution_count": 4,
   "metadata": {},
   "outputs": [
    {
     "name": "stdout",
     "output_type": "stream",
     "text": [
      "3 es el mayor\n"
     ]
    }
   ],
   "source": [
    "primer_numero = int(input(\"escribe un número\\n\"))\n",
    "segundo_numero = int(input(\"escribe un número distinto\"))\n",
    "tercer_numero = int (input(\"escribe otro número distinto de los anteriores\"))\n",
    "if (primer_numero > segundo_numero) and (primer_numero > tercer_numero):\n",
    "    print(primer_numero, \"es el mayor\")\n",
    "elif (primer_numero < segundo_numero) and (segundo_numero > tercer_numero):\n",
    "    print(segundo_numero, \"es el mayor\")\n",
    "else:\n",
    "    print(tercer_numero, \"es el mayor\")"
   ]
  },
  {
   "cell_type": "code",
   "execution_count": 17,
   "metadata": {},
   "outputs": [
    {
     "name": "stdout",
     "output_type": "stream",
     "text": [
      "3 es el mayor\n"
     ]
    }
   ],
   "source": [
    "primer_numero = int(input(\"escribe un número\"))\n",
    "segundo_numero = int(input(\"escribe un número distinto\"))\n",
    "tercer_numero = int (input(\"escribe otro número distinto de los anteriores\"))\n",
    "print(max(primer_numero, segundo_numero, tercer_numero), \"es el mayor\")"
   ]
  },
  {
   "cell_type": "code",
   "execution_count": 5,
   "metadata": {},
   "outputs": [
    {
     "name": "stdout",
     "output_type": "stream",
     "text": [
      "1 es el menor 6 es el mayor\n"
     ]
    }
   ],
   "source": [
    "primer_numero = int(input(\"escribe un número\"))\n",
    "segundo_numero = int(input(\"escribe un número distinto\"))\n",
    "tercer_numero = int (input(\"escribe otro número distinto de los anteriores\"))\n",
    "print(min(primer_numero, segundo_numero, tercer_numero), \"es el menor y\", max(primer_numero, segundo_numero, tercer_numero), \"es el mayor\")"
   ]
  },
  {
   "cell_type": "markdown",
   "metadata": {},
   "source": [
    "\n",
    "## Ejercicio 6\n",
    "\n",
    "Modifica el ejercicio 4 para que indique si el número es positivo, negativo o cero."
   ]
  },
  {
   "cell_type": "code",
   "execution_count": 24,
   "metadata": {},
   "outputs": [
    {
     "name": "stdout",
     "output_type": "stream",
     "text": [
      "0 es cero\n"
     ]
    }
   ],
   "source": [
    "numero = int(input(\"escribe un número\"))\n",
    "if (numero > 0):\n",
    "    print(numero, \"es positivo\")\n",
    "elif (numero == 0):\n",
    "    print(numero, \"es cero\")\n",
    "else:\n",
    "    print(numero, \"es negativo\")"
   ]
  },
  {
   "cell_type": "markdown",
   "metadata": {},
   "source": [
    "## Ejercicio 7\n",
    "\n",
    "Implementa un programa en Python que pida un número del 1 al 12 por teclado y que muestre por pantalla el nombre del mes correspondiente.\n"
   ]
  },
  {
   "cell_type": "code",
   "execution_count": 27,
   "metadata": {},
   "outputs": [
    {
     "name": "stdout",
     "output_type": "stream",
     "text": [
      "Mes incorrecto\n"
     ]
    }
   ],
   "source": [
    "mes = input(\"Escribe un mes: \")\n",
    "\n",
    "if mes == \"1\": # Se pone como cadena porque no lo convierto\n",
    "    print(\"Enero\")\n",
    "elif mes == \"2\":\n",
    "    print(\"Febrero\")\n",
    "elif mes == \"3\":\n",
    "    print(\"Marzo\")\n",
    "elif mes == \"4\":\n",
    "    print(\"Abril\")\n",
    "elif mes == \"5\":\n",
    "    print(\"Mayo\")\n",
    "elif mes == \"6\":\n",
    "    print(\"Junio\")\n",
    "elif mes == \"7\":\n",
    "    print(\"Julio\")\n",
    "elif mes == \"8\":\n",
    "    print(\"Agosto\")\n",
    "elif mes == \"9\":\n",
    "    print(\"Septiembre\")\n",
    "elif mes == \"10\":\n",
    "    print(\"Octubre\")\n",
    "elif mes == \"11\":\n",
    "    print(\"Noviembre\")\n",
    "elif mes == \"12\":\n",
    "    print(\"Diciembre\")\n",
    "else:\n",
    "    print(\"Mes incorrecto\")"
   ]
  },
  {
   "cell_type": "markdown",
   "metadata": {},
   "source": [
    "## Ejercicio 8\n",
    "\n",
    "Implementa un programa en Python para mostrar por pantalla la calificación de una nota a partir de la puntuación introducida por teclado:\n",
    "\n",
    "- [0,5) Suspenso\n",
    "- [5,6) Aprobado\n",
    "- [6,7) Bien\n",
    "- [7,9) Notable\n",
    "- [9,10] Sobresaliente\n"
   ]
  },
  {
   "cell_type": "code",
   "execution_count": 8,
   "metadata": {},
   "outputs": [
    {
     "name": "stdout",
     "output_type": "stream",
     "text": [
      "Bien\n"
     ]
    }
   ],
   "source": [
    "nota = float(input(\"escribe la nota\"))\n",
    "if (nota < 0) or (nota > 10):\n",
    "    print(\"la nota tiene que estar entre 0 y 10\")\n",
    "elif(nota < 5):\n",
    "    print(\"Suspenso\")\n",
    "elif nota < 6:\n",
    "    print(\"Aprobado\")\n",
    "elif nota < 7:\n",
    "    print(\"Bien\")\n",
    "elif nota < 9:\n",
    "    print(\"Notable\")\n",
    "else:\n",
    "    print(\"Sobresaliente\")\n"
   ]
  },
  {
   "cell_type": "markdown",
   "metadata": {},
   "source": [
    "## Ejercicio 9\n",
    "\n",
    "Tu ordenador es *fan* de la serie *Game of Thrones* y no admite discusión al respeto, además, es muy purista y solo admite el título original.\n",
    "\n",
    "Crea un programa que pregunte al usuario cuál es su serie favorita y responda lo siguiente, según la contestación del usuario:\n",
    "\n",
    "- Si el usuario contesta “Game of Thrones” el ordenador responderá: `“Por supuesto, Game of Thrones es la mejor serie de la historia!”`\n",
    "- Si el usuario responde “Juego de Tronos” el ordenador responderá: `“No se dice \\<entrada\\>, se dice Game of Thrones”`\n",
    "- En caso contrario, responderá: `“No, la mejor es Game of Thrones!”`\n",
    "\n",
    "**VERSIÓN AVANZADA**: Busca información sobre los métodos `lower()` y `upper()` para poder contestar lo mismo independientemente de cómo el usuario combine mayúsculas y minúsculas."
   ]
  },
  {
   "cell_type": "code",
   "execution_count": 13,
   "metadata": {},
   "outputs": [
    {
     "name": "stdout",
     "output_type": "stream",
     "text": [
      "Dime tu serie favorita\n",
      "No se dice Juego de Tronos se dice Game of Thrones\n"
     ]
    }
   ],
   "source": [
    "serie = input(print(\"Dime tu serie favorita\")) \n",
    "serie_minusculas = serie.lower() #también en vez de incluir esta línea se puede poner el serie.lower() en las funciones, como en el siguiente ejemplo\n",
    "if (serie_minusculas == \"game of thrones\"):\n",
    "    print(\"Por suppuesto, Game of Thrones es la mejor serie de la historia\")\n",
    "elif (serie_minusculas == \"juego de tronos\"):\n",
    "    print (\"No se dice\", serie, \"se dice Game of Thrones\")\n",
    "else:\n",
    "    print (\"No, la mejor es Game of Thrones\")"
   ]
  },
  {
   "cell_type": "code",
   "execution_count": 15,
   "metadata": {},
   "outputs": [
    {
     "name": "stdout",
     "output_type": "stream",
     "text": [
      "Dime tu serie favorita\n",
      "No se dice Juego de tronos se dice Game of Thrones\n"
     ]
    }
   ],
   "source": [
    "serie = input(print(\"Dime tu serie favorita\"))\n",
    "match serie.lower():\n",
    "    case \"game of thrones\":\n",
    "        print(\"Por suppuesto, Game of Thrones es la mejor serie de la historia\")\n",
    "    case \"juego de tronos\":\n",
    "        print (\"No se dice\", serie, \"se dice Game of Thrones\")\n",
    "    case _:\n",
    "        print (\"No, la mejor es Game of Thrones\")"
   ]
  },
  {
   "cell_type": "markdown",
   "metadata": {},
   "source": [
    "## Ejercicio 10\n",
    "\n",
    "Implementa un programa en Python que pida un año por teclado y que indique si es bisiesto o no.\n",
    "\n",
    "Si el año no es divisible entre cuatro, no es bisiesto.\n",
    "- En caso contrario, si el año no es divisible entre 100, es bisiesto.\n",
    "- En caso contrario, si el año no es divisible entre 400, no es bisiesto.\n",
    "- En caso contrario, es bisesto.\n",
    "Emplea la construcción `if-elif-else`.\n",
    "\n",
    "**VERSIÓN AVANZADA**: ¿Serías capaz de hacerlo solamente con un `if-else` y una única condición?\n",
    "\n",
    "|Ano|\tResultado|\n",
    "|-|-|\n",
    "|2000|\tBisiesto|\n",
    "|2015|\tNo bisiesto|\n",
    "|1999|\tNo bisiesto|\n",
    "|1996|\tBisiesto|\n",
    "|1900|\tNo bisiesto|\n"
   ]
  },
  {
   "cell_type": "code",
   "execution_count": 2,
   "metadata": {},
   "outputs": [
    {
     "name": "stdout",
     "output_type": "stream",
     "text": [
      "no es bisiesto\n"
     ]
    }
   ],
   "source": [
    "año = int(input(\"escribe un año\\n\"))\n",
    "if (año % 4 != 0):\n",
    "    print(\"no es bisiesto\")\n",
    "elif (año % 100 != 0):\n",
    "    print(\"es bisiesto\")\n",
    "elif (año % 400 != 0):\n",
    "    print(\"no es bisiesto\")\n",
    "else:\n",
    "    print(\"es bisiesto\")"
   ]
  },
  {
   "cell_type": "code",
   "execution_count": 1,
   "metadata": {},
   "outputs": [
    {
     "name": "stdout",
     "output_type": "stream",
     "text": [
      "es bisiesto\n"
     ]
    }
   ],
   "source": [
    "año = int(input(\"escribe un año\\n\"))\n",
    "if (año % 4 != 0) or (año % 100 == 0) and (año % 400 != 0):\n",
    "    print(\"no es bisiesto\")\n",
    "else:\n",
    "    print(\"es bisiesto\")"
   ]
  },
  {
   "cell_type": "markdown",
   "metadata": {},
   "source": [
    "# Ejercicios de estructuras selectivas y operadores"
   ]
  },
  {
   "cell_type": "markdown",
   "metadata": {},
   "source": [
    "## Ejercicio 11\n",
    "\n",
    "Había una vez una tierra próspera y feliz. La gente pagaba impuestos, por supuesto, la felicidad tenía límites. Estos impuestos se pagaban una vez al año segundo los siguientes criterios:\n",
    "- Si la persona no cobraba más de 85528 thalers, el impuesto era el 18% de las ganancias menos 556,02 thalers.\n",
    "- Si las ganancias eran mayores, el impuesto era 14839,02 thalers sumados a un 32% del exceso de las ganancias por encima de los 85528 thalers.\n",
    "\n",
    "Debe aceptar un valor real y mostrar el cálculo del impuesto sin decimales. El gobierno de este país nunca devuelve dinero a sus habitantes, por lo que se el valor del impuesto es negativo, deberá indicar 0.\n",
    "\n",
    "|Ganancias|\tImpuesto|\n",
    "|-|-|\n",
    "|10000 thalers|\t1244 thalers|\n",
    "|100000 thalers|\t19470 thalers|\n",
    "|1000 thalers|\t0 thalers|\n",
    "|100 thalers|\t0 thalers|\n"
   ]
  },
  {
   "cell_type": "code",
   "execution_count": null,
   "metadata": {},
   "outputs": [],
   "source": [
    "ingresos = int(input(\"Escribe cuanto cobras\"))\n",
    "if ((ingresos * 0.18 - 556.02) < 0):\n",
    "    print(\"Este año no te toca pagar\")\n",
    "elif (ingresos <= 85528):\n",
    "    print(round(ingresos * 0.18 - 556.02))\n",
    "else:\n",
    "    print(round((ingresos - 85528) * 0.32 + 14839.02))"
   ]
  },
  {
   "cell_type": "markdown",
   "metadata": {},
   "source": [
    "## Ejercicio 12\n",
    "\n",
    "Crea una calculadora del mundo mágico de Harry Potter, que convirta galeones, sickels y knuts. Debe ofrecer inicialmente un menú en el que se indiquen las siguientes opciones:\n",
    "- Conversión de galeones a sickels.\n",
    "- Conversión de galeones a knuts.\n",
    "- Conversión de sickles a knuts.\n",
    "- Conversión de knuts a galeones, sickles y knuts (mínimo número de monedas posibles).\n",
    "\n",
    "Recuerda que:\n",
    "- 1 galeón = 17 sickles\n",
    "- 1 sickle = 29 knuts\n",
    "\n",
    "**DATOS DE PRUEBA**\n",
    "|Galeones|Sickles|Knuts|\n",
    "|-|-|-|\n",
    "|10 galeones|170 sickles|4930knuts|\n",
    "|45 galeones|765 sickles|22185knuts|\n",
    "\n",
    "Opción 4\n",
    "\n",
    "|knuts|galeones, sicles, knuts|\n",
    "|-|-|\n",
    "|1000 knuts|2 galeones, 0 sickles y 14 knuts|\n",
    "|36786 knuts|74 galeones,  10 sickles y 14 knuts|\n"
   ]
  },
  {
   "cell_type": "code",
   "execution_count": 7,
   "metadata": {},
   "outputs": [
    {
     "name": "stdout",
     "output_type": "stream",
     "text": [
      "¿Qué unidades quieres convertir?\n",
      "Puedes elegir entre\n",
      " a) Galeones a sickles\n",
      " b) Galeones a knuts\n",
      " c) Sickles a knuts\n",
      " d) Knuts a galeones, sickles y knuts\n",
      "\n",
      "Eso viene siendo 74 galeones 10 sickles y 14 knuts\n"
     ]
    }
   ],
   "source": [
    "#Sería más interesante fijar los factores de conversión como constantes para que si en un futuro esos factores de conversión cambian, poder cambiar su valor únicamente en un sitio\n",
    "#galeones_a_sickles = 17\n",
    "#sickles_a_knuts = 29\n",
    "#galeones_a_knuts = galeones_a_sickles * sickles_a_knuts\n",
    "\n",
    "#este ejercicio también se podía haber resuelto con match_case\n",
    "\n",
    "conversion = input(print(\"¿Qué unidades quieres convertir?\\nPuedes elegir entre\\n a) Galeones a sickles\\n b) Galeones a knuts\\n c) Sickles a knuts\\n d) Knuts a galeones, sickles y knuts\\n\"))\n",
    "if (conversion == \"a\"):\n",
    "    galeones = int(input(\"¿cuántos galeones dices que tienes?\\n\"))\n",
    "    print (\"Eso son\", galeones * 17, \"sickles\")\n",
    "elif (conversion == \"b\"):\n",
    "    galeones = int(input(\"¿de cuántos galeones estamos hablando?\\n\"))\n",
    "    print (\"Eso son\", galeones * 493, \"knuts\")\n",
    "elif (conversion == \"c\"):\n",
    "    sickles = int(input(\"¿cuántos sickles dices que tienes?\\n\"))\n",
    "    print (\"Bah, eso solo son\", sickles * 29, \"knuts\")\n",
    "elif (conversion == \"d\"):\n",
    "    knuts = int(input(\"a ver, dime cuántos knuts quieres convertir\\n\"))\n",
    "    print (\"Eso viene siendo\", (knuts // 29 // 17), \"galeones\", (knuts // 29) % 17, \"sickles y\", knuts % 29, \"knuts\")\n",
    "else:\n",
    "    print(\"No me hagas perder el tiempo sangre sucia, solo soy un conversor de divisas\")"
   ]
  },
  {
   "cell_type": "markdown",
   "metadata": {},
   "source": [
    "## Ejercicio 13\n",
    "\n",
    "Implementa un programa en Python que pida el día, mes y año de una fecha correcta y muestre la fecha del día siguiente. Supón que todos los meses tienen 30 días.\n",
    "\n",
    "**VERSIÓN AVANZADA**: Intenta utilizar la operación módulo."
   ]
  },
  {
   "cell_type": "code",
   "execution_count": 6,
   "metadata": {},
   "outputs": [
    {
     "name": "stdout",
     "output_type": "stream",
     "text": [
      "2-1-10\n"
     ]
    }
   ],
   "source": [
    "dia = int(input(\"escribe el día\"))\n",
    "mes = int(input(\"escribe es mes\"))\n",
    "año = int(input(\"escribe el año\"))\n",
    "\n",
    "if (dia < 1) or (dia > 30) or (mes < 1) or (mes > 12):\n",
    "    print(\"valor de fecha inválido\")\n",
    "elif (dia == 30) and (mes < 12):\n",
    "    dia = dia + 1\n",
    "    print(((dia - 1) // 30), mes + 1, año, sep=\"-\")\n",
    "elif (dia == 30) and (mes == 12):\n",
    "    dia = dia + 1\n",
    "    mes = mes + 1\n",
    "    print(((dia - 1) // 30), (mes - 1) // 12, año + 1, sep=\"-\")\n",
    "else:\n",
    "    print(dia + 1, mes, año, sep=\"-\")"
   ]
  },
  {
   "cell_type": "code",
   "execution_count": 1,
   "metadata": {},
   "outputs": [
    {
     "name": "stdout",
     "output_type": "stream",
     "text": [
      "Introduce la fecha: \n",
      "El día siguiente es: 1/1/11\n"
     ]
    }
   ],
   "source": [
    "print(\"Introduce la fecha: \")\n",
    "dia = int(input(\"Día: \"))\n",
    "mes = int(input(\"Mes :\"))\n",
    "año = int(input(\"Año: \"))\n",
    "\n",
    "dia_mañ = (dia % 30) +1\n",
    "mes_mañ = (mes % 12 + (dia + 1) // 31)\n",
    "año_mañ = año + (dia * mes + 1) // 361\n",
    "\n",
    "print (\"El día siguiente es: \", dia_mañ, \"/\", mes_mañ, \"/\", año_mañ, sep=\"\")"
   ]
  },
  {
   "cell_type": "code",
   "execution_count": 20,
   "metadata": {},
   "outputs": [
    {
     "name": "stdout",
     "output_type": "stream",
     "text": [
      "valor de fecha inválido\n"
     ]
    }
   ],
   "source": [
    "dia = int(input(\"escribe el día\"))\n",
    "mes = int(input(\"escribe el mes\"))\n",
    "año = int(input(\"escribe el año\"))\n",
    "\n",
    "if (dia < 30) and (mes <= 12):\n",
    "    print(dia + 1, mes, año, sep=\"-\")\n",
    "elif (dia == 30) and (mes < 12):\n",
    "    print(1, mes + 1, año, sep=\"-\")\n",
    "elif (dia == 30) and (mes == 12):\n",
    "    print(1, 1, año + 1, sep=\"-\")\n",
    "else:\n",
    "    print(\"valor de fecha inválido\")"
   ]
  },
  {
   "cell_type": "code",
   "execution_count": 5,
   "metadata": {},
   "outputs": [
    {
     "name": "stdout",
     "output_type": "stream",
     "text": [
      "Introduce un fecha: \n",
      "El día siguiente es 1/1/11\n"
     ]
    }
   ],
   "source": [
    "print(\"Introduce un fecha: \") #versión de Marta\n",
    "dia = int(input(\"Día: \"))\n",
    "mes = int(input(\"Mes :\"))\n",
    "ano = int(input(\"Año: \"))\n",
    "\n",
    "if dia >= 1 and dia <= 30 and mes >=1 and mes <= 12:\n",
    "    dia += 1\n",
    "    if dia > 30:\n",
    "        mes += 1\n",
    "        dia = 1\n",
    "        if mes > 12:\n",
    "            ano += 1\n",
    "            mes =1\n",
    "    print (\"El día siguiente es \", dia, \"/\", mes, \"/\", ano, sep=\"\")\n",
    "else:\n",
    "    print(\"La fecha no es correcta\")"
   ]
  },
  {
   "cell_type": "markdown",
   "metadata": {},
   "source": [
    "## Ejercicio 14\n",
    "\n",
    "Implementa un programa en Python que pida un día de la semana y devuelva si es o no fin de semana. Si introduce cualquier cadena que no sea un día de la semana deberá mostrar un error."
   ]
  },
  {
   "cell_type": "code",
   "execution_count": 9,
   "metadata": {},
   "outputs": [
    {
     "name": "stdout",
     "output_type": "stream",
     "text": [
      "día de fin de semana\n"
     ]
    }
   ],
   "source": [
    "dia = input(\"Escribe un fin de semana\")\n",
    "match dia.lower():\n",
    "    case \"lunes\" |\"martes\" | \"miércoles\" | \"jueves\" | \"viernes\":\n",
    "        print(\"día de semana\")\n",
    "    case \"sábado\" | \"domingo\":\n",
    "        print(\"día de fin de semana\")\n",
    "    case _:\n",
    "        print(\"Error, día no válido\")\n"
   ]
  },
  {
   "cell_type": "markdown",
   "metadata": {},
   "source": [
    "## Ejercicio 15\n",
    "Repite el ejercicio 8 (conversión de notas) utilizando la sentencia match-case. Las notas serán únicamente números enteros."
   ]
  },
  {
   "cell_type": "code",
   "execution_count": 2,
   "metadata": {},
   "outputs": [
    {
     "name": "stdout",
     "output_type": "stream",
     "text": [
      "Bien\n"
     ]
    }
   ],
   "source": [
    "nota = input(\"Escribe la nota del alumno\")\n",
    "match nota:\n",
    "    case \"0\" | \"1\" | \"2\" | \"3\" | \"4\":\n",
    "        print(\"Suspenso\")\n",
    "    case \"5\":\n",
    "        print(\"Aprobado\")\n",
    "    case \"6\":\n",
    "        print(\"Bien\")\n",
    "    case \"7\" | \"8\":\n",
    "        print(\"Notable\")\n",
    "    case \"9\" | \"10\":\n",
    "        print(\"Sobresaliente\")\n",
    "    case _:\n",
    "        print(\"Formato de nota incorrecto\")"
   ]
  }
 ],
 "metadata": {
  "kernelspec": {
   "display_name": "Python 3",
   "language": "python",
   "name": "python3"
  },
  "language_info": {
   "codemirror_mode": {
    "name": "ipython",
    "version": 3
   },
   "file_extension": ".py",
   "mimetype": "text/x-python",
   "name": "python",
   "nbconvert_exporter": "python",
   "pygments_lexer": "ipython3",
   "version": "3.12.6"
  },
  "orig_nbformat": 4
 },
 "nbformat": 4,
 "nbformat_minor": 2
}
