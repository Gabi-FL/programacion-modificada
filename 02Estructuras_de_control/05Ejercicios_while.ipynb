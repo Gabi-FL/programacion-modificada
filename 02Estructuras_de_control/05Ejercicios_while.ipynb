{
 "cells": [
  {
   "cell_type": "markdown",
   "metadata": {},
   "source": [
    "# Ejercicios `while`"
   ]
  },
  {
   "cell_type": "markdown",
   "metadata": {},
   "source": [
    "## Hoja de ruta\n",
    "Si acabas de empezar a programar, deberías ser capaz de resolver los ejercicios del 1 al 4."
   ]
  },
  {
   "cell_type": "markdown",
   "metadata": {},
   "source": [
    "## Ejercicio 1\n",
    "\n",
    "Pide al usuario que escriba una contraseña y utiliza un bucle while para seguir pidiendo la contraseña hasta que coincida aquella almacenada previamente en una variable."
   ]
  },
  {
   "cell_type": "code",
   "execution_count": 2,
   "metadata": {},
   "outputs": [
    {
     "name": "stdout",
     "output_type": "stream",
     "text": [
      "escribe la contraseña correcta\n",
      "escribe la contraseña correcta\n",
      "escribe la contraseña correcta\n",
      "escribe la contraseña correcta\n",
      "escribe la contraseña correcta\n",
      "escribe la contraseña correcta\n",
      "escribe la contraseña correcta\n",
      "contraseña correcta\n"
     ]
    }
   ],
   "source": [
    "contraseña_correcta = \"abcd\"\n",
    "intento = \"a\"\n",
    "\n",
    "while contraseña_correcta != intento:\n",
    "    intento = input(print(\"escribe la contraseña correcta\"))\n",
    "print(\"contraseña correcta\")\n"
   ]
  },
  {
   "cell_type": "markdown",
   "metadata": {},
   "source": [
    "## Ejercicio 2\n",
    "\n",
    "Implementa un programa que muestre continuamente este menú hasta que el usuario elija la opción de salir:\n",
    "```\n",
    "    1. Saludar\n",
    "    2. Despedir\n",
    "    3. Salir\n",
    "```\n",
    "\n",
    "Si el usuario elige \"Saludar\", el programa escribirá \"Hola\"; si elige \"Despedir\", escribirá \"Adiós\"; si elige \"Salir\", se detendrá la ejecución del programa."
   ]
  },
  {
   "cell_type": "code",
   "execution_count": 3,
   "metadata": {},
   "outputs": [
    {
     "name": "stdout",
     "output_type": "stream",
     "text": [
      "Escoge una opción\n",
      " 1. Saludar\n",
      " 2. Despedir\n",
      " 3. Salir\n",
      "Escoge una opción\n",
      " 1. Saludar\n",
      " 2. Despedir\n",
      " 3. Salir\n",
      "Escoge una opción\n",
      " 1. Saludar\n",
      " 2. Despedir\n",
      " 3. Salir\n",
      "Escoge una opción\n",
      " 1. Saludar\n",
      " 2. Despedir\n",
      " 3. Salir\n",
      "Escoge una opción\n",
      " 1. Saludar\n",
      " 2. Despedir\n",
      " 3. Salir\n",
      "hola\n",
      "Escoge una opción\n",
      " 1. Saludar\n",
      " 2. Despedir\n",
      " 3. Salir\n",
      "Adiós\n",
      "Escoge una opción\n",
      " 1. Saludar\n",
      " 2. Despedir\n",
      " 3. Salir\n"
     ]
    }
   ],
   "source": [
    "opcion_salida = \"3\"\n",
    "opcion = \"0\"\n",
    "\n",
    "while opcion != opcion_salida:\n",
    "    opcion = input(print(\"Escoge una opción\\n 1. Saludar\\n 2. Despedir\\n 3. Salir\"))\n",
    "    if opcion == \"1\":\n",
    "        print (\"hola\")\n",
    "    elif opcion == \"2\":\n",
    "        print (\"Adiós\")"
   ]
  },
  {
   "cell_type": "code",
   "execution_count": 6,
   "metadata": {},
   "outputs": [
    {
     "name": "stdout",
     "output_type": "stream",
     "text": [
      "Escoge una opción\n",
      " 1. Saludar\n",
      " 2. Despedir\n",
      " 3. Salir\n",
      "Escoge una opción\n",
      " 1. Saludar\n",
      " 2. Despedir\n",
      " 3. Salir\n",
      "Escoge una opción\n",
      " 1. Saludar\n",
      " 2. Despedir\n",
      " 3. Salir\n",
      "Escoge una opción\n",
      " 1. Saludar\n",
      " 2. Despedir\n",
      " 3. Salir\n"
     ]
    }
   ],
   "source": [
    "opcion_salida = \"3\"\n",
    "opcion = \"0\"\n",
    "\n",
    "while opcion != opcion_salida:\n",
    "    opcion = input(print(\"Escoge una opción\\n 1. Saludar\\n 2. Despedir\\n 3. Salir\"))\n",
    "    match opcion:\n",
    "        case 1:\n",
    "            print(\"Hola\")\n",
    "        case 2:\n",
    "            print(\"Adiós\")\n",
    "        "
   ]
  },
  {
   "cell_type": "markdown",
   "metadata": {},
   "source": [
    "\n",
    "## Ejercicio 3\n",
    "\n",
    "Implementa un programa que muestre al usuario los múltiplos de un número:\n",
    "\n",
    "1. Inicialmente, pregunta al usuario el número del que mostrar los múltiplos.\n",
    "2. A continuación, muestra cada múltiplo y pregunta al usuario si quiere seguir mostrando múltiplos.\n",
    "3. El programa continúa hasta que el usuario dice que no quiere ver más múltiplos.\n",
    "\n",
    "Ejemplo de ejecución:\n",
    "\n",
    "```\n",
    "Escribe un número para ver sus múltiplos: 3\n",
    "3\n",
    "¿Quiere ver más múltiplos? (s/n): s\n",
    "6\n",
    "¿Quiere ver más múltiplos? (s/n): s\n",
    "9\n",
    "¿Quiere ver más múltiplos? (s/n): n\n",
    "¡Hasta luego!\n",
    "```"
   ]
  },
  {
   "cell_type": "code",
   "execution_count": 9,
   "metadata": {},
   "outputs": [
    {
     "name": "stdout",
     "output_type": "stream",
     "text": [
      "Escribe un número para ver sus múltiplos: \n",
      "2\n",
      "quieres ver más múltipos? s/n\n",
      "4\n",
      "quieres ver más múltipos? s/n\n",
      "6\n",
      "quieres ver más múltipos? s/n\n",
      "8\n",
      "quieres ver más múltipos? s/n\n",
      "10\n",
      "quieres ver más múltipos? s/n\n"
     ]
    },
    {
     "ename": "KeyboardInterrupt",
     "evalue": "Interrupted by user",
     "output_type": "error",
     "traceback": [
      "\u001b[1;31m---------------------------------------------------------------------------\u001b[0m",
      "\u001b[1;31mKeyboardInterrupt\u001b[0m                         Traceback (most recent call last)",
      "Cell \u001b[1;32mIn[9], line 8\u001b[0m\n\u001b[0;32m      5\u001b[0m multiplicador \u001b[38;5;241m=\u001b[39m \u001b[38;5;241m2\u001b[39m\n\u001b[0;32m      7\u001b[0m \u001b[38;5;28;01mwhile\u001b[39;00m respuesta \u001b[38;5;241m!=\u001b[39m respuesta_salida:\n\u001b[1;32m----> 8\u001b[0m     respuesta \u001b[38;5;241m=\u001b[39m \u001b[38;5;28;43minput\u001b[39;49m\u001b[43m(\u001b[49m\u001b[38;5;28;43mprint\u001b[39;49m\u001b[43m(\u001b[49m\u001b[38;5;124;43m\"\u001b[39;49m\u001b[38;5;124;43mquieres ver más múltipos? s/n\u001b[39;49m\u001b[38;5;124;43m\"\u001b[39;49m\u001b[43m)\u001b[49m\u001b[43m)\u001b[49m\n\u001b[0;32m      9\u001b[0m     \u001b[38;5;28;01mif\u001b[39;00m respuesta \u001b[38;5;241m==\u001b[39m \u001b[38;5;124m\"\u001b[39m\u001b[38;5;124ms\u001b[39m\u001b[38;5;124m\"\u001b[39m:\n\u001b[0;32m     10\u001b[0m         \u001b[38;5;28mprint\u001b[39m(numero \u001b[38;5;241m*\u001b[39m multiplicador)\n",
      "File \u001b[1;32m~\\AppData\\Roaming\\Python\\Python312\\site-packages\\ipykernel\\kernelbase.py:1282\u001b[0m, in \u001b[0;36mKernel.raw_input\u001b[1;34m(self, prompt)\u001b[0m\n\u001b[0;32m   1280\u001b[0m     msg \u001b[38;5;241m=\u001b[39m \u001b[38;5;124m\"\u001b[39m\u001b[38;5;124mraw_input was called, but this frontend does not support input requests.\u001b[39m\u001b[38;5;124m\"\u001b[39m\n\u001b[0;32m   1281\u001b[0m     \u001b[38;5;28;01mraise\u001b[39;00m StdinNotImplementedError(msg)\n\u001b[1;32m-> 1282\u001b[0m \u001b[38;5;28;01mreturn\u001b[39;00m \u001b[38;5;28;43mself\u001b[39;49m\u001b[38;5;241;43m.\u001b[39;49m\u001b[43m_input_request\u001b[49m\u001b[43m(\u001b[49m\n\u001b[0;32m   1283\u001b[0m \u001b[43m    \u001b[49m\u001b[38;5;28;43mstr\u001b[39;49m\u001b[43m(\u001b[49m\u001b[43mprompt\u001b[49m\u001b[43m)\u001b[49m\u001b[43m,\u001b[49m\n\u001b[0;32m   1284\u001b[0m \u001b[43m    \u001b[49m\u001b[38;5;28;43mself\u001b[39;49m\u001b[38;5;241;43m.\u001b[39;49m\u001b[43m_parent_ident\u001b[49m\u001b[43m[\u001b[49m\u001b[38;5;124;43m\"\u001b[39;49m\u001b[38;5;124;43mshell\u001b[39;49m\u001b[38;5;124;43m\"\u001b[39;49m\u001b[43m]\u001b[49m\u001b[43m,\u001b[49m\n\u001b[0;32m   1285\u001b[0m \u001b[43m    \u001b[49m\u001b[38;5;28;43mself\u001b[39;49m\u001b[38;5;241;43m.\u001b[39;49m\u001b[43mget_parent\u001b[49m\u001b[43m(\u001b[49m\u001b[38;5;124;43m\"\u001b[39;49m\u001b[38;5;124;43mshell\u001b[39;49m\u001b[38;5;124;43m\"\u001b[39;49m\u001b[43m)\u001b[49m\u001b[43m,\u001b[49m\n\u001b[0;32m   1286\u001b[0m \u001b[43m    \u001b[49m\u001b[43mpassword\u001b[49m\u001b[38;5;241;43m=\u001b[39;49m\u001b[38;5;28;43;01mFalse\u001b[39;49;00m\u001b[43m,\u001b[49m\n\u001b[0;32m   1287\u001b[0m \u001b[43m\u001b[49m\u001b[43m)\u001b[49m\n",
      "File \u001b[1;32m~\\AppData\\Roaming\\Python\\Python312\\site-packages\\ipykernel\\kernelbase.py:1325\u001b[0m, in \u001b[0;36mKernel._input_request\u001b[1;34m(self, prompt, ident, parent, password)\u001b[0m\n\u001b[0;32m   1322\u001b[0m \u001b[38;5;28;01mexcept\u001b[39;00m \u001b[38;5;167;01mKeyboardInterrupt\u001b[39;00m:\n\u001b[0;32m   1323\u001b[0m     \u001b[38;5;66;03m# re-raise KeyboardInterrupt, to truncate traceback\u001b[39;00m\n\u001b[0;32m   1324\u001b[0m     msg \u001b[38;5;241m=\u001b[39m \u001b[38;5;124m\"\u001b[39m\u001b[38;5;124mInterrupted by user\u001b[39m\u001b[38;5;124m\"\u001b[39m\n\u001b[1;32m-> 1325\u001b[0m     \u001b[38;5;28;01mraise\u001b[39;00m \u001b[38;5;167;01mKeyboardInterrupt\u001b[39;00m(msg) \u001b[38;5;28;01mfrom\u001b[39;00m \u001b[38;5;28;01mNone\u001b[39;00m\n\u001b[0;32m   1326\u001b[0m \u001b[38;5;28;01mexcept\u001b[39;00m \u001b[38;5;167;01mException\u001b[39;00m:\n\u001b[0;32m   1327\u001b[0m     \u001b[38;5;28mself\u001b[39m\u001b[38;5;241m.\u001b[39mlog\u001b[38;5;241m.\u001b[39mwarning(\u001b[38;5;124m\"\u001b[39m\u001b[38;5;124mInvalid Message:\u001b[39m\u001b[38;5;124m\"\u001b[39m, exc_info\u001b[38;5;241m=\u001b[39m\u001b[38;5;28;01mTrue\u001b[39;00m)\n",
      "\u001b[1;31mKeyboardInterrupt\u001b[0m: Interrupted by user"
     ]
    }
   ],
   "source": [
    "numero = int(input(print(\"Escribe un número para ver sus múltiplos: \")))\n",
    "print (numero)\n",
    "respuesta =\"s\"\n",
    "respuesta_salida = \"n\"\n",
    "multiplicador = 2\n",
    "\n",
    "while respuesta != respuesta_salida:\n",
    "    respuesta = input(print(\"quieres ver más múltipos? s/n\"))\n",
    "    if respuesta == \"s\":\n",
    "        print(numero * multiplicador)\n",
    "        multiplicador += 1\n",
    "        \n",
    "print(\"Hasta luego\")"
   ]
  },
  {
   "cell_type": "code",
   "execution_count": 13,
   "metadata": {},
   "outputs": [
    {
     "name": "stdout",
     "output_type": "stream",
     "text": [
      "Escribe un número para ver sus múltiplos: \n",
      "2\n",
      "quieres ver más múltipos? s/n\n",
      "4\n",
      "quieres ver más múltipos? s/n\n"
     ]
    }
   ],
   "source": [
    "numero = int(input(print(\"Escribe un número para ver sus múltiplos: \")))\n",
    "respuesta =\"s\"\n",
    "multiplo = 0\n",
    "\n",
    "while respuesta != \"n\":\n",
    "    multiplo += numero\n",
    "    print (multiplo)\n",
    "    respuesta = input(print(\"quieres ver más múltipos? s/n\"))\n",
    "    "
   ]
  },
  {
   "cell_type": "code",
   "execution_count": 14,
   "metadata": {},
   "outputs": [
    {
     "name": "stdout",
     "output_type": "stream",
     "text": [
      "escribe el número del que quieras ver sus múltiplos\n",
      "escribe cuántos múltiplos quieres ver\n",
      "5\n",
      "10\n",
      "15\n",
      "20\n",
      "25\n",
      "30\n",
      "35\n",
      "40\n",
      "45\n"
     ]
    }
   ],
   "source": [
    "numero = int(input(print(\"escribe el número del que quieras ver sus múltiplos\")))\n",
    "n_mult = int(input(print(\"escribe cuántos múltiplos quieres ver\")))\n",
    "\n",
    "for i in range (1, n_mult + 1):\n",
    "    print(numero * i)\n"
   ]
  },
  {
   "cell_type": "markdown",
   "metadata": {},
   "source": [
    "## Ejercicio 4\n",
    "\n",
    "Una de las pruebas del torneo de los tres magos consiste en salir de una habitación adivinando un número secreto, para eso Dumbledore decidió aprovechar las nuevas tecnologías y quiere que crees un programa en Python que almacene en una variable el número secreto y sea capaz de comprobar tantas veces como sea preciso si los números indicados por los campeones son los correctos, para eso:\n",
    "- Debe preguntar un número hasta que se acierte el correcto.\n",
    "- Si el campeón no acierta, el programa devuelve `“Hahaha, estás atrapado en mi bucle”`\n",
    "- Si el campeón acierta, el programa devuelve `“Bien hecho. Eres libre!”`"
   ]
  },
  {
   "cell_type": "code",
   "execution_count": 8,
   "metadata": {},
   "outputs": [
    {
     "name": "stdout",
     "output_type": "stream",
     "text": [
      "Para salir, adivina el número secreto\n",
      "Hahaha, estás atrapado en mi bucle\n",
      "Prueba de nuevo\n",
      "Bien hecho. Eres libre!\n"
     ]
    }
   ],
   "source": [
    "numero_secreto = 1312\n",
    "numero = int (input(print(\"Para salir, adivina el número secreto\")))\n",
    "\n",
    "while numero != numero_secreto:\n",
    "    print (\"Hahaha, estás atrapado en mi bucle\")\n",
    "    numero = int (input(print(\"Prueba de nuevo\")))\n",
    "    \n",
    "print(\"Bien hecho. Eres libre!\")"
   ]
  },
  {
   "cell_type": "markdown",
   "metadata": {},
   "source": [
    "\n",
    "## Ejercicio 5\n",
    "\n",
    "\n",
    "Implementa un programa que calcule cuantos números naturales (1, 2, 3, 4...) debemos sumar en secuencia para obtener por lo menos un valor de 200000, es decir: hasta qué valor llegará el sumatorio `1 + 2 + 3 + 4 + 5 + ...` para que la suma alcance el valor 200000? Debes devolver el último número que se suma.\n",
    "\n",
    "El resultado es 632."
   ]
  },
  {
   "cell_type": "code",
   "execution_count": 22,
   "metadata": {},
   "outputs": [
    {
     "name": "stdout",
     "output_type": "stream",
     "text": [
      "632\n"
     ]
    }
   ],
   "source": [
    "suma = 0\n",
    "numero = 0\n",
    "\n",
    "while suma < 200000:\n",
    "    numero += 1\n",
    "    suma += numero\n",
    "\n",
    "print (numero)\n"
   ]
  },
  {
   "cell_type": "markdown",
   "metadata": {},
   "source": [
    "## Ejercicio 6\n",
    "\n",
    "Implementa un programa que pida por teclado la fecha de nacimiento de una persona (día, mes, año) y calcule su número de la suerte.\n",
    "\n",
    "El número de la suerte se calcula sumando el día, mes y año de la fecha de nacimiento y, a continuación, sumando las cifras obtenidas en la suma.\n",
    "\n",
    "Por ejemplo, si la fecha de nacimiento es 12/07/1980, calculamos el número de la suerte así: 12 + 7 + 1980 = 1999  -> 1+9+9+9 = 28\n",
    "\n",
    "Número de la suerte: 28\n"
   ]
  },
  {
   "cell_type": "code",
   "execution_count": 1,
   "metadata": {},
   "outputs": [
    {
     "name": "stdout",
     "output_type": "stream",
     "text": [
      "escribe el día de nacimiento\n",
      "escribe el mes de nacimiento\n",
      "escribe el año de nacimiento\n",
      "10\n"
     ]
    }
   ],
   "source": [
    "dia = int(input(print(\"escribe el día de nacimiento\")))\n",
    "mes = int(input(print(\"escribe el mes de nacimiento\")))\n",
    "año = int(input(print(\"escribe el año de nacimiento\")))\n",
    "suma = dia + mes + año\n",
    "print(((((suma % 1000) % 100) % 10) //1) + (((suma % 1000) % 100) // 10) + ((suma % 1000) // 100) + (suma // 1000))"
   ]
  },
  {
   "cell_type": "code",
   "execution_count": 2,
   "metadata": {},
   "outputs": [
    {
     "name": "stdout",
     "output_type": "stream",
     "text": [
      "Introduce tu fecha de nacimiento:\n",
      "escribe el día de nacimiento\n",
      "escribe el mes de nacimiento\n",
      "escribe el año de nacimiento\n",
      "28\n"
     ]
    }
   ],
   "source": [
    "#VERSIÓN DE MARTA PARA USAR EL WHILE\n",
    "\n",
    "print(\"Introduce tu fecha de nacimiento:\")\n",
    "dia = int(input(print(\"escribe el día de nacimiento\")))\n",
    "mes = int(input(print(\"escribe el mes de nacimiento\")))\n",
    "año = int(input(print(\"escribe el año de nacimiento\")))\n",
    "\n",
    "suma = dia + mes + año\n",
    "num_suerte = 0\n",
    "\n",
    "while suma != 0:\n",
    "    cifra = suma % 10\n",
    "    suma = suma //10\n",
    "    num_suerte += cifra\n",
    "\n",
    "print (\"tu número de la suerte es\", num_suerte)\n"
   ]
  },
  {
   "cell_type": "code",
   "execution_count": null,
   "metadata": {},
   "outputs": [],
   "source": [
    "#VERSIÓN DE MARTA COMPRIMIDA\n",
    "\n",
    "print(\"Introduce tu fecha de nacimiento:\")\n",
    "dia = int(input(print(\"escribe el día de nacimiento\")))\n",
    "mes = int(input(print(\"escribe el mes de nacimiento\")))\n",
    "año = int(input(print(\"escribe el año de nacimiento\")))\n",
    "\n",
    "suma = dia + mes + año\n",
    "num_suerte = 0\n",
    "\n",
    "while suma != 0:\n",
    "    num_suerte +=  suma % 10\n",
    "    suma = suma // 10\n",
    "    \n",
    "print (\"tu número de la suerte es\", num_suerte)"
   ]
  },
  {
   "cell_type": "code",
   "execution_count": 1,
   "metadata": {},
   "outputs": [
    {
     "name": "stdout",
     "output_type": "stream",
     "text": [
      "escribe tu fecha de nacimiento en formato ddMMaaaa\n",
      "31\n"
     ]
    }
   ],
   "source": [
    "data = input(print(\"escribe tu fecha de nacimiento en formato ddMMaaaa\"))\n",
    "num_suerte = 0\n",
    "\n",
    "for cifra in data:\n",
    "    num_suerte += int(cifra)\n",
    "print (num_suerte)\n",
    "    \n",
    "\n"
   ]
  }
 ],
 "metadata": {
  "kernelspec": {
   "display_name": "Python 3",
   "language": "python",
   "name": "python3"
  },
  "language_info": {
   "codemirror_mode": {
    "name": "ipython",
    "version": 3
   },
   "file_extension": ".py",
   "mimetype": "text/x-python",
   "name": "python",
   "nbconvert_exporter": "python",
   "pygments_lexer": "ipython3",
   "version": "3.12.6"
  },
  "orig_nbformat": 4
 },
 "nbformat": 4,
 "nbformat_minor": 2
}
