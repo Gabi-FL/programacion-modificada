{
 "cells": [
  {
   "cell_type": "markdown",
   "metadata": {},
   "source": [
    "# Ejercicios\n",
    "\n",
    "## Ejercicio 1\n",
    "\n",
    "Crea un programa en Python que tenga definido una lista de 7 posiciones que representan la temperatura máxima de cada día de la semana en una ciudad.\n",
    "\n",
    "Solicita al usuario que introduzca dos posiciones, y calculará la temperatura media entre esos días. Si los valores introducidos no son válidos, por estar fuera de los límites de la lista se capturará la excepción y la media será cero."
   ]
  },
  {
   "cell_type": "code",
   "execution_count": 1,
   "metadata": {},
   "outputs": [
    {
     "name": "stdout",
     "output_type": "stream",
     "text": [
      "la madia es de 25.0\n"
     ]
    }
   ],
   "source": [
    "lista = [24, 26, 27, 25, 21, 18, 15]\n",
    "posicion1 = int(input(\"Escribe la primera posición\"))\n",
    "posicion2 = int(input(\"Introduce la segunda posición\"))\n",
    "\n",
    "try:\n",
    "    print(f\"La media es de {round((lista[posicion1] + lista[posicion2]) / 2, 2)}\")\n",
    "except IndexError:\n",
    "    print(\"La media es 0\")\n",
    "except:\n",
    "    print(\"Los valores introducidos no son válidos\")"
   ]
  },
  {
   "cell_type": "markdown",
   "metadata": {},
   "source": [
    "## Ejercicio 2\n",
    "Usando control de excepciones, crea un programa que solicite al usuario un número y muestre por pantalla el valor de la raíz cuadrada de ese número. Si el número es negativo se mostrará un mensaje indicando que no es posible calcular la raíz cuadrada de un número negativo."
   ]
  },
  {
   "cell_type": "code",
   "execution_count": 6,
   "metadata": {},
   "outputs": [
    {
     "name": "stdout",
     "output_type": "stream",
     "text": [
      "No es un número entero\n"
     ]
    }
   ],
   "source": [
    "import math\n",
    "\n",
    "try:\n",
    "    numero = int(input(\"Introduce un número para calcular su raíz cuadrada\"))\n",
    "    try:\n",
    "        print(f\" La raíz cuadrada de {numero} es {math.sqrt(numero)}\")\n",
    "    except ValueError:\n",
    "        print(\"No se puede calcular la raíz de un número negativo\")\n",
    "except ValueError:\n",
    "    print(\"No es un número entero\")\n",
    "\n"
   ]
  },
  {
   "cell_type": "markdown",
   "metadata": {},
   "source": [
    "## Ejercicio 3\n",
    "Modifica el programa anterior para que el programa siga pidiendo un valor hasta que el usuario introduzca un número positivo."
   ]
  },
  {
   "cell_type": "code",
   "execution_count": 8,
   "metadata": {},
   "outputs": [
    {
     "name": "stdout",
     "output_type": "stream",
     "text": [
      "No se puede calcular la raíz de un número negativo\n",
      "No es un número entero\n",
      "No es un número entero\n",
      "No es un número entero\n",
      "No es un número entero\n",
      "No es un número entero\n",
      "No es un número entero\n",
      "No es un número entero\n",
      "No es un número entero\n",
      "No es un número entero\n",
      "No es un número entero\n",
      "No es un número entero\n",
      " La raíz cuadrada de 9 es 3.0\n"
     ]
    }
   ],
   "source": [
    "import math\n",
    "\n",
    "finalizar = False\n",
    "while finalizar is False:\n",
    "    try:\n",
    "        numero = int(input(\"Introduce un número para calcular su raíz cuadrada\"))\n",
    "        try:\n",
    "            print(f\" La raíz cuadrada de {numero} es {math.sqrt(numero)}\")\n",
    "            finalizar = True\n",
    "        except ValueError:\n",
    "            print(\"No se puede calcular la raíz de un número negativo\")\n",
    "    except ValueError:\n",
    "        print(\"No es un número entero\")"
   ]
  },
  {
   "cell_type": "markdown",
   "metadata": {},
   "source": [
    "## Ejercicio 4\n",
    "\n",
    "Investiga el funcionamiento del método `index()` de las listas. ¿Qué ocurre si el elemento no se encuentra en la lista?\n",
    "\n",
    "Crea una lista con los nombres de los meses del año. Solicita al usuario que introduzca un nombre de mes. Si el nombre se encuentra en la lista, se mostrará el número de mes. Si el nombre no se encuentra en la lista, se mostrará un mensaje indicando que no existe ese mes, y se volverá a solicitar al usuario que introduzca un nombre de mes, hasta que introduzca el nombre de un mes válido."
   ]
  },
  {
   "cell_type": "code",
   "execution_count": 13,
   "metadata": {},
   "outputs": [
    {
     "name": "stdout",
     "output_type": "stream",
     "text": [
      "Ese no es un mes\n",
      "Enero es el mes 1\n"
     ]
    }
   ],
   "source": [
    "meses = [\"enero\", \"febrero\", \"marzo\", \"abril\", \"mayo\", \"junio\", \"julio\", \"agosto\", \"septiembre\", \"octubre\", \"noviembre\", \"diciembre\"]\n",
    "finalizar = False\n",
    "while finalizar is False:\n",
    "    try:\n",
    "        mes = input(\"Escribe el nombre del mes para saber su número\")\n",
    "        print(f\"{mes} es el mes {meses.index(mes.lower()) + 1}\")\n",
    "        finalizar = True\n",
    "    except:\n",
    "        print(\"Ese no es un mes\")"
   ]
  },
  {
   "cell_type": "markdown",
   "metadata": {},
   "source": [
    "## Ejercicio 5\n",
    "\n",
    "Volviendo a utilizar el método `index()` de las listas, a partir de una lista con los nombres de las personas que forman un grupo, solicita al usuario que introduzca un nombre y cuenta cuántas veces aparece dicho nombre en la lista."
   ]
  },
  {
   "cell_type": "code",
   "execution_count": 15,
   "metadata": {},
   "outputs": [
    {
     "name": "stdout",
     "output_type": "stream",
     "text": [
      "Pablo aparece 5 veces en la lista\n"
     ]
    }
   ],
   "source": [
    "lista_nombres = [\"Pedro\", \"Manu\", \"Rubén\", \"Pablo\", \"Rubén\"]\n",
    "contador = 0\n",
    "inicio = 0\n",
    "hay_mas = True\n",
    "try:\n",
    "    nombre = input(\"Introduce un nombre\")\n",
    "    while hay_mas:\n",
    "        try:\n",
    "            for elemento in lista_nombres:\n",
    "                nombre_encontrado = lista_nombres.index(nombre, inicio)\n",
    "                inicio = nombre_encontrado + 1\n",
    "                contador += 1\n",
    "        except ValueError:\n",
    "            print(f\"{nombre} aparece {contador}\", \"vez\" if contador == 1 else \"veces\", \"en la lista\")\n",
    "            hay_mas = False\n",
    "except:\n",
    "    print(\"Ha ocurrido un error\")"
   ]
  }
 ],
 "metadata": {
  "kernelspec": {
   "display_name": "Python 3",
   "language": "python",
   "name": "python3"
  },
  "language_info": {
   "codemirror_mode": {
    "name": "ipython",
    "version": 3
   },
   "file_extension": ".py",
   "mimetype": "text/x-python",
   "name": "python",
   "nbconvert_exporter": "python",
   "pygments_lexer": "ipython3",
   "version": "3.12.6"
  }
 },
 "nbformat": 4,
 "nbformat_minor": 2
}
